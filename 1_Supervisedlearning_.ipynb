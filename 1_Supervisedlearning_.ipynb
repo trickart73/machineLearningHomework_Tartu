{
 "cells": [
  {
   "cell_type": "markdown",
   "metadata": {
    "colab_type": "text",
    "id": "JUqnK5ek1sbB"
   },
   "source": [
    "#COVID\n",
    "<font color='orange'>**If you attended the class in person, please don't forget to fill in [this form](https://docs.google.com/forms/d/e/1FAIpQLSfA7p1lxOhaXLw_2jO1OBvOzqheS0kjzm968S4uciXQKh5__g/viewform)**"
   ]
  },
  {
   "cell_type": "markdown",
   "metadata": {
    "colab_type": "text",
    "id": "qmpZeRhwGmqX"
   },
   "source": [
    "# Introduction to supervised learning \n",
    "\n",
    "Let's practice the material that was discussed during the lecture. Please, make a copy of this colaboratory in order to be able to make changes **(File -> Save a copy in Drive)**.\n",
    "\n",
    "## Homework #1\n",
    "\n",
    "This colaboratory also contains Homework #1 of the Machine Learning course, which is due **September 20, Sunday, midnight (23:59 EET time)**. To complete the homework, extract **(File -> Download .ipynb)** and submit to the course webpage.\n",
    "\n",
    "**NB! Links to your colaboratory will not be accepted as a solution!**"
   ]
  },
  {
   "cell_type": "markdown",
   "metadata": {
    "colab_type": "text",
    "id": "HAatB_cDv6-X"
   },
   "source": [
    "##List of Homework's exercises:\n",
    "1. [EX1](#scrollTo=tz9XASPxeqDC) - 2 points\n",
    "2. [EX2](#scrollTo=X2xsOtQCuHla&line=1&uniqifier=1) - 2 points\n",
    "3. [EX3](#scrollTo=1YXt-Gxw9UY7&line=1&uniqifier=1) - 2 points\n",
    "4. [EX4](#scrollTo=7p4GMeGK-QGL&line=1&uniqifier=1) - 1 points\n",
    "5. [EX5](#scrollTo=nqV2c5sDc_f2&line=2&uniqifier=1) - 3 points\n",
    "6. [Bonus 1](#scrollTo=_2T9ydozzcb-&line=3&uniqifier=1) - 2 points\n",
    "7. [Bonus 2](#scrollTo=UkOtofaRjH8P&line=1&uniqifier=1) - up to 5 points"
   ]
  },
  {
   "cell_type": "markdown",
   "metadata": {
    "colab_type": "text",
    "id": "ZV4uCvr556Ey"
   },
   "source": [
    "## Introducing Colaboratory (Colab)\n",
    "**Colaboratory**, is a great tool created by Google for individuals interested in getting a hands-on experience with Machine Learning (including Deep Learning). It offers a free CPU/**GPU** quota and a preconfigured virtual machine instance set up for to run Tensorflow and Keras libraries using a Jupyter notebook instance. **In one sentence, it is a perfect “getting started” point for experimentation with neural networks for any part-time hobbist or computer nerd**.\n",
    "\n",
    "*Introductory text by Oleg Żero (https://zerowithdot.com/colab-workspace/).*\n"
   ]
  },
  {
   "cell_type": "markdown",
   "metadata": {
    "colab_type": "text",
    "id": "E14WpFrxzm3t"
   },
   "source": []
  },
  {
   "cell_type": "code",
   "execution_count": null,
   "metadata": {
    "colab": {},
    "colab_type": "code",
    "id": "Zho6PPPezm2y"
   },
   "outputs": [],
   "source": []
  },
  {
   "cell_type": "code",
   "execution_count": null,
   "metadata": {
    "colab": {
     "base_uri": "https://localhost:8080/",
     "height": 36
    },
    "colab_type": "code",
    "executionInfo": {
     "elapsed": 1201,
     "status": "ok",
     "timestamp": 1600406257018,
     "user": {
      "displayName": "Victor Rebecq",
      "photoUrl": "",
      "userId": "06822429132380693157"
     },
     "user_tz": -180
    },
    "id": "cMZE8eDa6ZDP",
    "outputId": "bdeb58b0-cf3f-4ce5-c4ee-4b0d55e07372"
   },
   "outputs": [
    {
     "name": "stdout",
     "output_type": "stream",
     "text": [
      "sample_data\n"
     ]
    }
   ],
   "source": [
    "!ls"
   ]
  },
  {
   "cell_type": "code",
   "execution_count": null,
   "metadata": {
    "colab": {
     "base_uri": "https://localhost:8080/",
     "height": 36
    },
    "colab_type": "code",
    "executionInfo": {
     "elapsed": 1026,
     "status": "ok",
     "timestamp": 1600406259309,
     "user": {
      "displayName": "Victor Rebecq",
      "photoUrl": "",
      "userId": "06822429132380693157"
     },
     "user_tz": -180
    },
    "id": "XClwixqs5Czi",
    "outputId": "8991c1ac-623b-4af4-d9ec-f19e9fc57b8a"
   },
   "outputs": [
    {
     "name": "stdout",
     "output_type": "stream",
     "text": [
      "Hello world !\n"
     ]
    }
   ],
   "source": [
    "print(\"Hello world !\")"
   ]
  },
  {
   "cell_type": "markdown",
   "metadata": {
    "colab_type": "text",
    "id": "_y2ZD14f9EQt"
   },
   "source": [
    "## Classification with KNN on MNIST\n",
    "We shall use classical MNIST dataset to practice one of the simplest machine learning algorithms - Nearest Neighbour algorithm and its extension - K-Nearest Neighbour algorithm. MNIST stands for Mixed National Institute of Standards and Technology and contains almost 55000 small square 28×28 pixel grayscale images of digits from 0 to 9. Let's load it!"
   ]
  },
  {
   "cell_type": "markdown",
   "metadata": {
    "colab_type": "text",
    "id": "NJIhqUhr40Ks"
   },
   "source": [
    "### Setup: \n",
    "Here we will load necessary libraries (NumPy and Pandas) and MNIST dataset "
   ]
  },
  {
   "cell_type": "code",
   "execution_count": null,
   "metadata": {
    "colab": {
     "base_uri": "https://localhost:8080/",
     "height": 36
    },
    "colab_type": "code",
    "executionInfo": {
     "elapsed": 8009,
     "status": "ok",
     "timestamp": 1600406269167,
     "user": {
      "displayName": "Victor Rebecq",
      "photoUrl": "",
      "userId": "06822429132380693157"
     },
     "user_tz": -180
    },
    "id": "bqp9Kj1g4yFb",
    "outputId": "7f631ca2-1669-44a5-92c1-a584f94bf073"
   },
   "outputs": [
    {
     "name": "stdout",
     "output_type": "stream",
     "text": [
      "TensorFlow 1.x selected.\n"
     ]
    }
   ],
   "source": [
    "import numpy as np \n",
    "import pandas as pd\n",
    "import matplotlib.pyplot as plt\n",
    "\n",
    "import warnings\n",
    "warnings.filterwarnings('ignore', category = RuntimeWarning)\n",
    "\n",
    "import os\n",
    "\n",
    "# old school TF\n",
    "%tensorflow_version 1.x\n",
    "\n",
    "# Supress warnings by TF 1.x\n",
    "import tensorflow as tf\n",
    "tf.compat.v1.logging.set_verbosity(tf.compat.v1.logging.ERROR) # credit to Dmitry Lekhovitsky\n",
    "\n",
    "from tensorflow.examples.tutorials.mnist import input_data"
   ]
  },
  {
   "cell_type": "code",
   "execution_count": null,
   "metadata": {
    "colab": {
     "base_uri": "https://localhost:8080/",
     "height": 167
    },
    "colab_type": "code",
    "executionInfo": {
     "elapsed": 4450,
     "status": "ok",
     "timestamp": 1600406270725,
     "user": {
      "displayName": "Victor Rebecq",
      "photoUrl": "",
      "userId": "06822429132380693157"
     },
     "user_tz": -180
    },
    "id": "KEmje5XZ5JBU",
    "outputId": "4299ba38-fcfc-403b-ff17-bb8371cac4ae"
   },
   "outputs": [
    {
     "name": "stdout",
     "output_type": "stream",
     "text": [
      "Successfully downloaded train-images-idx3-ubyte.gz 9912422 bytes.\n",
      "Extracting MNIST_data/train-images-idx3-ubyte.gz\n",
      "Successfully downloaded train-labels-idx1-ubyte.gz 28881 bytes.\n",
      "Extracting MNIST_data/train-labels-idx1-ubyte.gz\n",
      "Successfully downloaded t10k-images-idx3-ubyte.gz 1648877 bytes.\n",
      "Extracting MNIST_data/t10k-images-idx3-ubyte.gz\n",
      "Successfully downloaded t10k-labels-idx1-ubyte.gz 4542 bytes.\n",
      "Extracting MNIST_data/t10k-labels-idx1-ubyte.gz\n"
     ]
    }
   ],
   "source": [
    "mnist = input_data.read_data_sets(\"MNIST_data/\", one_hot=False)"
   ]
  },
  {
   "cell_type": "code",
   "execution_count": null,
   "metadata": {
    "colab": {
     "base_uri": "https://localhost:8080/",
     "height": 36
    },
    "colab_type": "code",
    "executionInfo": {
     "elapsed": 1622,
     "status": "ok",
     "timestamp": 1600406274133,
     "user": {
      "displayName": "Victor Rebecq",
      "photoUrl": "",
      "userId": "06822429132380693157"
     },
     "user_tz": -180
    },
    "id": "cZzoTvgS6XQH",
    "outputId": "e40b5a9c-4261-44f3-9672-261ca52cbc6d"
   },
   "outputs": [
    {
     "name": "stdout",
     "output_type": "stream",
     "text": [
      "MNIST_data  sample_data\n"
     ]
    }
   ],
   "source": [
    "!ls"
   ]
  },
  {
   "cell_type": "markdown",
   "metadata": {
    "colab_type": "text",
    "id": "uuGg44WglSCR"
   },
   "source": [
    "We check the dimensionality of the downloaded images:"
   ]
  },
  {
   "cell_type": "code",
   "execution_count": null,
   "metadata": {
    "colab": {
     "base_uri": "https://localhost:8080/",
     "height": 36
    },
    "colab_type": "code",
    "executionInfo": {
     "elapsed": 1013,
     "status": "ok",
     "timestamp": 1600406275981,
     "user": {
      "displayName": "Victor Rebecq",
      "photoUrl": "",
      "userId": "06822429132380693157"
     },
     "user_tz": -180
    },
    "id": "WtOd4fiY5K_R",
    "outputId": "25a24c97-7a49-48a9-8d7f-8f634708ff8d"
   },
   "outputs": [
    {
     "name": "stdout",
     "output_type": "stream",
     "text": [
      "images are of shape: (55000, 784) and labels: (55000,)\n"
     ]
    }
   ],
   "source": [
    "images = np.vstack([img for img in mnist.train.images])\n",
    "labels = mnist.train.labels\n",
    "print(f\"images are of shape: {images.shape} and labels: {labels.shape}\")"
   ]
  },
  {
   "cell_type": "markdown",
   "metadata": {
    "colab_type": "text",
    "id": "6pjoMXl362uf"
   },
   "source": [
    "### Visualising MNIST"
   ]
  },
  {
   "cell_type": "code",
   "execution_count": null,
   "metadata": {
    "colab": {
     "base_uri": "https://localhost:8080/",
     "height": 1000
    },
    "colab_type": "code",
    "executionInfo": {
     "elapsed": 1183,
     "status": "ok",
     "timestamp": 1600406279778,
     "user": {
      "displayName": "Victor Rebecq",
      "photoUrl": "",
      "userId": "06822429132380693157"
     },
     "user_tz": -180
    },
    "id": "ukpUqfgl4S3j",
    "outputId": "681c9d88-7ccb-453a-d762-26e036320992"
   },
   "outputs": [
    {
     "data": {
      "text/plain": [
       "array([0.        , 0.        , 0.        , 0.        , 0.        ,\n",
       "       0.        , 0.        , 0.        , 0.        , 0.        ,\n",
       "       0.        , 0.        , 0.        , 0.        , 0.        ,\n",
       "       0.        , 0.        , 0.        , 0.        , 0.        ,\n",
       "       0.        , 0.        , 0.        , 0.        , 0.        ,\n",
       "       0.        , 0.        , 0.        , 0.        , 0.        ,\n",
       "       0.        , 0.        , 0.        , 0.        , 0.        ,\n",
       "       0.        , 0.        , 0.        , 0.        , 0.        ,\n",
       "       0.        , 0.        , 0.        , 0.        , 0.        ,\n",
       "       0.        , 0.        , 0.        , 0.        , 0.        ,\n",
       "       0.        , 0.        , 0.        , 0.        , 0.        ,\n",
       "       0.        , 0.        , 0.        , 0.        , 0.        ,\n",
       "       0.        , 0.        , 0.        , 0.        , 0.        ,\n",
       "       0.        , 0.        , 0.        , 0.        , 0.        ,\n",
       "       0.        , 0.        , 0.        , 0.        , 0.        ,\n",
       "       0.        , 0.        , 0.        , 0.        , 0.        ,\n",
       "       0.        , 0.        , 0.        , 0.        , 0.        ,\n",
       "       0.        , 0.        , 0.        , 0.        , 0.        ,\n",
       "       0.        , 0.        , 0.        , 0.        , 0.        ,\n",
       "       0.        , 0.        , 0.        , 0.        , 0.        ,\n",
       "       0.        , 0.        , 0.        , 0.        , 0.        ,\n",
       "       0.        , 0.        , 0.        , 0.        , 0.        ,\n",
       "       0.        , 0.        , 0.        , 0.        , 0.        ,\n",
       "       0.        , 0.        , 0.        , 0.        , 0.        ,\n",
       "       0.        , 0.        , 0.        , 0.        , 0.        ,\n",
       "       0.        , 0.        , 0.        , 0.        , 0.        ,\n",
       "       0.        , 0.        , 0.        , 0.        , 0.        ,\n",
       "       0.        , 0.        , 0.        , 0.        , 0.        ,\n",
       "       0.        , 0.        , 0.        , 0.        , 0.        ,\n",
       "       0.        , 0.        , 0.        , 0.        , 0.        ,\n",
       "       0.        , 0.        , 0.        , 0.        , 0.        ,\n",
       "       0.        , 0.        , 0.        , 0.        , 0.        ,\n",
       "       0.        , 0.        , 0.        , 0.        , 0.        ,\n",
       "       0.        , 0.        , 0.        , 0.        , 0.        ,\n",
       "       0.        , 0.        , 0.        , 0.        , 0.        ,\n",
       "       0.        , 0.        , 0.        , 0.        , 0.        ,\n",
       "       0.        , 0.        , 0.        , 0.        , 0.        ,\n",
       "       0.        , 0.        , 0.        , 0.        , 0.        ,\n",
       "       0.        , 0.        , 0.        , 0.        , 0.        ,\n",
       "       0.        , 0.        , 0.        , 0.        , 0.        ,\n",
       "       0.        , 0.        , 0.        , 0.        , 0.        ,\n",
       "       0.        , 0.        , 0.3803922 , 0.37647063, 0.3019608 ,\n",
       "       0.46274513, 0.2392157 , 0.        , 0.        , 0.        ,\n",
       "       0.        , 0.        , 0.        , 0.        , 0.        ,\n",
       "       0.        , 0.        , 0.        , 0.        , 0.        ,\n",
       "       0.        , 0.        , 0.3529412 , 0.5411765 , 0.9215687 ,\n",
       "       0.9215687 , 0.9215687 , 0.9215687 , 0.9215687 , 0.9215687 ,\n",
       "       0.9843138 , 0.9843138 , 0.9725491 , 0.9960785 , 0.9607844 ,\n",
       "       0.9215687 , 0.74509805, 0.08235294, 0.        , 0.        ,\n",
       "       0.        , 0.        , 0.        , 0.        , 0.        ,\n",
       "       0.        , 0.        , 0.        , 0.        , 0.54901963,\n",
       "       0.9843138 , 0.9960785 , 0.9960785 , 0.9960785 , 0.9960785 ,\n",
       "       0.9960785 , 0.9960785 , 0.9960785 , 0.9960785 , 0.9960785 ,\n",
       "       0.9960785 , 0.9960785 , 0.9960785 , 0.9960785 , 0.9960785 ,\n",
       "       0.7411765 , 0.09019608, 0.        , 0.        , 0.        ,\n",
       "       0.        , 0.        , 0.        , 0.        , 0.        ,\n",
       "       0.        , 0.        , 0.8862746 , 0.9960785 , 0.81568635,\n",
       "       0.7803922 , 0.7803922 , 0.7803922 , 0.7803922 , 0.54509807,\n",
       "       0.2392157 , 0.2392157 , 0.2392157 , 0.2392157 , 0.2392157 ,\n",
       "       0.5019608 , 0.8705883 , 0.9960785 , 0.9960785 , 0.7411765 ,\n",
       "       0.08235294, 0.        , 0.        , 0.        , 0.        ,\n",
       "       0.        , 0.        , 0.        , 0.        , 0.        ,\n",
       "       0.14901961, 0.32156864, 0.0509804 , 0.        , 0.        ,\n",
       "       0.        , 0.        , 0.        , 0.        , 0.        ,\n",
       "       0.        , 0.        , 0.        , 0.        , 0.13333334,\n",
       "       0.8352942 , 0.9960785 , 0.9960785 , 0.45098042, 0.        ,\n",
       "       0.        , 0.        , 0.        , 0.        , 0.        ,\n",
       "       0.        , 0.        , 0.        , 0.        , 0.        ,\n",
       "       0.        , 0.        , 0.        , 0.        , 0.        ,\n",
       "       0.        , 0.        , 0.        , 0.        , 0.        ,\n",
       "       0.        , 0.        , 0.        , 0.32941177, 0.9960785 ,\n",
       "       0.9960785 , 0.9176471 , 0.        , 0.        , 0.        ,\n",
       "       0.        , 0.        , 0.        , 0.        , 0.        ,\n",
       "       0.        , 0.        , 0.        , 0.        , 0.        ,\n",
       "       0.        , 0.        , 0.        , 0.        , 0.        ,\n",
       "       0.        , 0.        , 0.        , 0.        , 0.        ,\n",
       "       0.        , 0.32941177, 0.9960785 , 0.9960785 , 0.9176471 ,\n",
       "       0.        , 0.        , 0.        , 0.        , 0.        ,\n",
       "       0.        , 0.        , 0.        , 0.        , 0.        ,\n",
       "       0.        , 0.        , 0.        , 0.        , 0.        ,\n",
       "       0.        , 0.        , 0.        , 0.        , 0.        ,\n",
       "       0.        , 0.        , 0.        , 0.4156863 , 0.6156863 ,\n",
       "       0.9960785 , 0.9960785 , 0.95294124, 0.20000002, 0.        ,\n",
       "       0.        , 0.        , 0.        , 0.        , 0.        ,\n",
       "       0.        , 0.        , 0.        , 0.        , 0.        ,\n",
       "       0.        , 0.        , 0.        , 0.        , 0.        ,\n",
       "       0.        , 0.09803922, 0.45882356, 0.8941177 , 0.8941177 ,\n",
       "       0.8941177 , 0.9921569 , 0.9960785 , 0.9960785 , 0.9960785 ,\n",
       "       0.9960785 , 0.94117653, 0.        , 0.        , 0.        ,\n",
       "       0.        , 0.        , 0.        , 0.        , 0.        ,\n",
       "       0.        , 0.        , 0.        , 0.        , 0.        ,\n",
       "       0.        , 0.        , 0.26666668, 0.4666667 , 0.86274517,\n",
       "       0.9960785 , 0.9960785 , 0.9960785 , 0.9960785 , 0.9960785 ,\n",
       "       0.9960785 , 0.9960785 , 0.9960785 , 0.9960785 , 0.5568628 ,\n",
       "       0.        , 0.        , 0.        , 0.        , 0.        ,\n",
       "       0.        , 0.        , 0.        , 0.        , 0.        ,\n",
       "       0.        , 0.        , 0.        , 0.14509805, 0.73333335,\n",
       "       0.9921569 , 0.9960785 , 0.9960785 , 0.9960785 , 0.8745099 ,\n",
       "       0.8078432 , 0.8078432 , 0.29411766, 0.26666668, 0.8431373 ,\n",
       "       0.9960785 , 0.9960785 , 0.45882356, 0.        , 0.        ,\n",
       "       0.        , 0.        , 0.        , 0.        , 0.        ,\n",
       "       0.        , 0.        , 0.        , 0.        , 0.        ,\n",
       "       0.4431373 , 0.8588236 , 0.9960785 , 0.9490197 , 0.89019614,\n",
       "       0.45098042, 0.34901962, 0.12156864, 0.        , 0.        ,\n",
       "       0.        , 0.        , 0.7843138 , 0.9960785 , 0.9450981 ,\n",
       "       0.16078432, 0.        , 0.        , 0.        , 0.        ,\n",
       "       0.        , 0.        , 0.        , 0.        , 0.        ,\n",
       "       0.        , 0.        , 0.        , 0.6627451 , 0.9960785 ,\n",
       "       0.6901961 , 0.24313727, 0.        , 0.        , 0.        ,\n",
       "       0.        , 0.        , 0.        , 0.        , 0.18823531,\n",
       "       0.9058824 , 0.9960785 , 0.9176471 , 0.        , 0.        ,\n",
       "       0.        , 0.        , 0.        , 0.        , 0.        ,\n",
       "       0.        , 0.        , 0.        , 0.        , 0.        ,\n",
       "       0.        , 0.07058824, 0.48627454, 0.        , 0.        ,\n",
       "       0.        , 0.        , 0.        , 0.        , 0.        ,\n",
       "       0.        , 0.        , 0.32941177, 0.9960785 , 0.9960785 ,\n",
       "       0.6509804 , 0.        , 0.        , 0.        , 0.        ,\n",
       "       0.        , 0.        , 0.        , 0.        , 0.        ,\n",
       "       0.        , 0.        , 0.        , 0.        , 0.        ,\n",
       "       0.        , 0.        , 0.        , 0.        , 0.        ,\n",
       "       0.        , 0.        , 0.        , 0.        , 0.        ,\n",
       "       0.54509807, 0.9960785 , 0.9333334 , 0.22352943, 0.        ,\n",
       "       0.        , 0.        , 0.        , 0.        , 0.        ,\n",
       "       0.        , 0.        , 0.        , 0.        , 0.        ,\n",
       "       0.        , 0.        , 0.        , 0.        , 0.        ,\n",
       "       0.        , 0.        , 0.        , 0.        , 0.        ,\n",
       "       0.        , 0.        , 0.8235295 , 0.9803922 , 0.9960785 ,\n",
       "       0.65882355, 0.        , 0.        , 0.        , 0.        ,\n",
       "       0.        , 0.        , 0.        , 0.        , 0.        ,\n",
       "       0.        , 0.        , 0.        , 0.        , 0.        ,\n",
       "       0.        , 0.        , 0.        , 0.        , 0.        ,\n",
       "       0.        , 0.        , 0.        , 0.        , 0.        ,\n",
       "       0.9490197 , 0.9960785 , 0.93725497, 0.22352943, 0.        ,\n",
       "       0.        , 0.        , 0.        , 0.        , 0.        ,\n",
       "       0.        , 0.        , 0.        , 0.        , 0.        ,\n",
       "       0.        , 0.        , 0.        , 0.        , 0.        ,\n",
       "       0.        , 0.        , 0.        , 0.        , 0.        ,\n",
       "       0.        , 0.        , 0.34901962, 0.9843138 , 0.9450981 ,\n",
       "       0.3372549 , 0.        , 0.        , 0.        , 0.        ,\n",
       "       0.        , 0.        , 0.        , 0.        , 0.        ,\n",
       "       0.        , 0.        , 0.        , 0.        , 0.        ,\n",
       "       0.        , 0.        , 0.        , 0.        , 0.        ,\n",
       "       0.        , 0.        , 0.        , 0.        , 0.01960784,\n",
       "       0.8078432 , 0.96470594, 0.6156863 , 0.        , 0.        ,\n",
       "       0.        , 0.        , 0.        , 0.        , 0.        ,\n",
       "       0.        , 0.        , 0.        , 0.        , 0.        ,\n",
       "       0.        , 0.        , 0.        , 0.        , 0.        ,\n",
       "       0.        , 0.        , 0.        , 0.        , 0.        ,\n",
       "       0.        , 0.        , 0.01568628, 0.45882356, 0.27058825,\n",
       "       0.        , 0.        , 0.        , 0.        , 0.        ,\n",
       "       0.        , 0.        , 0.        , 0.        , 0.        ,\n",
       "       0.        , 0.        , 0.        , 0.        , 0.        ,\n",
       "       0.        , 0.        , 0.        , 0.        , 0.        ,\n",
       "       0.        , 0.        , 0.        , 0.        , 0.        ,\n",
       "       0.        , 0.        , 0.        , 0.        , 0.        ,\n",
       "       0.        , 0.        , 0.        , 0.        , 0.        ,\n",
       "       0.        , 0.        , 0.        , 0.        ], dtype=float32)"
      ]
     },
     "execution_count": 8,
     "metadata": {
      "tags": []
     },
     "output_type": "execute_result"
    }
   ],
   "source": [
    "images[0,:]"
   ]
  },
  {
   "cell_type": "code",
   "execution_count": null,
   "metadata": {
    "colab": {
     "base_uri": "https://localhost:8080/",
     "height": 248
    },
    "colab_type": "code",
    "executionInfo": {
     "elapsed": 944,
     "status": "ok",
     "timestamp": 1600406283839,
     "user": {
      "displayName": "Victor Rebecq",
      "photoUrl": "",
      "userId": "06822429132380693157"
     },
     "user_tz": -180
    },
    "id": "5Lz7Z0w164wa",
    "outputId": "1cc41aa3-ff11-4b89-eb66-3ba34c779947"
   },
   "outputs": [
    {
     "data": {
      "image/png": "[encoded data removed]",
      "text/plain": [
       "<Figure size 432x288 with 1 Axes>"
      ]
     },
     "metadata": {
      "needs_background": "light",
      "tags": []
     },
     "output_type": "display_data"
    }
   ],
   "source": [
    "# Let's resize and plot the first image\n",
    "img_matrix = images[45,:].reshape((28, 28))\n",
    "plt.imshow(img_matrix, plt.get_cmap('gray'));\n",
    "plt.axis('off')\n",
    "plt.show()"
   ]
  },
  {
   "cell_type": "markdown",
   "metadata": {
    "colab_type": "text",
    "id": "IhZI1zCV8MIB"
   },
   "source": [
    "What is the label of this image?"
   ]
  },
  {
   "cell_type": "code",
   "execution_count": null,
   "metadata": {
    "colab": {
     "base_uri": "https://localhost:8080/",
     "height": 36
    },
    "colab_type": "code",
    "executionInfo": {
     "elapsed": 961,
     "status": "ok",
     "timestamp": 1600406286618,
     "user": {
      "displayName": "Victor Rebecq",
      "photoUrl": "",
      "userId": "06822429132380693157"
     },
     "user_tz": -180
    },
    "id": "zyNG9jTt8Qyu",
    "outputId": "327bec33-e081-4ad4-cd0d-b9cba54803d3"
   },
   "outputs": [
    {
     "name": "stdout",
     "output_type": "stream",
     "text": [
      "Correct label of the first image is: 2\n"
     ]
    }
   ],
   "source": [
    "print (f\"Correct label of the first image is: {labels[94]}\")"
   ]
  },
  {
   "cell_type": "markdown",
   "metadata": {
    "colab_type": "text",
    "id": "X3bKSXt28y8T"
   },
   "source": [
    "### Subsampling\n",
    "\n",
    "Although, in practice you typically want to use as much data as possible to train your models, large datasets are not very suitable for experimenting and visualization -- it is just too annoying to have to wait minutes for each step to continue. Thus, 55000 examples is a bit too much for our purposes, so why not to sample just 2000."
   ]
  },
  {
   "cell_type": "code",
   "execution_count": null,
   "metadata": {
    "colab": {},
    "colab_type": "code",
    "id": "SDDMSi-29R72"
   },
   "outputs": [],
   "source": [
    "train_images = images[0:2000,:]\n",
    "train_labels = labels[0:2000]\n",
    "\n",
    "test_images = images[2000:3000,:]\n",
    "test_labels = labels[2000:3000]"
   ]
  },
  {
   "cell_type": "code",
   "execution_count": null,
   "metadata": {
    "colab": {
     "base_uri": "https://localhost:8080/",
     "height": 265
    },
    "colab_type": "code",
    "executionInfo": {
     "elapsed": 1437,
     "status": "ok",
     "timestamp": 1600406291471,
     "user": {
      "displayName": "Victor Rebecq",
      "photoUrl": "",
      "userId": "06822429132380693157"
     },
     "user_tz": -180
    },
    "id": "U01rOKxi9S8K",
    "outputId": "51277068-57d7-49ae-87f5-8dfac488c509"
   },
   "outputs": [
    {
     "data": {
      "image/png": "[encoded data removed]",
      "text/plain": [
       "<Figure size 432x288 with 1 Axes>"
      ]
     },
     "metadata": {
      "needs_background": "light",
      "tags": []
     },
     "output_type": "display_data"
    }
   ],
   "source": [
    "# We should make sure that the distribution is more or less uniform across our samples\n",
    "plt.hist(train_labels);"
   ]
  },
  {
   "cell_type": "markdown",
   "metadata": {
    "colab_type": "text",
    "id": "vqX3QBjzpOhl"
   },
   "source": [
    "Let's see some more examples from all classes."
   ]
  },
  {
   "cell_type": "code",
   "execution_count": null,
   "metadata": {
    "colab": {
     "base_uri": "https://localhost:8080/",
     "height": 1000
    },
    "colab_type": "code",
    "executionInfo": {
     "elapsed": 3898,
     "status": "ok",
     "timestamp": 1600409425429,
     "user": {
      "displayName": "Victor Rebecq",
      "photoUrl": "",
      "userId": "06822429132380693157"
     },
     "user_tz": -180
    },
    "id": "2quhKyr2pOhl",
    "outputId": "27f5a465-1d30-461c-a833-23b512cb1335"
   },
   "outputs": [
    {
     "name": "stdout",
     "output_type": "stream",
     "text": [
      "i; 0 idx; 398 idxs; [ 398    7   10 1960  729 1502  196]\n",
      "i; 1 idx; 7 idxs; [ 398    7   10 1960  729 1502  196]\n",
      "i; 2 idx; 10 idxs; [ 398    7   10 1960  729 1502  196]\n",
      "i; 3 idx; 1960 idxs; [ 398    7   10 1960  729 1502  196]\n",
      "i; 4 idx; 729 idxs; [ 398    7   10 1960  729 1502  196]\n",
      "i; 5 idx; 1502 idxs; [ 398    7   10 1960  729 1502  196]\n",
      "i; 6 idx; 196 idxs; [ 398    7   10 1960  729 1502  196]\n",
      "i; 0 idx; 630 idxs; [ 630 1834  516 1110 1530 1793 1575]\n",
      "i; 1 idx; 1834 idxs; [ 630 1834  516 1110 1530 1793 1575]\n",
      "i; 2 idx; 516 idxs; [ 630 1834  516 1110 1530 1793 1575]\n",
      "i; 3 idx; 1110 idxs; [ 630 1834  516 1110 1530 1793 1575]\n",
      "i; 4 idx; 1530 idxs; [ 630 1834  516 1110 1530 1793 1575]\n",
      "i; 5 idx; 1793 idxs; [ 630 1834  516 1110 1530 1793 1575]\n",
      "i; 6 idx; 1575 idxs; [ 630 1834  516 1110 1530 1793 1575]\n",
      "i; 0 idx; 110 idxs; [ 110 1860 1639 1327 1743   16 1771]\n",
      "i; 1 idx; 1860 idxs; [ 110 1860 1639 1327 1743   16 1771]\n",
      "i; 2 idx; 1639 idxs; [ 110 1860 1639 1327 1743   16 1771]\n",
      "i; 3 idx; 1327 idxs; [ 110 1860 1639 1327 1743   16 1771]\n",
      "i; 4 idx; 1743 idxs; [ 110 1860 1639 1327 1743   16 1771]\n",
      "i; 5 idx; 16 idxs; [ 110 1860 1639 1327 1743   16 1771]\n",
      "i; 6 idx; 1771 idxs; [ 110 1860 1639 1327 1743   16 1771]\n",
      "i; 0 idx; 812 idxs; [ 812  323  987 1362 1216  493  193]\n",
      "i; 1 idx; 323 idxs; [ 812  323  987 1362 1216  493  193]\n",
      "i; 2 idx; 987 idxs; [ 812  323  987 1362 1216  493  193]\n",
      "i; 3 idx; 1362 idxs; [ 812  323  987 1362 1216  493  193]\n",
      "i; 4 idx; 1216 idxs; [ 812  323  987 1362 1216  493  193]\n",
      "i; 5 idx; 493 idxs; [ 812  323  987 1362 1216  493  193]\n",
      "i; 6 idx; 193 idxs; [ 812  323  987 1362 1216  493  193]\n",
      "i; 0 idx; 1127 idxs; [1127 1890  175  406 1308  410  278]\n",
      "i; 1 idx; 1890 idxs; [1127 1890  175  406 1308  410  278]\n",
      "i; 2 idx; 175 idxs; [1127 1890  175  406 1308  410  278]\n",
      "i; 3 idx; 406 idxs; [1127 1890  175  406 1308  410  278]\n",
      "i; 4 idx; 1308 idxs; [1127 1890  175  406 1308  410  278]\n",
      "i; 5 idx; 410 idxs; [1127 1890  175  406 1308  410  278]\n",
      "i; 6 idx; 278 idxs; [1127 1890  175  406 1308  410  278]\n",
      "i; 0 idx; 1451 idxs; [1451 1011 1569  847  606  423 1112]\n",
      "i; 1 idx; 1011 idxs; [1451 1011 1569  847  606  423 1112]\n",
      "i; 2 idx; 1569 idxs; [1451 1011 1569  847  606  423 1112]\n",
      "i; 3 idx; 847 idxs; [1451 1011 1569  847  606  423 1112]\n",
      "i; 4 idx; 606 idxs; [1451 1011 1569  847  606  423 1112]\n",
      "i; 5 idx; 423 idxs; [1451 1011 1569  847  606  423 1112]\n",
      "i; 6 idx; 1112 idxs; [1451 1011 1569  847  606  423 1112]\n",
      "i; 0 idx; 629 idxs; [ 629 1239 1396 1551  759  329 1486]\n",
      "i; 1 idx; 1239 idxs; [ 629 1239 1396 1551  759  329 1486]\n",
      "i; 2 idx; 1396 idxs; [ 629 1239 1396 1551  759  329 1486]\n",
      "i; 3 idx; 1551 idxs; [ 629 1239 1396 1551  759  329 1486]\n",
      "i; 4 idx; 759 idxs; [ 629 1239 1396 1551  759  329 1486]\n",
      "i; 5 idx; 329 idxs; [ 629 1239 1396 1551  759  329 1486]\n",
      "i; 6 idx; 1486 idxs; [ 629 1239 1396 1551  759  329 1486]\n",
      "i; 0 idx; 1947 idxs; [1947 1224  308 1050 1397  100 1315]\n",
      "i; 1 idx; 1224 idxs; [1947 1224  308 1050 1397  100 1315]\n",
      "i; 2 idx; 308 idxs; [1947 1224  308 1050 1397  100 1315]\n",
      "i; 3 idx; 1050 idxs; [1947 1224  308 1050 1397  100 1315]\n",
      "i; 4 idx; 1397 idxs; [1947 1224  308 1050 1397  100 1315]\n",
      "i; 5 idx; 100 idxs; [1947 1224  308 1050 1397  100 1315]\n",
      "i; 6 idx; 1315 idxs; [1947 1224  308 1050 1397  100 1315]\n",
      "i; 0 idx; 474 idxs; [ 474  894 1470  633 1187  418 1957]\n",
      "i; 1 idx; 894 idxs; [ 474  894 1470  633 1187  418 1957]\n",
      "i; 2 idx; 1470 idxs; [ 474  894 1470  633 1187  418 1957]\n",
      "i; 3 idx; 633 idxs; [ 474  894 1470  633 1187  418 1957]\n",
      "i; 4 idx; 1187 idxs; [ 474  894 1470  633 1187  418 1957]\n",
      "i; 5 idx; 418 idxs; [ 474  894 1470  633 1187  418 1957]\n",
      "i; 6 idx; 1957 idxs; [ 474  894 1470  633 1187  418 1957]\n",
      "i; 0 idx; 1679 idxs; [1679 1295 1285   44  727  386  868]\n",
      "i; 1 idx; 1295 idxs; [1679 1295 1285   44  727  386  868]\n",
      "i; 2 idx; 1285 idxs; [1679 1295 1285   44  727  386  868]\n",
      "i; 3 idx; 44 idxs; [1679 1295 1285   44  727  386  868]\n",
      "i; 4 idx; 727 idxs; [1679 1295 1285   44  727  386  868]\n",
      "i; 5 idx; 386 idxs; [1679 1295 1285   44  727  386  868]\n",
      "i; 6 idx; 868 idxs; [1679 1295 1285   44  727  386  868]\n"
     ]
    },
    {
     "data": {
      "image/png": "[encoded data removed]",
      "text/plain": [
       "<Figure size 720x576 with 70 Axes>"
      ]
     },
     "metadata": {
      "needs_background": "light",
      "tags": []
     },
     "output_type": "display_data"
    }
   ],
   "source": [
    "plt.rcParams['figure.figsize'] = (10.0, 8.0) # set default size of plots\n",
    "# \"Names\" of classes:\n",
    "classes =  ['0', '1', '2', '3', '4', '5', '6', '7', '8', '9']\n",
    "\n",
    "num_classes = len(classes)\n",
    "samples_per_class = 7 # Number of images from each class we want to see\n",
    "for y, cls in enumerate(classes):\n",
    "    idxs = np.flatnonzero(train_labels == y)\n",
    "    #print(idxs)\n",
    "    idxs = np.random.choice(idxs, samples_per_class, replace=False)\n",
    "    #print(idxs)\n",
    "    for i, idx in enumerate(idxs):\n",
    "        print(\"i;\",i,\"idx;\",idx,\"idxs;\",idxs)\n",
    "        plt_idx = i * num_classes + y + 1\n",
    "        plt.subplot(samples_per_class, num_classes, plt_idx)\n",
    "        plt.imshow(train_images[idx].reshape((28, 28)), plt.get_cmap('gray'))\n",
    "        plt.axis('off')\n",
    "        if i == 0:\n",
    "            plt.title(cls)\n",
    "plt.show()"
   ]
  },
  {
   "cell_type": "markdown",
   "metadata": {
    "colab_type": "text",
    "id": "eQH4v-HBeqCX"
   },
   "source": [
    "**Classroom exercise**: Let's define a distance function, let it be Eucledian distance (L2)"
   ]
  },
  {
   "cell_type": "code",
   "execution_count": null,
   "metadata": {
    "colab": {
     "base_uri": "https://localhost:8080/",
     "height": 193
    },
    "colab_type": "code",
    "executionInfo": {
     "elapsed": 859,
     "status": "error",
     "timestamp": 1600406305109,
     "user": {
      "displayName": "Victor Rebecq",
      "photoUrl": "",
      "userId": "06822429132380693157"
     },
     "user_tz": -180
    },
    "id": "b_miS8IX_-cz",
    "outputId": "f9fef3ba-4f1b-4be8-9907-36be1d781dc3"
   },
   "outputs": [
    {
     "ename": "NameError",
     "evalue": "ignored",
     "output_type": "error",
     "traceback": [
      "\u001b[0;31m---------------------------------------------------------------------------\u001b[0m",
      "\u001b[0;31mNameError\u001b[0m                                 Traceback (most recent call last)",
      "\u001b[0;32m<ipython-input-14-6268016053ca>\u001b[0m in \u001b[0;36m<module>\u001b[0;34m()\u001b[0m\n\u001b[1;32m      1\u001b[0m \u001b[0;31m#(x1, x2) (y1, y2)\u001b[0m\u001b[0;34m\u001b[0m\u001b[0;34m\u001b[0m\u001b[0;34m\u001b[0m\u001b[0m\n\u001b[0;32m----> 2\u001b[0;31m \u001b[0mnp\u001b[0m\u001b[0;34m.\u001b[0m\u001b[0msqrt\u001b[0m\u001b[0;34m(\u001b[0m\u001b[0;34m(\u001b[0m\u001b[0mx1\u001b[0m\u001b[0;34m-\u001b[0m\u001b[0my2\u001b[0m\u001b[0;34m)\u001b[0m\u001b[0;34m**\u001b[0m\u001b[0;36m2\u001b[0m \u001b[0;34m+\u001b[0m \u001b[0;34m(\u001b[0m\u001b[0mx2\u001b[0m\u001b[0;34m-\u001b[0m\u001b[0my2\u001b[0m\u001b[0;34m)\u001b[0m\u001b[0;34m**\u001b[0m\u001b[0;36m2\u001b[0m\u001b[0;34m)\u001b[0m\u001b[0;34m\u001b[0m\u001b[0;34m\u001b[0m\u001b[0m\n\u001b[0m",
      "\u001b[0;31mNameError\u001b[0m: name 'x1' is not defined"
     ]
    }
   ],
   "source": [
    "#(x1, x2) (y1, y2)\n",
    "np.sqrt((x1-y2)**2 + (x2-y2)**2)"
   ]
  },
  {
   "cell_type": "code",
   "execution_count": null,
   "metadata": {
    "colab": {
     "base_uri": "https://localhost:8080/",
     "height": 193
    },
    "colab_type": "code",
    "executionInfo": {
     "elapsed": 1096,
     "status": "error",
     "timestamp": 1600360377538,
     "user": {
      "displayName": "Victor Rebecq",
      "photoUrl": "",
      "userId": "06822429132380693157"
     },
     "user_tz": -180
    },
    "id": "y4yVi78NAnrF",
    "outputId": "c6866c26-214e-4d68-a0c7-4819555cd667"
   },
   "outputs": [
    {
     "ename": "NameError",
     "evalue": "ignored",
     "output_type": "error",
     "traceback": [
      "\u001b[0;31m---------------------------------------------------------------------------\u001b[0m",
      "\u001b[0;31mNameError\u001b[0m                                 Traceback (most recent call last)",
      "\u001b[0;32m<ipython-input-16-36f41995d86b>\u001b[0m in \u001b[0;36m<module>\u001b[0;34m()\u001b[0m\n\u001b[1;32m      1\u001b[0m \u001b[0;31m#img1 and img2 [:784]\u001b[0m\u001b[0;34m\u001b[0m\u001b[0;34m\u001b[0m\u001b[0;34m\u001b[0m\u001b[0m\n\u001b[0;32m----> 2\u001b[0;31m \u001b[0mnp\u001b[0m\u001b[0;34m.\u001b[0m\u001b[0msqrt\u001b[0m\u001b[0;34m(\u001b[0m\u001b[0mnp\u001b[0m\u001b[0;34m.\u001b[0m\u001b[0msum\u001b[0m\u001b[0;34m(\u001b[0m\u001b[0mimg1\u001b[0m\u001b[0;34m-\u001b[0m\u001b[0mimg2\u001b[0m\u001b[0;34m)\u001b[0m\u001b[0;34m**\u001b[0m\u001b[0;36m2\u001b[0m\u001b[0;34m)\u001b[0m\u001b[0;34m\u001b[0m\u001b[0;34m\u001b[0m\u001b[0m\n\u001b[0m",
      "\u001b[0;31mNameError\u001b[0m: name 'img1' is not defined"
     ]
    }
   ],
   "source": [
    "#img1 and img2 [:784]\n",
    "np.sqrt(np.sum(img1-img2)**2)"
   ]
  },
  {
   "cell_type": "code",
   "execution_count": null,
   "metadata": {
    "colab": {},
    "colab_type": "code",
    "id": "SGcd0I9teqCY"
   },
   "outputs": [],
   "source": [
    "def dist(img1, img2):\n",
    "  ##### YOUR CODE STARTS #####\n",
    "  return(np.sqrt(np.sum((img1 - img2)**2)))\n",
    "  ##### YOUR CODE ENDS ##### (please do not delete this line)"
   ]
  },
  {
   "cell_type": "markdown",
   "metadata": {
    "colab_type": "text",
    "id": "3yZpyMGQ2vtJ"
   },
   "source": [
    "Check the validity of the function here:"
   ]
  },
  {
   "cell_type": "code",
   "execution_count": null,
   "metadata": {
    "colab": {
     "base_uri": "https://localhost:8080/",
     "height": 36
    },
    "colab_type": "code",
    "executionInfo": {
     "elapsed": 547,
     "status": "ok",
     "timestamp": 1600406310298,
     "user": {
      "displayName": "Victor Rebecq",
      "photoUrl": "",
      "userId": "06822429132380693157"
     },
     "user_tz": -180
    },
    "id": "DGzbw4iDy2q8",
    "outputId": "34dfc2e2-f407-4861-bfa8-e497fef2c2a9"
   },
   "outputs": [
    {
     "name": "stdout",
     "output_type": "stream",
     "text": [
      "Distance between first two images is 11.85839557647705 and should be about 11.858\n"
     ]
    }
   ],
   "source": [
    "print(f\"Distance between first two images is {dist(train_images[0], train_images[1])} and should be about 11.858\")"
   ]
  },
  {
   "cell_type": "markdown",
   "metadata": {
    "colab_type": "text",
    "id": "_2mAqlYAeqCc"
   },
   "source": [
    "You can play with the defined function below. Check that the distance between images of the same digit is typically smaller than the distance between images of different digits."
   ]
  },
  {
   "cell_type": "code",
   "execution_count": null,
   "metadata": {
    "colab": {
     "base_uri": "https://localhost:8080/",
     "height": 54
    },
    "colab_type": "code",
    "executionInfo": {
     "elapsed": 527,
     "status": "ok",
     "timestamp": 1600406312636,
     "user": {
      "displayName": "Victor Rebecq",
      "photoUrl": "",
      "userId": "06822429132380693157"
     },
     "user_tz": -180
    },
    "id": "yv5jbMDIeqCd",
    "outputId": "50b6218d-b56d-4344-d7b3-a2eb823d97c4"
   },
   "outputs": [
    {
     "name": "stdout",
     "output_type": "stream",
     "text": [
      "Distance between image with a class 3 and class 6 is 10.872645378112793\n",
      "Distance between image with a class 3 and class 3 is 8.07426929473877\n"
     ]
    }
   ],
   "source": [
    "print(f\"Distance between image with a class {train_labels[1]} and class {train_labels[3]} is {dist(train_images[1], train_images[3])}\")\n",
    "print(f\"Distance between image with a class {train_labels[1]} and class {train_labels[11]} is {dist(train_images[1], train_images[11])}\")"
   ]
  },
  {
   "cell_type": "markdown",
   "metadata": {
    "colab_type": "text",
    "id": "Q1OhO80neqCg"
   },
   "source": [
    "Now the actual algorithm. It consists of three steps.\n",
    "\n",
    "1. Compute distances to all points in the dataset\n",
    "2. Find the closest point, and \n",
    "3. Report the corresponding label.\n",
    "\n",
    "**Classroom exercise**: Implement the three steps.\n",
    "\n",
    "We shall do it gently. First we pick a sample image that we will be classifying. Let us say that the first image from the `test_images` is an unknown image sent by our friend:"
   ]
  },
  {
   "cell_type": "code",
   "execution_count": null,
   "metadata": {
    "colab": {},
    "colab_type": "code",
    "id": "XZUcvMUkdizm"
   },
   "outputs": [],
   "source": [
    "test_image = test_images[0]\n",
    "test_label = test_labels[0]"
   ]
  },
  {
   "cell_type": "code",
   "execution_count": null,
   "metadata": {
    "colab": {
     "base_uri": "https://localhost:8080/",
     "height": 466
    },
    "colab_type": "code",
    "executionInfo": {
     "elapsed": 660,
     "status": "ok",
     "timestamp": 1600406318219,
     "user": {
      "displayName": "Victor Rebecq",
      "photoUrl": "",
      "userId": "06822429132380693157"
     },
     "user_tz": -180
    },
    "id": "XUREtv7yeqCh",
    "outputId": "1d1e86c1-4b99-421d-af52-2bea705bf06d"
   },
   "outputs": [
    {
     "data": {
      "image/png": "[encoded data removed]",
      "text/plain": [
       "<Figure size 720x576 with 1 Axes>"
      ]
     },
     "metadata": {
      "needs_background": "light",
      "tags": []
     },
     "output_type": "display_data"
    }
   ],
   "source": [
    "img_matrix = test_image.reshape((28, 28))\n",
    "plt.imshow(img_matrix, plt.get_cmap('gray'));\n",
    "plt.axis('off')\n",
    "plt.show()"
   ]
  },
  {
   "cell_type": "markdown",
   "metadata": {
    "colab_type": "text",
    "id": "K5C5pdgYeqCk"
   },
   "source": [
    "**Classroom exercise:** compute all distances from the `test_image` to the `train_images` in the dataset"
   ]
  },
  {
   "cell_type": "code",
   "execution_count": null,
   "metadata": {
    "colab": {
     "base_uri": "https://localhost:8080/",
     "height": 36
    },
    "colab_type": "code",
    "executionInfo": {
     "elapsed": 792,
     "status": "ok",
     "timestamp": 1600406320270,
     "user": {
      "displayName": "Victor Rebecq",
      "photoUrl": "",
      "userId": "06822429132380693157"
     },
     "user_tz": -180
    },
    "id": "LZ-qVcoTDZXf",
    "outputId": "662fbfba-aebd-4814-a7bc-0ee52aa56334"
   },
   "outputs": [
    {
     "data": {
      "text/plain": [
       "10.036598"
      ]
     },
     "execution_count": 20,
     "metadata": {
      "tags": []
     },
     "output_type": "execute_result"
    }
   ],
   "source": [
    "dist(test_image, train_images[5])"
   ]
  },
  {
   "cell_type": "code",
   "execution_count": null,
   "metadata": {
    "colab": {
     "base_uri": "https://localhost:8080/",
     "height": 36
    },
    "colab_type": "code",
    "executionInfo": {
     "elapsed": 573,
     "status": "ok",
     "timestamp": 1600406321231,
     "user": {
      "displayName": "Victor Rebecq",
      "photoUrl": "",
      "userId": "06822429132380693157"
     },
     "user_tz": -180
    },
    "id": "-wSVGX-ZeqCk",
    "outputId": "519b388c-f124-455f-f0bb-37ec755881f7"
   },
   "outputs": [
    {
     "data": {
      "text/plain": [
       "[10.115574, 9.505396, 9.084774, 9.745117, 8.398525]"
      ]
     },
     "execution_count": 21,
     "metadata": {
      "tags": []
     },
     "output_type": "execute_result"
    }
   ],
   "source": [
    "##### YOUR CODE STARTS #####\n",
    "#TODO\n",
    "all_distances = [dist(test_image, train_image) for train_image in train_images]\n",
    "##### YOUR CODE ENDS ##### (please do not delete this line)\n",
    "all_distances[0:5]"
   ]
  },
  {
   "cell_type": "markdown",
   "metadata": {
    "colab_type": "text",
    "id": "NmGWAy6seqCm"
   },
   "source": [
    "Now let's find out which image is closest to our `test_image`"
   ]
  },
  {
   "cell_type": "code",
   "execution_count": null,
   "metadata": {
    "colab": {},
    "colab_type": "code",
    "id": "fF6B4I-beqCn"
   },
   "outputs": [],
   "source": [
    "i = np.argmin(all_distances)"
   ]
  },
  {
   "cell_type": "markdown",
   "metadata": {
    "colab_type": "text",
    "id": "tuM8j03ueqCq"
   },
   "source": [
    "Almost done, now report a label with index `i` in `train_labels`"
   ]
  },
  {
   "cell_type": "code",
   "execution_count": null,
   "metadata": {
    "colab": {},
    "colab_type": "code",
    "id": "x6CEvuHEeqCq"
   },
   "outputs": [],
   "source": [
    "predicted_label = train_labels[i]"
   ]
  },
  {
   "cell_type": "markdown",
   "metadata": {
    "colab_type": "text",
    "id": "gPqeP2-reqCt"
   },
   "source": [
    "Compare it to the true label of the first image in the `train_labels`"
   ]
  },
  {
   "cell_type": "code",
   "execution_count": null,
   "metadata": {
    "colab": {
     "base_uri": "https://localhost:8080/",
     "height": 36
    },
    "colab_type": "code",
    "executionInfo": {
     "elapsed": 371,
     "status": "ok",
     "timestamp": 1600406324845,
     "user": {
      "displayName": "Victor Rebecq",
      "photoUrl": "",
      "userId": "06822429132380693157"
     },
     "user_tz": -180
    },
    "id": "rCn1qwKoeqCz",
    "outputId": "f62addd7-d122-40d3-b5bd-62f760c91930"
   },
   "outputs": [
    {
     "name": "stdout",
     "output_type": "stream",
     "text": [
      "Predicted class for the first image is 8 and the true label is 8\n"
     ]
    }
   ],
   "source": [
    "print(f\"Predicted class for the first image is {predicted_label} and the true label is {test_label}\")"
   ]
  },
  {
   "cell_type": "markdown",
   "metadata": {
    "colab_type": "text",
    "id": "JmMSNVMqfgjk"
   },
   "source": [
    "Here we can visualise the nearest in terms of the Eucledian distance image from the `train_images`"
   ]
  },
  {
   "cell_type": "code",
   "execution_count": null,
   "metadata": {
    "colab": {
     "base_uri": "https://localhost:8080/",
     "height": 466
    },
    "colab_type": "code",
    "executionInfo": {
     "elapsed": 696,
     "status": "ok",
     "timestamp": 1600406326936,
     "user": {
      "displayName": "Victor Rebecq",
      "photoUrl": "",
      "userId": "06822429132380693157"
     },
     "user_tz": -180
    },
    "id": "Vhdry7k2eqC1",
    "outputId": "7a7ba11d-21b1-4a45-9e97-34aee9e35da8"
   },
   "outputs": [
    {
     "data": {
      "image/png": "[encoded data removed]",
      "text/plain": [
       "<Figure size 720x576 with 1 Axes>"
      ]
     },
     "metadata": {
      "needs_background": "light",
      "tags": []
     },
     "output_type": "display_data"
    }
   ],
   "source": [
    "img_matrix = train_images[i,:].reshape((28, 28))\n",
    "plt.imshow(img_matrix, plt.get_cmap('gray'));\n",
    "plt.axis('off')\n",
    "plt.show()"
   ]
  },
  {
   "cell_type": "markdown",
   "metadata": {
    "colab_type": "text",
    "id": "mKBRz8GNeqC4"
   },
   "source": [
    "**Classroom exercise:** Now we should make a function out of the code we have already written. "
   ]
  },
  {
   "cell_type": "code",
   "execution_count": null,
   "metadata": {
    "colab": {},
    "colab_type": "code",
    "id": "V50nuLureqC5"
   },
   "outputs": [],
   "source": [
    "def classify(image):\n",
    "  ##### YOUR CODE STARTS #####\n",
    "  all_distances = [dist(image, candidate_image) for candidate_image in train_images]\n",
    "  prediction = train_labels[np.argmin(all_distances)]\n",
    "  ##### YOUR CODE ENDS ##### (please do not delete this line)\n",
    "  return prediction"
   ]
  },
  {
   "cell_type": "markdown",
   "metadata": {
    "colab_type": "text",
    "id": "lf4oXlzteqC8"
   },
   "source": [
    "Let's test this function to verify that it works"
   ]
  },
  {
   "cell_type": "code",
   "execution_count": null,
   "metadata": {
    "colab": {
     "base_uri": "https://localhost:8080/",
     "height": 36
    },
    "colab_type": "code",
    "executionInfo": {
     "elapsed": 716,
     "status": "ok",
     "timestamp": 1600406332634,
     "user": {
      "displayName": "Victor Rebecq",
      "photoUrl": "",
      "userId": "06822429132380693157"
     },
     "user_tz": -180
    },
    "id": "T0_npOGYeqC-",
    "outputId": "a53d241b-17d5-4220-d41b-f0573a3d98e6"
   },
   "outputs": [
    {
     "name": "stdout",
     "output_type": "stream",
     "text": [
      "Predicted class for the first image is 4 and the true label is 4\n"
     ]
    }
   ],
   "source": [
    "x = 45\n",
    "print(f\"Predicted class for the first image is {classify(test_images[x])} and the true label is {test_labels[x]}\")"
   ]
  },
  {
   "cell_type": "markdown",
   "metadata": {
    "colab_type": "text",
    "id": "8s9g__SbqW30"
   },
   "source": [
    "One very popular variation of Nearest Neighbour is K-nearest neighbour. In this algorithm a label for a new instance is chosen by majority vote by **`k`** of its nearest neighbors. \n",
    "\n",
    "The actual algorithm is not very different from vanila nearest neighbour:\n",
    "\n",
    "1. Compute distances to all points in the dataset\n",
    "2. Find the **`k`** closest points (you may consider using `np.argsort` function)\n",
    "3. Report the most popular label from these **`k`**. (maybe `np.bincount` can help)"
   ]
  },
  {
   "cell_type": "markdown",
   "metadata": {
    "colab_type": "text",
    "id": "tz9XASPxeqDC"
   },
   "source": [
    "## Homework exercise 1 (2 points): KNN"
   ]
  },
  {
   "cell_type": "markdown",
   "metadata": {
    "colab_type": "text",
    "id": "rtuWU_bTw8bf"
   },
   "source": [
    "<font color='red'>**(Homework exercise 1- a)** Implement the aformentioned algorithm in the cell below (1.5 point)</font>"
   ]
  },
  {
   "cell_type": "code",
   "execution_count": null,
   "metadata": {
    "colab": {},
    "colab_type": "code",
    "id": "J91vFM8yeqDC"
   },
   "outputs": [],
   "source": [
    "def classify_knn(image, k):\n",
    "  ##### YOUR CODE STARTS #####\n",
    "  all_distances = [dist(image, candidate_image) for candidate_image in train_images]\n",
    "\n",
    "  #Find the k closest points\n",
    "  #print(all_distances[0:k])\n",
    "  #np.argsort(all_distances)\n",
    "  #print(np.argsort(all_distances)[0:k])\n",
    "  #i = np.argmin(all_distances)\n",
    "  #print(i,\" + \",all_distances[i])\n",
    "\n",
    "  #Find the label\n",
    "  #print(f\"The\",k,\"nearest points are :\" ,train_labels[np.argsort(all_distances)[0:k]])\n",
    "\n",
    "  #Find the most popular label\n",
    "  prediction = np.argmax(np.bincount(train_labels[np.argsort(all_distances)[0:k]]))\n",
    "  ##### YOUR CODE ENDS ##### (please do not delete this line)\n",
    "  return prediction"
   ]
  },
  {
   "cell_type": "markdown",
   "metadata": {
    "colab_type": "text",
    "id": "lpP9LIhWeqDE"
   },
   "source": [
    "Test the function on `test_image`:"
   ]
  },
  {
   "cell_type": "code",
   "execution_count": null,
   "metadata": {
    "colab": {
     "base_uri": "https://localhost:8080/",
     "height": 36
    },
    "colab_type": "code",
    "executionInfo": {
     "elapsed": 607,
     "status": "ok",
     "timestamp": 1600406338201,
     "user": {
      "displayName": "Victor Rebecq",
      "photoUrl": "",
      "userId": "06822429132380693157"
     },
     "user_tz": -180
    },
    "id": "a1ZjNWxzeqDF",
    "outputId": "51afd48b-f013-43d0-a9f4-6ccca753f0e5"
   },
   "outputs": [
    {
     "name": "stdout",
     "output_type": "stream",
     "text": [
      "Predicted class for the first image using classify_knn is 8 and the true label is 8\n"
     ]
    }
   ],
   "source": [
    "print(f\"Predicted class for the first image using classify_knn is {classify_knn(test_image, 10)} and the true label is {test_label}\")"
   ]
  },
  {
   "cell_type": "markdown",
   "metadata": {
    "colab_type": "text",
    "id": "RkIbSADBjCpB"
   },
   "source": [
    "<font color='red'>**(Homework exercise 1- b)** Modify the function `classify_knn` adding a print statement that outputs labels of K nearest labels. Report 10 nearest neighbours  for the `test_image`. Explain its output in the cell below. (0.5 points) </font>"
   ]
  },
  {
   "cell_type": "markdown",
   "metadata": {
    "colab_type": "text",
    "id": "TzlSQ4zPqj-J"
   },
   "source": [
    " ***Answer* to (b):**\n",
    "If we print out labels of the K nearest points, we got this : [8 8 8 8 5 4 8 8 8 5]\n",
    "\n",
    "There are seven 8, two 5 and one 4 ; so 8 is the most popular label and our prediction is based on that.\n"
   ]
  },
  {
   "cell_type": "markdown",
   "metadata": {
    "colab_type": "text",
    "id": "YKcSRNayg9r7"
   },
   "source": [
    "Seems like Nearest Neighbor works, indeed! Apply it to all 1000 test images and then estimate it's effectivness.\n",
    "\n",
    "**Classroom exercise:** Classify all test images and store them into a separate variable `test_predicted`, choose `k` = 10. **NB, don't forget to uncomment all print statements inside the function!**"
   ]
  },
  {
   "cell_type": "code",
   "execution_count": null,
   "metadata": {
    "colab": {
     "base_uri": "https://localhost:8080/",
     "height": 36
    },
    "colab_type": "code",
    "executionInfo": {
     "elapsed": 598,
     "status": "ok",
     "timestamp": 1600406340303,
     "user": {
      "displayName": "Victor Rebecq",
      "photoUrl": "",
      "userId": "06822429132380693157"
     },
     "user_tz": -180
    },
    "id": "a6YUZqNLdiI9",
    "outputId": "f40d28e9-82ad-404a-ab49-da7bec40a398"
   },
   "outputs": [
    {
     "data": {
      "text/plain": [
       "8"
      ]
     },
     "execution_count": 30,
     "metadata": {
      "tags": []
     },
     "output_type": "execute_result"
    }
   ],
   "source": [
    "classify_knn(test_image, 10)"
   ]
  },
  {
   "cell_type": "code",
   "execution_count": null,
   "metadata": {
    "colab": {},
    "colab_type": "code",
    "id": "8oIBNn6YgbK9"
   },
   "outputs": [],
   "source": [
    "test_predicted_knn = [classify_knn(image, 10) for image in test_images]\n",
    "test_predicted = [classify(image) for image in test_images]"
   ]
  },
  {
   "cell_type": "code",
   "execution_count": null,
   "metadata": {
    "colab": {
     "base_uri": "https://localhost:8080/",
     "height": 74
    },
    "colab_type": "code",
    "executionInfo": {
     "elapsed": 549,
     "status": "ok",
     "timestamp": 1600406519959,
     "user": {
      "displayName": "Victor Rebecq",
      "photoUrl": "",
      "userId": "06822429132380693157"
     },
     "user_tz": -180
    },
    "id": "4nxzEgI0IAaU",
    "outputId": "707abc86-f8d8-43c7-b182-a31dc6caeaed"
   },
   "outputs": [
    {
     "name": "stdout",
     "output_type": "stream",
     "text": [
      "[8, 7, 4, 0, 0, 2, 9, 1, 6, 9, 4, 9, 0, 9, 2, 6, 4, 7, 0, 4, 1, 8, 1, 9, 5, 0, 8, 1, 7, 2, 3, 3, 5, 7, 6, 8, 9, 0, 0, 1, 1, 2, 8, 3, 5, 4, 3, 5, 8, 6, 0, 8, 0, 9, 7, 0, 9, 1, 2, 7, 1, 9, 0, 6, 6, 3, 0, 3, 5, 9, 9, 9, 2, 5, 1, 1, 5, 9, 1, 2, 5, 5, 2, 4, 1, 7, 6, 9, 2, 1, 4, 5, 7, 2, 9, 6, 6, 8, 9, 7, 9, 1, 6, 5, 6, 1, 3, 2, 9, 6, 9, 6, 5, 7, 5, 8, 1, 8, 9, 1, 4, 8, 8, 3, 4, 7, 6, 0, 0, 0, 0, 1, 5, 5, 5, 0, 3, 5, 1, 2, 0, 8, 3, 0, 5, 4, 0, 3, 9, 1, 3, 8, 4, 2, 5, 9, 3, 9, 0, 5, 1, 2, 3, 6, 0, 5, 4, 7, 6, 1, 2, 9, 3, 7, 7, 1, 1, 2, 4, 6, 9, 0, 8, 0, 8, 1, 9, 2, 1, 8, 8, 4, 2, 5, 9, 6, 2, 7, 9, 1, 9, 9, 6, 0, 4, 1, 6, 2, 9, 3, 7, 4, 6, 7, 3, 9, 5, 7, 8, 0, 6, 1, 1, 2, 6, 9, 1, 1, 8, 9, 6, 9, 5, 1, 1, 5, 7, 1, 8, 9, 1, 9, 0, 0, 5, 9, 5, 0, 4, 5, 3, 9, 9, 1, 0, 7, 4, 2, 9, 2, 5, 3, 2, 3, 4, 2, 2, 0, 6, 9, 6, 0, 0, 6, 9, 1, 3, 7, 7, 5, 4, 0, 9, 3, 7, 4, 0, 9, 3, 6, 8, 6, 2, 3, 6, 3, 9, 8, 6, 1, 9, 7, 5, 1, 7, 0, 7, 8, 1, 7, 9, 5, 9, 3, 7, 1, 8, 1, 0, 4, 8, 5, 3, 5, 1, 0, 2, 4, 8, 1, 1, 7, 3, 4, 7, 7, 3, 8, 0, 3, 7, 6, 6, 4, 2, 1, 5, 2, 7, 1, 7, 3, 7, 2, 3, 0, 8, 4, 0, 8, 2, 6, 7, 1, 0, 7, 4, 3, 5, 2, 2, 0, 0, 0, 3, 1, 8, 5, 0, 6, 7, 9, 5, 4, 7, 6, 9, 5, 7, 6, 5, 0, 2, 1, 2, 2, 3, 3, 6, 4, 9, 6, 1, 7, 1, 8, 1, 9, 2, 0, 1, 1, 3, 2, 2, 3, 9, 4, 7, 5, 7, 1, 3, 7, 1, 8, 4, 0, 2, 1, 9, 2, 2, 3, 6, 1, 8, 7, 4, 8, 1, 8, 4, 5, 5, 7, 7, 9, 5, 5, 9, 0, 6, 8, 1, 3, 6, 5, 0, 7, 6, 8, 0, 3, 4, 0, 0, 2, 9, 1, 7, 0, 1, 2, 9, 5, 2, 8, 4, 8, 5, 5, 5, 3, 2, 0, 2, 4, 8, 9, 6, 1, 9, 6, 7, 1, 1, 3, 1, 0, 2, 3, 4, 6, 6, 9, 0, 3, 8, 7, 2, 9, 2, 7, 8, 0, 6, 9, 9, 8, 2, 9, 6, 2, 1, 7, 4, 7, 1, 9, 1, 8, 1, 1, 7, 5, 1, 2, 4, 8, 8, 9, 1, 6, 6, 9, 5, 9, 0, 6, 8, 4, 0, 1, 2, 2, 3, 0, 1, 6, 4, 1, 6, 1, 6, 7, 0, 2, 7, 2, 9, 6, 1, 4, 1, 8, 2, 6, 4, 4, 6, 6, 3, 5, 5, 0, 8, 2, 1, 0, 3, 5, 5, 6, 2, 5, 4, 3, 6, 1, 3, 2, 9, 1, 8, 7, 4, 8, 7, 1, 7, 4, 2, 3, 2, 2, 7, 8, 3, 2, 9, 7, 1, 9, 2, 3, 3, 9, 2, 0, 1, 1, 1, 2, 3, 3, 1, 4, 2, 5, 5, 6, 9, 7, 7, 8, 2, 9, 0, 0, 1, 1, 4, 2, 2, 3, 1, 4, 1, 5, 3, 6, 6, 7, 0, 8, 3, 9, 1, 0, 5, 1, 3, 2, 5, 5, 9, 4, 6, 7, 9, 8, 8, 9, 6, 0, 7, 0, 2, 1, 9, 0, 9, 1, 7, 2, 1, 7, 3, 5, 6, 3, 9, 4, 1, 4, 2, 0, 0, 0, 0, 6, 8, 9, 9, 6, 1, 6, 6, 2, 1, 3, 4, 4, 6, 4, 7, 9, 0, 1, 7, 7, 1, 9, 4, 5, 2, 7, 3, 5, 5, 5, 9, 2, 6, 3, 1, 1, 1, 4, 8, 4, 1, 0, 7, 9, 4, 9, 3, 6, 2, 1, 3, 8, 1, 5, 3, 3, 1, 9, 7, 5, 2, 4, 9, 8, 2, 8, 3, 4, 2, 7, 2, 7, 5, 6, 0, 2, 1, 1, 2, 9, 2, 4, 3, 7, 2, 9, 9, 8, 3, 2, 5, 3, 9, 9, 1, 0, 7, 7, 8, 9, 9, 0, 8, 6, 0, 4, 2, 1, 5, 1, 9, 2, 8, 8, 4, 2, 1, 6, 0, 1, 1, 5, 1, 0, 8, 1, 1, 2, 5, 3, 5, 4, 8, 5, 0, 6, 9, 7, 1, 8, 7, 9, 4, 0, 3, 1, 0, 2, 1, 3, 3, 4, 4, 5, 7, 6, 6, 7, 1, 8, 8, 9, 0, 0, 1, 1, 3, 2, 6, 3, 0, 4, 3, 5, 3, 6, 5, 7, 9, 8, 0, 9, 0, 2, 1, 2, 1, 7, 3, 6, 5, 4, 9, 0, 7, 5, 8, 8, 1, 0, 1, 7, 4, 3, 2, 5, 8, 4, 3, 1, 4, 8, 9, 0, 6, 5, 8, 2, 0, 7, 0, 2, 0, 3, 9, 6, 1, 2, 9, 1, 2, 7, 0, 7, 9, 9, 0, 9, 7, 1, 9, 2, 0, 9, 8, 6, 4, 7, 2, 7, 6, 5, 5, 4, 3, 5, 6, 0, 6, 1, 6, 1, 4, 9, 5, 9, 0, 8, 5, 0, 3, 2, 9, 0, 2, 3, 5, 5, 6, 6, 7, 1, 9, 4, 1, 6, 5, 4]\n",
      "[8, 7, 4, 0, 0, 2, 3, 1, 6, 9, 4, 7, 0, 9, 2, 6, 9, 7, 0, 4, 1, 8, 1, 9, 5, 0, 8, 1, 7, 0, 3, 3, 5, 7, 8, 8, 9, 0, 0, 1, 1, 2, 8, 3, 5, 4, 3, 5, 8, 6, 0, 8, 0, 9, 7, 0, 9, 1, 1, 7, 1, 7, 0, 6, 6, 3, 0, 3, 5, 9, 9, 9, 2, 5, 1, 1, 5, 9, 1, 2, 5, 5, 2, 4, 1, 7, 6, 9, 2, 1, 4, 5, 7, 2, 9, 6, 6, 3, 9, 7, 9, 8, 6, 5, 6, 1, 3, 2, 9, 6, 9, 6, 1, 7, 3, 8, 1, 8, 9, 1, 4, 8, 8, 3, 4, 7, 6, 0, 0, 0, 0, 1, 5, 5, 3, 0, 3, 5, 1, 2, 0, 8, 9, 0, 5, 9, 0, 3, 9, 1, 7, 8, 4, 2, 5, 9, 3, 9, 0, 5, 1, 2, 3, 6, 0, 5, 9, 7, 6, 1, 2, 9, 3, 7, 7, 1, 1, 2, 4, 6, 9, 0, 1, 0, 8, 1, 9, 2, 1, 3, 8, 4, 3, 5, 9, 6, 2, 7, 9, 8, 9, 9, 6, 0, 4, 1, 6, 2, 9, 3, 7, 4, 6, 7, 3, 5, 5, 7, 8, 0, 6, 1, 1, 2, 6, 3, 1, 1, 8, 5, 6, 6, 4, 1, 1, 5, 7, 1, 8, 4, 1, 9, 0, 0, 5, 7, 5, 0, 4, 5, 3, 9, 9, 1, 0, 7, 9, 2, 9, 2, 5, 3, 2, 3, 9, 2, 2, 0, 6, 9, 1, 0, 0, 6, 9, 1, 3, 7, 1, 5, 4, 0, 9, 5, 7, 4, 0, 7, 3, 6, 8, 6, 1, 3, 6, 3, 4, 8, 6, 1, 9, 7, 5, 1, 7, 0, 7, 8, 1, 7, 9, 5, 9, 1, 7, 1, 8, 1, 0, 4, 1, 5, 3, 5, 1, 0, 2, 4, 8, 1, 1, 7, 3, 4, 7, 7, 3, 2, 0, 3, 7, 6, 6, 4, 2, 1, 4, 7, 7, 1, 7, 5, 7, 2, 3, 0, 8, 4, 0, 1, 2, 6, 7, 1, 0, 7, 4, 3, 5, 2, 2, 0, 0, 0, 3, 1, 8, 5, 0, 6, 7, 9, 5, 9, 7, 6, 9, 5, 7, 6, 5, 0, 2, 1, 2, 2, 3, 3, 6, 4, 9, 6, 1, 7, 1, 8, 1, 9, 2, 0, 1, 1, 3, 2, 1, 3, 9, 4, 7, 5, 7, 1, 3, 7, 1, 8, 4, 0, 2, 1, 9, 2, 2, 3, 6, 1, 8, 7, 9, 8, 1, 8, 4, 5, 5, 7, 7, 9, 5, 3, 5, 0, 6, 8, 1, 3, 6, 3, 0, 1, 6, 8, 0, 3, 9, 0, 0, 2, 9, 1, 7, 0, 1, 2, 9, 5, 1, 8, 1, 8, 5, 5, 5, 3, 2, 0, 2, 4, 8, 9, 6, 1, 9, 6, 7, 1, 1, 3, 1, 6, 2, 3, 9, 6, 6, 9, 0, 3, 3, 7, 2, 9, 8, 7, 8, 0, 6, 4, 9, 8, 2, 3, 6, 2, 1, 7, 4, 7, 1, 9, 1, 5, 1, 1, 7, 5, 1, 2, 9, 8, 5, 9, 1, 6, 0, 9, 5, 7, 0, 6, 8, 1, 0, 1, 2, 2, 3, 0, 1, 6, 4, 1, 6, 1, 6, 7, 0, 2, 7, 3, 9, 6, 1, 4, 1, 8, 2, 6, 4, 4, 6, 6, 3, 5, 3, 0, 8, 2, 1, 0, 3, 5, 3, 6, 0, 5, 9, 0, 6, 1, 3, 2, 9, 1, 0, 7, 7, 8, 7, 1, 7, 9, 1, 3, 2, 2, 7, 8, 3, 1, 3, 7, 1, 9, 1, 3, 3, 9, 1, 0, 1, 1, 1, 2, 3, 3, 8, 4, 6, 5, 5, 6, 8, 7, 7, 8, 2, 9, 0, 0, 1, 1, 4, 2, 2, 3, 1, 4, 1, 5, 3, 6, 6, 7, 0, 1, 3, 9, 1, 0, 5, 1, 3, 2, 5, 5, 9, 4, 9, 7, 9, 8, 5, 9, 6, 0, 7, 0, 2, 1, 9, 0, 1, 1, 7, 2, 1, 7, 3, 5, 6, 3, 9, 4, 1, 4, 2, 0, 0, 0, 0, 6, 8, 9, 9, 6, 1, 6, 6, 2, 1, 3, 4, 4, 6, 4, 9, 9, 0, 1, 7, 7, 1, 9, 4, 5, 2, 7, 5, 5, 5, 5, 9, 2, 6, 3, 1, 1, 1, 4, 5, 4, 1, 0, 7, 9, 9, 9, 1, 6, 2, 1, 3, 1, 1, 5, 3, 5, 1, 7, 7, 5, 2, 9, 9, 8, 0, 8, 3, 4, 2, 7, 2, 7, 5, 6, 0, 2, 1, 1, 2, 9, 2, 0, 3, 7, 2, 8, 7, 8, 3, 2, 5, 3, 4, 9, 1, 0, 7, 7, 8, 9, 9, 0, 8, 6, 0, 4, 2, 1, 5, 1, 9, 2, 8, 8, 4, 2, 1, 6, 0, 1, 1, 6, 1, 0, 8, 1, 1, 2, 5, 3, 3, 4, 8, 5, 0, 6, 3, 7, 1, 0, 7, 9, 4, 0, 3, 1, 0, 2, 1, 3, 3, 4, 4, 5, 7, 6, 6, 7, 1, 8, 8, 9, 0, 0, 1, 1, 3, 4, 6, 3, 0, 4, 3, 5, 3, 6, 5, 7, 9, 4, 0, 9, 0, 2, 1, 2, 1, 7, 5, 6, 5, 4, 9, 0, 7, 5, 8, 8, 1, 0, 1, 7, 4, 8, 2, 5, 8, 4, 3, 1, 1, 8, 1, 0, 6, 5, 8, 2, 0, 7, 0, 2, 0, 3, 9, 6, 1, 2, 9, 1, 2, 7, 0, 7, 9, 9, 0, 9, 7, 1, 9, 2, 0, 9, 8, 6, 4, 7, 2, 7, 6, 5, 5, 4, 3, 5, 6, 0, 6, 1, 6, 1, 4, 9, 1, 9, 0, 8, 3, 0, 3, 2, 9, 0, 2, 3, 5, 5, 6, 6, 7, 1, 9, 6, 1, 6, 5, 4]\n"
     ]
    }
   ],
   "source": [
    "print(test_predicted)\n",
    "print(test_predicted_knn)"
   ]
  },
  {
   "cell_type": "code",
   "execution_count": null,
   "metadata": {
    "colab": {
     "base_uri": "https://localhost:8080/",
     "height": 54
    },
    "colab_type": "code",
    "executionInfo": {
     "elapsed": 519,
     "status": "ok",
     "timestamp": 1600406522486,
     "user": {
      "displayName": "Victor Rebecq",
      "photoUrl": "",
      "userId": "06822429132380693157"
     },
     "user_tz": -180
    },
    "id": "eNXy33_DfH-p",
    "outputId": "63c17b01-cafb-4869-c4a1-eb08226970f7"
   },
   "outputs": [
    {
     "name": "stdout",
     "output_type": "stream",
     "text": [
      "With the nearest point, we have 882 correct predictions\n",
      "With the k point, we have 863 correct predictions\n"
     ]
    }
   ],
   "source": [
    "print(\"With the nearest point, we have\",np.sum(test_labels == test_predicted),\"correct predictions\")\n",
    "print(\"With the k point, we have\",np.sum(test_labels == test_predicted_knn),\"correct predictions\")"
   ]
  },
  {
   "cell_type": "markdown",
   "metadata": {
    "colab_type": "text",
    "id": "pXLR_7dOkK7p"
   },
   "source": [
    "How many instances from the test set the classifier has predicted correctly?"
   ]
  },
  {
   "cell_type": "code",
   "execution_count": null,
   "metadata": {
    "colab": {
     "base_uri": "https://localhost:8080/",
     "height": 36
    },
    "colab_type": "code",
    "executionInfo": {
     "elapsed": 544,
     "status": "ok",
     "timestamp": 1600406525767,
     "user": {
      "displayName": "Victor Rebecq",
      "photoUrl": "",
      "userId": "06822429132380693157"
     },
     "user_tz": -180
    },
    "id": "7piY3yeZkNC_",
    "outputId": "3ca903d4-9488-471c-f551-138dffe85034"
   },
   "outputs": [
    {
     "name": "stdout",
     "output_type": "stream",
     "text": [
      "Number of correctly predicted images is 882\n"
     ]
    }
   ],
   "source": [
    "n_correct = np.sum(test_labels == test_predicted)\n",
    "print(f\"Number of correctly predicted images is {n_correct}\")"
   ]
  },
  {
   "cell_type": "markdown",
   "metadata": {
    "colab_type": "text",
    "id": "qPM7UHbHkXIb"
   },
   "source": [
    "Now we will use **`accuracy`** (namely, proportion of correctly guessed classes) to estimate the performance of our nearest neighbor classifier. For that we need to divide number of correctly predicted images by total number of images."
   ]
  },
  {
   "cell_type": "code",
   "execution_count": null,
   "metadata": {
    "colab": {
     "base_uri": "https://localhost:8080/",
     "height": 36
    },
    "colab_type": "code",
    "executionInfo": {
     "elapsed": 593,
     "status": "ok",
     "timestamp": 1600406528109,
     "user": {
      "displayName": "Victor Rebecq",
      "photoUrl": "",
      "userId": "06822429132380693157"
     },
     "user_tz": -180
    },
    "id": "_a9_1ZgKkRVf",
    "outputId": "e3266c68-0811-42e3-b503-c4988cdf4fa3"
   },
   "outputs": [
    {
     "name": "stdout",
     "output_type": "stream",
     "text": [
      "Final accuracy of our nearest neighbor classifier is 0.882. Not bad!\n"
     ]
    }
   ],
   "source": [
    "nn_accuracy = n_correct/len(test_labels)\n",
    "print(f\"Final accuracy of our nearest neighbor classifier is {nn_accuracy}. Not bad!\")"
   ]
  },
  {
   "cell_type": "markdown",
   "metadata": {
    "colab_type": "text",
    "id": "h12yXjMPk8Kz"
   },
   "source": [
    "Let's examine some of the missclassified examples.\n"
   ]
  },
  {
   "cell_type": "code",
   "execution_count": null,
   "metadata": {
    "colab": {
     "base_uri": "https://localhost:8080/",
     "height": 485
    },
    "colab_type": "code",
    "executionInfo": {
     "elapsed": 408,
     "status": "ok",
     "timestamp": 1600406529242,
     "user": {
      "displayName": "Victor Rebecq",
      "photoUrl": "",
      "userId": "06822429132380693157"
     },
     "user_tz": -180
    },
    "id": "pPAjmuQdki1Q",
    "outputId": "bc055a8d-7b74-475a-8d05-d7c921b818af"
   },
   "outputs": [
    {
     "name": "stdout",
     "output_type": "stream",
     "text": [
      "This image with 5 was incorrectly predicted as 3\n"
     ]
    },
    {
     "data": {
      "image/png": "[encoded data removed]",
      "text/plain": [
       "<Figure size 720x576 with 1 Axes>"
      ]
     },
     "metadata": {
      "needs_background": "light",
      "tags": []
     },
     "output_type": "display_data"
    }
   ],
   "source": [
    "missclassified = np.where(test_predicted != test_labels)[0]\n",
    "\n",
    "# Set an index of missclassified instance you want to examine\n",
    "index = 50\n",
    "\n",
    "# Plot this instance as usual\n",
    "img_matrix = test_images[missclassified[index]].reshape((28, 28))\n",
    "plt.imshow(img_matrix, plt.get_cmap('gray'))\n",
    "plt.axis('off')\n",
    "print(f\"This image with {test_labels[missclassified[index]]} was incorrectly predicted as {test_predicted[missclassified[index]]}\")"
   ]
  },
  {
   "cell_type": "markdown",
   "metadata": {
    "colab_type": "text",
    "id": "X2xsOtQCuHla"
   },
   "source": [
    "## Homework exercise 2 (2 points): exploring misclassified examples"
   ]
  },
  {
   "cell_type": "markdown",
   "metadata": {
    "colab_type": "text",
    "id": "BGVGqZGpxmzQ"
   },
   "source": [
    "<font color='red'>**(Homework exercise 2- a)** Modify the visualisation code that we used to visualise a grid of example images from different classes. Instead of random examples for each class, visualise misclassified examples from each class. For example, in the first column visualise images that had true label `0` but were classified as something else, in the second column, show examples of images that had label `1` but were misclassified into another class and so on. Add a title to each small image, in the following format `true_label, predicted_label`. (1.5 points)</font>"
   ]
  },
  {
   "cell_type": "code",
   "execution_count": null,
   "metadata": {
    "colab": {
     "base_uri": "https://localhost:8080/",
     "height": 1000
    },
    "colab_type": "code",
    "executionInfo": {
     "elapsed": 2528,
     "status": "ok",
     "timestamp": 1600410737924,
     "user": {
      "displayName": "Victor Rebecq",
      "photoUrl": "",
      "userId": "06822429132380693157"
     },
     "user_tz": -180
    },
    "id": "XzVSFpyjlS2d",
    "outputId": "677397bb-363c-4a6b-92f1-4ec04db77a2c"
   },
   "outputs": [
    {
     "data": {
      "image/png": "[encoded data removed]",
      "text/plain": [
       "<Figure size 720x576 with 1 Axes>"
      ]
     },
     "metadata": {
      "needs_background": "light",
      "tags": []
     },
     "output_type": "display_data"
    },
    {
     "name": "stdout",
     "output_type": "stream",
     "text": [
      "This image was a 0 but was incorrectly predicted as 3\n",
      "*******************************************\n",
      "There is no misclassified for this class : 1\n",
      "*******************************************\n"
     ]
    },
    {
     "data": {
      "image/png": "[encoded data removed]",
      "text/plain": [
       "<Figure size 720x576 with 1 Axes>"
      ]
     },
     "metadata": {
      "needs_background": "light",
      "tags": []
     },
     "output_type": "display_data"
    },
    {
     "name": "stdout",
     "output_type": "stream",
     "text": [
      "This image was a 2 but was incorrectly predicted as 0\n",
      "*******************************************\n"
     ]
    },
    {
     "data": {
      "image/png": "[encoded data removed]",
      "text/plain": [
       "<Figure size 720x576 with 1 Axes>"
      ]
     },
     "metadata": {
      "needs_background": "light",
      "tags": []
     },
     "output_type": "display_data"
    },
    {
     "name": "stdout",
     "output_type": "stream",
     "text": [
      "This image was a 3 but was incorrectly predicted as 2\n",
      "*******************************************\n"
     ]
    },
    {
     "data": {
      "image/png": "[encoded data removed]",
      "text/plain": [
       "<Figure size 720x576 with 1 Axes>"
      ]
     },
     "metadata": {
      "needs_background": "light",
      "tags": []
     },
     "output_type": "display_data"
    },
    {
     "name": "stdout",
     "output_type": "stream",
     "text": [
      "This image was a 4 but was incorrectly predicted as 9\n",
      "*******************************************\n"
     ]
    },
    {
     "data": {
      "image/png": "[encoded data removed]",
      "text/plain": [
       "<Figure size 720x576 with 1 Axes>"
      ]
     },
     "metadata": {
      "needs_background": "light",
      "tags": []
     },
     "output_type": "display_data"
    },
    {
     "name": "stdout",
     "output_type": "stream",
     "text": [
      "This image was a 5 but was incorrectly predicted as 3\n",
      "*******************************************\n"
     ]
    },
    {
     "data": {
      "image/png": "[encoded data removed]",
      "text/plain": [
       "<Figure size 720x576 with 1 Axes>"
      ]
     },
     "metadata": {
      "needs_background": "light",
      "tags": []
     },
     "output_type": "display_data"
    },
    {
     "name": "stdout",
     "output_type": "stream",
     "text": [
      "This image was a 6 but was incorrectly predicted as 5\n",
      "*******************************************\n"
     ]
    },
    {
     "data": {
      "image/png": "[encoded data removed]",
      "text/plain": [
       "<Figure size 720x576 with 1 Axes>"
      ]
     },
     "metadata": {
      "needs_background": "light",
      "tags": []
     },
     "output_type": "display_data"
    },
    {
     "name": "stdout",
     "output_type": "stream",
     "text": [
      "This image was a 7 but was incorrectly predicted as 4\n",
      "*******************************************\n"
     ]
    },
    {
     "data": {
      "image/png": "[encoded data removed]",
      "text/plain": [
       "<Figure size 720x576 with 1 Axes>"
      ]
     },
     "metadata": {
      "needs_background": "light",
      "tags": []
     },
     "output_type": "display_data"
    },
    {
     "name": "stdout",
     "output_type": "stream",
     "text": [
      "This image was a 8 but was incorrectly predicted as 6\n",
      "*******************************************\n"
     ]
    },
    {
     "data": {
      "image/png": "[encoded data removed]",
      "text/plain": [
       "<Figure size 720x576 with 1 Axes>"
      ]
     },
     "metadata": {
      "needs_background": "light",
      "tags": []
     },
     "output_type": "display_data"
    },
    {
     "name": "stdout",
     "output_type": "stream",
     "text": [
      "This image was a 9 but was incorrectly predicted as 4\n",
      "*******************************************\n"
     ]
    },
    {
     "data": {
      "image/png": "[encoded data removed]",
      "text/plain": [
       "<Figure size 720x576 with 1 Axes>"
      ]
     },
     "metadata": {
      "needs_background": "light",
      "tags": []
     },
     "output_type": "display_data"
    },
    {
     "name": "stdout",
     "output_type": "stream",
     "text": [
      "[1, 0, 11, 22, 18, 14, 1, 10, 28, 13]\n"
     ]
    }
   ],
   "source": [
    "missclassified = np.where(test_predicted != test_labels)[0]\n",
    "\n",
    "# Plot this instance as usual\n",
    "\"\"\"\n",
    "index = 60\n",
    "img_matrix = test_images[missclassified[index]].reshape((28, 28))\n",
    "img_matrix = test_images[missclassified[index]].reshape((28, 28))\n",
    "print(test_labels[missclassified[index]])\n",
    "plt.imshow(img_matrix, plt.get_cmap('gray'))\n",
    "plt.axis('off')\n",
    "print(f\"This image was a {test_labels[missclassified[index]]} but was incorrectly predicted as {test_predicted[missclassified[index]]}\")\n",
    "\"\"\"\n",
    "\n",
    "plt.rcParams['figure.figsize'] = (10.0, 8.0) # set default size of plots\n",
    "# \"Names\" of classes:\n",
    "classes =  ['0', '1', '2', '3', '4', '5', '6', '7', '8', '9']\n",
    "\n",
    "num_classes = len(classes)\n",
    "samples_per_class = 1 # Number of images from each class we want to see\n",
    "equality_in_class = []\n",
    "for y, cls in enumerate(classes):\n",
    "    ##### YOUR CODE STARTS #####\n",
    "    #print(y)\n",
    "    #print(test_labels[missclassified])\n",
    "    idxs = np.flatnonzero(test_labels[missclassified] == y)\n",
    "    equality_in_class.append(idxs.size)\n",
    "    \n",
    "    #print(\"idxs:\", idxs)\n",
    "    if(idxs.size == 0):\n",
    "      print(\"There is no misclassified for this class :\",y)\n",
    "      print(\"*******************************************\")\n",
    "    #print(idxs[0])\n",
    "    #idxs = np.random.choice(idxs, samples_per_class, replace=False)\n",
    "    else:\n",
    "\n",
    "    #SHOW IMAGES\n",
    "    #print(\"i;\",i,\"idx;\",idx,\"idxs;\",idxs)\n",
    "      idx = idxs[0]\n",
    "      #plt_idx = i * num_classes + y + 1\n",
    "      plt.subplot(samples_per_class, num_classes, y+1)\n",
    "      plt.imshow(test_images[missclassified[idx]].reshape((28, 28)), plt.get_cmap('gray'))\n",
    "      plt.show()\n",
    "      plt.axis('off')\n",
    "      print(f\"This image was a {test_labels[missclassified[idx]]} but was incorrectly predicted as {test_predicted[missclassified[idx]]}\")\n",
    "      print(\"*******************************************\")\n",
    "\n",
    "    ##### YOUR CODE ENDS ##### (please do not delete this line)\n",
    "plt.show()\n",
    "print(equality_in_class)\n"
   ]
  },
  {
   "cell_type": "markdown",
   "metadata": {
    "colab_type": "text",
    "id": "73G5hFzrxrVc"
   },
   "source": [
    "<font color='red'>**(Homework exercise 2- b)** What is your take away from this figure? Are all classes equally missclassified? Why? Are there any classes that KNN confuses more often, why? (0.5 points) </font>"
   ]
  },
  {
   "cell_type": "markdown",
   "metadata": {
    "colab_type": "text",
    "id": "rmNqSRNiysh-"
   },
   "source": [
    "Answer to (b): In order to see if all classes equally misclassified, we add the array \"equality_in_class\" to see how misclassified labels are organized. We have this output : \n",
    "[1, 0, 11, 22, 18, 14, 1, 10, 28, 13]\n",
    "So there is one class \"0\" who is misclassified, zero \"1\", eleven \"2\", etc...\n",
    "\n",
    "We clearly see that \"0\",\"1\" and \"6\" are non often misclassified if we compare to others labels. \"8\" is the most often misclassified.\n"
   ]
  },
  {
   "cell_type": "markdown",
   "metadata": {
    "colab_type": "text",
    "id": "NZDsFKpngFK1"
   },
   "source": [
    "\n",
    "\n",
    "```\n",
    "# Ce texte est au format code\n",
    "```\n",
    "\n",
    "### Scikit-learn"
   ]
  },
  {
   "cell_type": "markdown",
   "metadata": {
    "colab_type": "text",
    "id": "8eNqmHxsgFK2"
   },
   "source": [
    "Now let us use the Scikit-Learn package to train the Nearest Neigbor classifier.\n",
    "\n",
    "Most of the models that we are going to use are implemented in scikit-learn, for example KNN is available under the name `KNNeiborsClassifier`. All you need to do is to import it from `sklearn` (this a short name for scikit-learn)."
   ]
  },
  {
   "cell_type": "code",
   "execution_count": null,
   "metadata": {
    "colab": {},
    "colab_type": "code",
    "id": "OV7PNg-wgFK3"
   },
   "outputs": [],
   "source": [
    "import sklearn\n",
    "from sklearn.neighbors import KNeighborsClassifier"
   ]
  },
  {
   "cell_type": "markdown",
   "metadata": {
    "colab_type": "text",
    "id": "h0Kwi4szgFK5"
   },
   "source": [
    "Let's create an instance of the KNN classifier by calling a `KNeighborsClassifier()` function. As an input parameter you can specify `k`. For example 10 nearest neighbour classifier is created like this:"
   ]
  },
  {
   "cell_type": "code",
   "execution_count": null,
   "metadata": {
    "colab": {},
    "colab_type": "code",
    "id": "k8yL3NTqgFK5"
   },
   "outputs": [],
   "source": [
    "model = KNeighborsClassifier(n_neighbors = 10)"
   ]
  },
  {
   "cell_type": "markdown",
   "metadata": {
    "colab_type": "text",
    "id": "wyXtNqpFgFK9"
   },
   "source": [
    "Most of the scikit-learn models have method `fit` that let you train the classifier given training instances and correct labels:"
   ]
  },
  {
   "cell_type": "code",
   "execution_count": null,
   "metadata": {
    "colab": {
     "base_uri": "https://localhost:8080/",
     "height": 72
    },
    "colab_type": "code",
    "executionInfo": {
     "elapsed": 547,
     "status": "ok",
     "timestamp": 1599475315988,
     "user": {
      "displayName": "Victor Rebecq",
      "photoUrl": "",
      "userId": "06822429132380693157"
     },
     "user_tz": -180
    },
    "id": "6bgzqOEYgFK-",
    "outputId": "54e3b346-7a7e-4b81-f37f-050ba7702191"
   },
   "outputs": [
    {
     "data": {
      "text/plain": [
       "KNeighborsClassifier(algorithm='auto', leaf_size=30, metric='minkowski',\n",
       "                     metric_params=None, n_jobs=None, n_neighbors=10, p=2,\n",
       "                     weights='uniform')"
      ]
     },
     "execution_count": 55,
     "metadata": {
      "tags": []
     },
     "output_type": "execute_result"
    }
   ],
   "source": [
    "model.fit(train_images, train_labels)"
   ]
  },
  {
   "cell_type": "markdown",
   "metadata": {
    "colab_type": "text",
    "id": "NAHwRm4igFLA"
   },
   "source": [
    "**Classroom exercise:** Use trained nearest neighbor classifier (`model`) to predict `test_images` and then calculate the accuracy. How does it compare to the one we obtained in the class?"
   ]
  },
  {
   "cell_type": "code",
   "execution_count": null,
   "metadata": {
    "colab": {
     "base_uri": "https://localhost:8080/",
     "height": 35
    },
    "colab_type": "code",
    "executionInfo": {
     "elapsed": 4359,
     "status": "ok",
     "timestamp": 1599475391445,
     "user": {
      "displayName": "Victor Rebecq",
      "photoUrl": "",
      "userId": "06822429132380693157"
     },
     "user_tz": -180
    },
    "id": "1YfjlFlFgFLB",
    "outputId": "bfadea5f-4f31-4872-bb94-62d62a4f8821"
   },
   "outputs": [
    {
     "name": "stdout",
     "output_type": "stream",
     "text": [
      "Number of correctly predicted images is 863\n"
     ]
    }
   ],
   "source": [
    "##### YOUR CODE STARTS #####\n",
    "test_predicted = model.predict(test_images)\n",
    "n_correct = np.sum(test_labels == test_predicted)\n",
    "##### YOUR CODE ENDS ##### (please do not delete this line)\n",
    "print(f\"Number of correctly predicted images is {n_correct}\")"
   ]
  },
  {
   "cell_type": "markdown",
   "metadata": {
    "colab_type": "text",
    "id": "OnsK0JH1KuDv"
   },
   "source": [
    "More negbhours not always cool\n",
    "\n",
    "---\n",
    "\n"
   ]
  },
  {
   "cell_type": "markdown",
   "metadata": {
    "colab_type": "text",
    "id": "mLDk2_c3P6_j"
   },
   "source": [
    "# Regression\n",
    "\n",
    "## Small 2D example\n",
    "\n",
    "Here we will create a small toy dataset for playing around with some regression algorithms."
   ]
  },
  {
   "cell_type": "code",
   "execution_count": null,
   "metadata": {
    "colab": {},
    "colab_type": "code",
    "id": "Q255sYHwP7SS"
   },
   "outputs": [],
   "source": [
    "import numpy as np \n",
    "import pandas as pd\n",
    "\n",
    "example_data = pd.DataFrame({'distance':[1,2,3,4,5], 'fare_amount':[2,4,5,4,5]})"
   ]
  },
  {
   "cell_type": "markdown",
   "metadata": {
    "colab_type": "text",
    "id": "narJIhxlpKTy"
   },
   "source": [
    "You can access columns using `.` notation and name of the column, e.g.:"
   ]
  },
  {
   "cell_type": "code",
   "execution_count": null,
   "metadata": {
    "colab": {
     "base_uri": "https://localhost:8080/",
     "height": 129
    },
    "colab_type": "code",
    "executionInfo": {
     "elapsed": 651,
     "status": "ok",
     "timestamp": 1600414361863,
     "user": {
      "displayName": "Victor Rebecq",
      "photoUrl": "",
      "userId": "06822429132380693157"
     },
     "user_tz": -180
    },
    "id": "4AcFY5iOpJsm",
    "outputId": "43f976c4-1038-4465-bbb1-6d6d3bb59f0c"
   },
   "outputs": [
    {
     "data": {
      "text/plain": [
       "0    2\n",
       "1    4\n",
       "2    5\n",
       "3    4\n",
       "4    5\n",
       "Name: fare_amount, dtype: int64"
      ]
     },
     "execution_count": 139,
     "metadata": {
      "tags": []
     },
     "output_type": "execute_result"
    }
   ],
   "source": [
    "example_data.fare_amount\n",
    "#we can use also this :\n",
    "#example_data[\"distance\"]"
   ]
  },
  {
   "cell_type": "markdown",
   "metadata": {
    "colab_type": "text",
    "id": "JBK_tjSDzMeo"
   },
   "source": [
    "The following is our attempt to reproduce figures exactly as in lecture slides. Never mind, you will be able to use regular `matplotlib` as before if you like."
   ]
  },
  {
   "cell_type": "code",
   "execution_count": null,
   "metadata": {
    "colab": {
     "base_uri": "https://localhost:8080/",
     "height": 336
    },
    "colab_type": "code",
    "executionInfo": {
     "elapsed": 3385,
     "status": "ok",
     "timestamp": 1600414365924,
     "user": {
      "displayName": "Victor Rebecq",
      "photoUrl": "",
      "userId": "06822429132380693157"
     },
     "user_tz": -180
    },
    "id": "_uZnwxr6RxyF",
    "outputId": "fec9836e-bd22-4582-f097-682208529854"
   },
   "outputs": [
    {
     "name": "stdout",
     "output_type": "stream",
     "text": [
      "Requirement already satisfied: plotnine in /usr/local/lib/python3.6/dist-packages (0.6.0)\n",
      "Requirement already satisfied: matplotlib>=3.1.1 in /usr/local/lib/python3.6/dist-packages (from plotnine) (3.2.2)\n",
      "Requirement already satisfied: numpy>=1.16.0 in /usr/local/lib/python3.6/dist-packages (from plotnine) (1.18.5)\n",
      "Requirement already satisfied: pandas>=0.25.0 in /usr/local/lib/python3.6/dist-packages (from plotnine) (1.0.5)\n",
      "Requirement already satisfied: descartes>=1.1.0 in /usr/local/lib/python3.6/dist-packages (from plotnine) (1.1.0)\n",
      "Requirement already satisfied: patsy>=0.4.1 in /usr/local/lib/python3.6/dist-packages (from plotnine) (0.5.1)\n",
      "Requirement already satisfied: statsmodels>=0.9.0 in /usr/local/lib/python3.6/dist-packages (from plotnine) (0.10.2)\n",
      "Requirement already satisfied: scipy>=1.2.0 in /usr/local/lib/python3.6/dist-packages (from plotnine) (1.4.1)\n",
      "Requirement already satisfied: mizani>=0.6.0 in /usr/local/lib/python3.6/dist-packages (from plotnine) (0.6.0)\n",
      "Requirement already satisfied: kiwisolver>=1.0.1 in /usr/local/lib/python3.6/dist-packages (from matplotlib>=3.1.1->plotnine) (1.2.0)\n",
      "Requirement already satisfied: python-dateutil>=2.1 in /usr/local/lib/python3.6/dist-packages (from matplotlib>=3.1.1->plotnine) (2.8.1)\n",
      "Requirement already satisfied: pyparsing!=2.0.4,!=2.1.2,!=2.1.6,>=2.0.1 in /usr/local/lib/python3.6/dist-packages (from matplotlib>=3.1.1->plotnine) (2.4.7)\n",
      "Requirement already satisfied: cycler>=0.10 in /usr/local/lib/python3.6/dist-packages (from matplotlib>=3.1.1->plotnine) (0.10.0)\n",
      "Requirement already satisfied: pytz>=2017.2 in /usr/local/lib/python3.6/dist-packages (from pandas>=0.25.0->plotnine) (2018.9)\n",
      "Requirement already satisfied: six in /usr/local/lib/python3.6/dist-packages (from patsy>=0.4.1->plotnine) (1.15.0)\n",
      "Requirement already satisfied: palettable in /usr/local/lib/python3.6/dist-packages (from mizani>=0.6.0->plotnine) (3.3.0)\n"
     ]
    }
   ],
   "source": [
    "# Plotting as in ggplot2\n",
    "!pip install plotnine\n",
    "from plotnine import *"
   ]
  },
  {
   "cell_type": "code",
   "execution_count": null,
   "metadata": {
    "colab": {
     "base_uri": "https://localhost:8080/",
     "height": 593
    },
    "colab_type": "code",
    "executionInfo": {
     "elapsed": 658,
     "status": "ok",
     "timestamp": 1600417374878,
     "user": {
      "displayName": "Victor Rebecq",
      "photoUrl": "",
      "userId": "06822429132380693157"
     },
     "user_tz": -180
    },
    "id": "6Gx5SkM9RsA0",
    "outputId": "74984871-6057-4b2d-f7d0-6324221d99e1"
   },
   "outputs": [
    {
     "name": "stdout",
     "output_type": "stream",
     "text": [
      "   distance  fare_amount\n",
      "0         1            2\n",
      "1         2            4\n",
      "2         3            5\n",
      "3         4            4\n",
      "4         5            5\n"
     ]
    },
    {
     "data": {
      "image/png": "[encoded data removed]",
      "text/plain": [
       "<Figure size 500x500 with 1 Axes>"
      ]
     },
     "metadata": {
      "tags": []
     },
     "output_type": "display_data"
    },
    {
     "data": {
      "text/plain": [
       "<ggplot: (-9223363247668937479)>"
      ]
     },
     "execution_count": 206,
     "metadata": {
      "tags": []
     },
     "output_type": "execute_result"
    }
   ],
   "source": [
    "print(example_data)\n",
    "fig = (\n",
    "    ggplot(data = example_data,\n",
    "          mapping = aes(x = 'distance', y = 'fare_amount')) +\n",
    "    geom_point(fill = '#36B059', \n",
    "               size = 5.0,\n",
    "               stroke = 2.5,\n",
    "               colour = '#2BE062',\n",
    "               shape = 'o') +\n",
    "    labs(\n",
    "        title ='',\n",
    "        x = 'distance',\n",
    "        y = 'fare amount',\n",
    "    ) +\n",
    "    xlim(0, 6) +\n",
    "    ylim(0, 7) +\n",
    "    theme_bw() + \n",
    "    theme(figure_size = (5, 5),\n",
    "          axis_line = element_line(size = 0.5, colour = \"black\"),\n",
    "          panel_grid_major = element_line(size = 0.05, colour = \"black\"),\n",
    "          panel_grid_minor = element_line(size = 0.05, colour = \"black\"),\n",
    "          axis_text = element_text(colour ='black'))\n",
    ")\n",
    "fig"
   ]
  },
  {
   "cell_type": "markdown",
   "metadata": {
    "colab_type": "text",
    "id": "MBnG26L6SvV-"
   },
   "source": [
    "### Linear regression on a toy example\n",
    "**Classroom exercise**: find value of **`intercept`** and **`slope`** (`w1`) using the equation of the line (`y = intercept + slope*x`) and lecture slides. Remember that in this example `x` is `distance` and `y` is `fare_amount`."
   ]
  },
  {
   "cell_type": "code",
   "execution_count": null,
   "metadata": {
    "colab": {
     "base_uri": "https://localhost:8080/",
     "height": 129
    },
    "colab_type": "code",
    "executionInfo": {
     "elapsed": 607,
     "status": "ok",
     "timestamp": 1600414368198,
     "user": {
      "displayName": "Victor Rebecq",
      "photoUrl": "",
      "userId": "06822429132380693157"
     },
     "user_tz": -180
    },
    "id": "dAu9OeU37kCk",
    "outputId": "f0fe7b98-36ca-4c12-ae08-d9e46de8a893"
   },
   "outputs": [
    {
     "data": {
      "text/plain": [
       "0   -2.0\n",
       "1   -1.0\n",
       "2    0.0\n",
       "3    1.0\n",
       "4    2.0\n",
       "Name: distance, dtype: float64"
      ]
     },
     "execution_count": 142,
     "metadata": {
      "tags": []
     },
     "output_type": "execute_result"
    }
   ],
   "source": [
    "#(x-mean(x))\n",
    "x = example_data.distance\n",
    "#NUMPY WAY\n",
    "x - np.mean(x)\n",
    "#PANDA WAY\n",
    "x - x.mean()"
   ]
  },
  {
   "cell_type": "code",
   "execution_count": null,
   "metadata": {
    "colab": {
     "base_uri": "https://localhost:8080/",
     "height": 36
    },
    "colab_type": "code",
    "executionInfo": {
     "elapsed": 560,
     "status": "ok",
     "timestamp": 1600414369488,
     "user": {
      "displayName": "Victor Rebecq",
      "photoUrl": "",
      "userId": "06822429132380693157"
     },
     "user_tz": -180
    },
    "id": "mTqXTHs-8UpL",
    "outputId": "44b3e63b-3d43-47c4-f94c-fad95cf39340"
   },
   "outputs": [
    {
     "data": {
      "text/plain": [
       "6.0"
      ]
     },
     "execution_count": 143,
     "metadata": {
      "tags": []
     },
     "output_type": "execute_result"
    }
   ],
   "source": [
    "x = example_data.distance\n",
    "y = example_data.fare_amount\n",
    "#NUMPY SUM (np.sum())\n",
    "#PANDA SUM (xxxxxx.sum())\n",
    "((x - x.mean())*(y - y.mean())).sum()"
   ]
  },
  {
   "cell_type": "code",
   "execution_count": null,
   "metadata": {
    "colab": {
     "base_uri": "https://localhost:8080/",
     "height": 36
    },
    "colab_type": "code",
    "executionInfo": {
     "elapsed": 529,
     "status": "ok",
     "timestamp": 1600414370885,
     "user": {
      "displayName": "Victor Rebecq",
      "photoUrl": "",
      "userId": "06822429132380693157"
     },
     "user_tz": -180
    },
    "id": "N5HyOSsA8--C",
    "outputId": "bbe70870-4252-46bc-ce3a-e99c42157dd2"
   },
   "outputs": [
    {
     "data": {
      "text/plain": [
       "10.0"
      ]
     },
     "execution_count": 144,
     "metadata": {
      "tags": []
     },
     "output_type": "execute_result"
    }
   ],
   "source": [
    "(((x - x.mean())**2).sum())"
   ]
  },
  {
   "cell_type": "code",
   "execution_count": null,
   "metadata": {
    "colab": {
     "base_uri": "https://localhost:8080/",
     "height": 36
    },
    "colab_type": "code",
    "executionInfo": {
     "elapsed": 552,
     "status": "ok",
     "timestamp": 1600414373521,
     "user": {
      "displayName": "Victor Rebecq",
      "photoUrl": "",
      "userId": "06822429132380693157"
     },
     "user_tz": -180
    },
    "id": "0aPjIMDC9IdU",
    "outputId": "dd4c308e-df19-49c4-89ea-2159896ff6c8"
   },
   "outputs": [
    {
     "data": {
      "text/plain": [
       "0.6"
      ]
     },
     "execution_count": 145,
     "metadata": {
      "tags": []
     },
     "output_type": "execute_result"
    }
   ],
   "source": [
    "(((x - x.mean())*(y - y.mean())).sum())/((((x - x.mean())**2).sum()))"
   ]
  },
  {
   "cell_type": "code",
   "execution_count": null,
   "metadata": {
    "colab": {
     "base_uri": "https://localhost:8080/",
     "height": 36
    },
    "colab_type": "code",
    "executionInfo": {
     "elapsed": 560,
     "status": "ok",
     "timestamp": 1600414374631,
     "user": {
      "displayName": "Victor Rebecq",
      "photoUrl": "",
      "userId": "06822429132380693157"
     },
     "user_tz": -180
    },
    "id": "q0wS730hP8p6",
    "outputId": "4b3183b1-a2dc-448a-b5ca-058224705f43"
   },
   "outputs": [
    {
     "name": "stdout",
     "output_type": "stream",
     "text": [
      "w1 = 0.6; intercept = 2.2, while the correct values are w1 = 0.6 and intercept = 2.2\n"
     ]
    }
   ],
   "source": [
    "##### YOUR CODE STARTS #####\n",
    "w1 = (((x - x.mean())*(y - y.mean())).sum())/((((x - x.mean())**2).sum()))\n",
    "intercept = example_data.fare_amount.mean() - w1*example_data.distance.mean()\n",
    "##### YOUR CODE ENDS ##### (please do not delete this line)\n",
    "print(f\"w1 = {w1}; intercept = {intercept}, while the correct values are w1 = 0.6 and intercept = 2.2\")"
   ]
  },
  {
   "cell_type": "markdown",
   "metadata": {
    "colab_type": "text",
    "id": "aFX1opwLVFu2"
   },
   "source": [
    "We can now plug in these coefficients to visually examine regression line that we have computed"
   ]
  },
  {
   "cell_type": "code",
   "execution_count": null,
   "metadata": {
    "colab": {
     "base_uri": "https://localhost:8080/",
     "height": 481
    },
    "colab_type": "code",
    "executionInfo": {
     "elapsed": 913,
     "status": "ok",
     "timestamp": 1600416868789,
     "user": {
      "displayName": "Victor Rebecq",
      "photoUrl": "",
      "userId": "06822429132380693157"
     },
     "user_tz": -180
    },
    "id": "VHWrTU2AEPqV",
    "outputId": "55c2975c-2352-4c83-c2d5-8f7d3a647bbe"
   },
   "outputs": [
    {
     "data": {
      "image/png": "[encoded data removed]",
      "text/plain": [
       "<Figure size 500x500 with 1 Axes>"
      ]
     },
     "metadata": {
      "tags": []
     },
     "output_type": "display_data"
    },
    {
     "data": {
      "text/plain": [
       "<ggplot: (8789193374756)>"
      ]
     },
     "execution_count": 189,
     "metadata": {
      "tags": []
     },
     "output_type": "execute_result"
    }
   ],
   "source": [
    "fig + geom_abline(intercept = intercept, slope = w1, color=\"black\", linetype=\"dashed\", size=1.5)"
   ]
  },
  {
   "cell_type": "markdown",
   "metadata": {
    "colab_type": "text",
    "id": "y8RlGcKHUKLZ"
   },
   "source": [
    "We can compare our regression line with a regression line computed by Python"
   ]
  },
  {
   "cell_type": "code",
   "execution_count": null,
   "metadata": {
    "colab": {
     "base_uri": "https://localhost:8080/",
     "height": 481
    },
    "colab_type": "code",
    "executionInfo": {
     "elapsed": 1168,
     "status": "ok",
     "timestamp": 1600411509831,
     "user": {
      "displayName": "Victor Rebecq",
      "photoUrl": "",
      "userId": "06822429132380693157"
     },
     "user_tz": -180
    },
    "id": "c5zVWrYsETu-",
    "outputId": "80dee9ae-2de0-4b97-d09d-a342ee2812ae"
   },
   "outputs": [
    {
     "data": {
      "image/png": "[encoded data removed]",
      "text/plain": [
       "<Figure size 500x500 with 1 Axes>"
      ]
     },
     "metadata": {
      "tags": []
     },
     "output_type": "display_data"
    },
    {
     "data": {
      "text/plain": [
       "<ggplot: (8789185942066)>"
      ]
     },
     "execution_count": 127,
     "metadata": {
      "tags": []
     },
     "output_type": "execute_result"
    }
   ],
   "source": [
    "fig + geom_abline(intercept = intercept, slope = w1, color=\"black\", linetype=\"dashed\", size=1.5) + geom_smooth(method = 'lm', se = False, colour = 'red')"
   ]
  },
  {
   "cell_type": "markdown",
   "metadata": {
    "colab_type": "text",
    "id": "2592NFjoX83f"
   },
   "source": [
    "### Decision tree (DT) algorithm\n",
    "We will borrow DT algorithm from sklearn package as linear regression. Sklearn has both `DecisionTreeRegressor` and `DecisionTreeClassifier` at its disposal. For now, let's use regressor."
   ]
  },
  {
   "cell_type": "code",
   "execution_count": null,
   "metadata": {
    "colab": {},
    "colab_type": "code",
    "id": "Kr2p9vu0QZ6O"
   },
   "outputs": [],
   "source": [
    "from sklearn.tree import DecisionTreeRegressor\n",
    "dtr=DecisionTreeRegressor(max_depth = 1)"
   ]
  },
  {
   "cell_type": "markdown",
   "metadata": {
    "colab_type": "text",
    "id": "vawPyvl1YGNk"
   },
   "source": [
    "we use function `fit` to train newly created DT instance on our `example_data`"
   ]
  },
  {
   "cell_type": "code",
   "execution_count": null,
   "metadata": {
    "colab": {
     "base_uri": "https://localhost:8080/",
     "height": 129
    },
    "colab_type": "code",
    "executionInfo": {
     "elapsed": 527,
     "status": "ok",
     "timestamp": 1600411514711,
     "user": {
      "displayName": "Victor Rebecq",
      "photoUrl": "",
      "userId": "06822429132380693157"
     },
     "user_tz": -180
    },
    "id": "ODKVb6OrXtDA",
    "outputId": "4301d143-5a9a-4909-fb3f-979a255d9ba3"
   },
   "outputs": [
    {
     "data": {
      "text/plain": [
       "DecisionTreeRegressor(ccp_alpha=0.0, criterion='mse', max_depth=1,\n",
       "                      max_features=None, max_leaf_nodes=None,\n",
       "                      min_impurity_decrease=0.0, min_impurity_split=None,\n",
       "                      min_samples_leaf=1, min_samples_split=2,\n",
       "                      min_weight_fraction_leaf=0.0, presort='deprecated',\n",
       "                      random_state=None, splitter='best')"
      ]
     },
     "execution_count": 129,
     "metadata": {
      "tags": []
     },
     "output_type": "execute_result"
    }
   ],
   "source": [
    "dtr.fit(X = np.array(example_data.distance).reshape(-1, 1), y = example_data.fare_amount)"
   ]
  },
  {
   "cell_type": "markdown",
   "metadata": {
    "colab_type": "text",
    "id": "in9l7yuuTKxi"
   },
   "source": [
    "### Creating a synthetic test set that would cover up the whole space"
   ]
  },
  {
   "cell_type": "code",
   "execution_count": null,
   "metadata": {
    "colab": {
     "base_uri": "https://localhost:8080/",
     "height": 206
    },
    "colab_type": "code",
    "executionInfo": {
     "elapsed": 1440,
     "status": "ok",
     "timestamp": 1600415794818,
     "user": {
      "displayName": "Victor Rebecq",
      "photoUrl": "",
      "userId": "06822429132380693157"
     },
     "user_tz": -180
    },
    "id": "lm72D7nAQBKs",
    "outputId": "fc73bd31-aa76-455f-8be7-9f34534ff819"
   },
   "outputs": [
    {
     "data": {
      "text/html": [
       "<div>\n",
       "<style scoped>\n",
       "    .dataframe tbody tr th:only-of-type {\n",
       "        vertical-align: middle;\n",
       "    }\n",
       "\n",
       "    .dataframe tbody tr th {\n",
       "        vertical-align: top;\n",
       "    }\n",
       "\n",
       "    .dataframe thead th {\n",
       "        text-align: right;\n",
       "    }\n",
       "</style>\n",
       "<table border=\"1\" class=\"dataframe\">\n",
       "  <thead>\n",
       "    <tr style=\"text-align: right;\">\n",
       "      <th></th>\n",
       "      <th>distance</th>\n",
       "      <th>fare_amount</th>\n",
       "    </tr>\n",
       "  </thead>\n",
       "  <tbody>\n",
       "    <tr>\n",
       "      <th>0</th>\n",
       "      <td>0.0</td>\n",
       "      <td>0.0</td>\n",
       "    </tr>\n",
       "    <tr>\n",
       "      <th>1</th>\n",
       "      <td>0.0</td>\n",
       "      <td>0.1</td>\n",
       "    </tr>\n",
       "    <tr>\n",
       "      <th>2</th>\n",
       "      <td>0.0</td>\n",
       "      <td>0.2</td>\n",
       "    </tr>\n",
       "    <tr>\n",
       "      <th>3</th>\n",
       "      <td>0.0</td>\n",
       "      <td>0.3</td>\n",
       "    </tr>\n",
       "    <tr>\n",
       "      <th>4</th>\n",
       "      <td>0.0</td>\n",
       "      <td>0.4</td>\n",
       "    </tr>\n",
       "  </tbody>\n",
       "</table>\n",
       "</div>"
      ],
      "text/plain": [
       "   distance  fare_amount\n",
       "0       0.0          0.0\n",
       "1       0.0          0.1\n",
       "2       0.0          0.2\n",
       "3       0.0          0.3\n",
       "4       0.0          0.4"
      ]
     },
     "execution_count": 164,
     "metadata": {
      "tags": []
     },
     "output_type": "execute_result"
    }
   ],
   "source": [
    "test_data = pd.concat([pd.DataFrame({'distance': np.repeat(x, 71), 'fare_amount': np.linspace(start=0, stop=7, num=71)}) for x in np.linspace(start=0, stop=6, num=61)])\n",
    "test_data.head()"
   ]
  },
  {
   "cell_type": "code",
   "execution_count": null,
   "metadata": {
    "colab": {
     "base_uri": "https://localhost:8080/",
     "height": 241
    },
    "colab_type": "code",
    "executionInfo": {
     "elapsed": 788,
     "status": "ok",
     "timestamp": 1600417594360,
     "user": {
      "displayName": "Victor Rebecq",
      "photoUrl": "",
      "userId": "06822429132380693157"
     },
     "user_tz": -180
    },
    "id": "dcW4UyT_859T",
    "outputId": "8831ee0f-58ec-4e09-aafc-911b2f52004a"
   },
   "outputs": [
    {
     "name": "stdout",
     "output_type": "stream",
     "text": [
      "0     2.0\n",
      "1     2.0\n",
      "2     2.0\n",
      "3     2.0\n",
      "4     2.0\n",
      "     ... \n",
      "66    4.5\n",
      "67    4.5\n",
      "68    4.5\n",
      "69    4.5\n",
      "70    4.5\n",
      "Name: predicted_amount, Length: 4331, dtype: float64\n"
     ]
    }
   ],
   "source": [
    "test_data['predicted_amount'] = dtr.predict(np.array(test_data.distance).reshape(-1, 1))\n",
    "print(test_data['predicted_amount'])"
   ]
  },
  {
   "cell_type": "code",
   "execution_count": null,
   "metadata": {
    "colab": {
     "base_uri": "https://localhost:8080/",
     "height": 481
    },
    "colab_type": "code",
    "executionInfo": {
     "elapsed": 1876,
     "status": "ok",
     "timestamp": 1600417598065,
     "user": {
      "displayName": "Victor Rebecq",
      "photoUrl": "",
      "userId": "06822429132380693157"
     },
     "user_tz": -180
    },
    "id": "fyQWG0OyQmxz",
    "outputId": "fe76cb35-fd1c-47a8-ae18-bedae68d87a8"
   },
   "outputs": [
    {
     "data": {
      "image/png": "[encoded data removed]",
      "text/plain": [
       "<Figure size 500x500 with 1 Axes>"
      ]
     },
     "metadata": {
      "tags": []
     },
     "output_type": "display_data"
    },
    {
     "data": {
      "text/plain": [
       "<ggplot: (8789169211519)>"
      ]
     },
     "execution_count": 218,
     "metadata": {
      "tags": []
     },
     "output_type": "execute_result"
    }
   ],
   "source": [
    "fig = (\n",
    "    ggplot(data = example_data,\n",
    "          mapping = aes(x = 'distance', y = 'fare_amount')) +\n",
    "    geom_point(data = test_data, mapping = aes(x = 'distance', y = 'fare_amount', size = 5.0, colour = 'predicted_amount'), shape = 's') +\n",
    "    geom_point(fill = '#36B059', \n",
    "               size = 5.0,\n",
    "               stroke = 2.5,\n",
    "               colour = '#2BE062',\n",
    "               shape = 'o') +\n",
    "    labs(\n",
    "        title ='',\n",
    "        x = 'distance',\n",
    "        y = 'fare amount',\n",
    "    ) +\n",
    "    xlim(0, 6) +\n",
    "    ylim(0, 7) +\n",
    "    theme_bw() + \n",
    "    theme(figure_size = (5, 5),\n",
    "          axis_line = element_line(size = 0.5, colour = \"black\"),\n",
    "          panel_grid_major = element_line(size = 0.05, colour = \"black\"),\n",
    "          panel_grid_minor = element_line(size = 0.05, colour = \"black\"),\n",
    "          axis_text = element_text(colour ='black')) + \n",
    "    guides(size = False)\n",
    ")\n",
    "fig"
   ]
  },
  {
   "cell_type": "markdown",
   "metadata": {
    "colab_type": "text",
    "id": "1YXt-Gxw9UY7"
   },
   "source": [
    "## Homework exercise 3 (2 points): visualising linear regression\n"
   ]
  },
  {
   "cell_type": "markdown",
   "metadata": {
    "colab_type": "text",
    "id": "gvug-opoyHSA"
   },
   "source": [
    "\n",
    "<font color='red'>**(Homework exercise 3- a)** use previously computed coefficients `w1` and `intercept` of the linear regression model to predict the fare amount in the `test_data` (1 point)"
   ]
  },
  {
   "cell_type": "code",
   "execution_count": null,
   "metadata": {
    "colab": {
     "base_uri": "https://localhost:8080/",
     "height": 241
    },
    "colab_type": "code",
    "executionInfo": {
     "elapsed": 599,
     "status": "ok",
     "timestamp": 1600417586750,
     "user": {
      "displayName": "Victor Rebecq",
      "photoUrl": "",
      "userId": "06822429132380693157"
     },
     "user_tz": -180
    },
    "id": "BPzCHrC-9kuW",
    "outputId": "0ba6a178-718c-4aed-aeb2-37e5d0adf15a"
   },
   "outputs": [
    {
     "name": "stdout",
     "output_type": "stream",
     "text": [
      "0     2.2\n",
      "1     2.2\n",
      "2     2.2\n",
      "3     2.2\n",
      "4     2.2\n",
      "     ... \n",
      "66    5.8\n",
      "67    5.8\n",
      "68    5.8\n",
      "69    5.8\n",
      "70    5.8\n",
      "Name: predicted_amount, Length: 4331, dtype: float64\n"
     ]
    }
   ],
   "source": [
    "##### YOUR CODE STARTS #####\n",
    "x = example_data.distance\n",
    "y = example_data.fare_amount\n",
    "w1 = (((x - x.mean())*(y - y.mean())).sum())/((((x - x.mean())**2).sum()))\n",
    "intercept = example_data.fare_amount.mean() - w1*example_data.distance.mean()\n",
    "\n",
    "lr.fit(X = np.array(x).reshape(-1, 1), y = example_data.fare_amount)\n",
    "test_data = pd.concat([pd.DataFrame({'distance': np.repeat(x, 71), 'fare_amount': np.linspace(start=0, stop=7, num=71)}) for x in np.linspace(start=0, stop=6, num=61)])\n",
    "\n",
    "test_data['predicted_amount'] = intercept + w1*test_data.distance\n",
    "print(test_data['predicted_amount'])\n",
    "##### YOUR CODE ENDS ##### (please do not delete this line)"
   ]
  },
  {
   "cell_type": "markdown",
   "metadata": {
    "colab_type": "text",
    "id": "1jsc7JbcphX5"
   },
   "source": [
    "<font color='red'>**(Homework exercise 3- b)** visualise these predictions as well as linear regression line the way we have done it for Decision Tree. Explain the results. (0.5 points)\n",
    "</font>"
   ]
  },
  {
   "cell_type": "code",
   "execution_count": null,
   "metadata": {
    "colab": {
     "base_uri": "https://localhost:8080/",
     "height": 705
    },
    "colab_type": "code",
    "executionInfo": {
     "elapsed": 1397,
     "status": "ok",
     "timestamp": 1600417713106,
     "user": {
      "displayName": "Victor Rebecq",
      "photoUrl": "",
      "userId": "06822429132380693157"
     },
     "user_tz": -180
    },
    "id": "utfQ_3GDplfx",
    "outputId": "4ed18400-d272-40b3-df7a-53f91972414a"
   },
   "outputs": [
    {
     "name": "stdout",
     "output_type": "stream",
     "text": [
      "0     2.2\n",
      "1     2.2\n",
      "2     2.2\n",
      "3     2.2\n",
      "4     2.2\n",
      "     ... \n",
      "66    5.8\n",
      "67    5.8\n",
      "68    5.8\n",
      "69    5.8\n",
      "70    5.8\n",
      "Name: predicted_amount, Length: 4331, dtype: float64\n"
     ]
    },
    {
     "data": {
      "image/png": "[encoded data removed]",
      "text/plain": [
       "<Figure size 500x500 with 1 Axes>"
      ]
     },
     "metadata": {
      "tags": []
     },
     "output_type": "display_data"
    },
    {
     "data": {
      "text/plain": [
       "<ggplot: (8789185939299)>"
      ]
     },
     "execution_count": 220,
     "metadata": {
      "tags": []
     },
     "output_type": "execute_result"
    }
   ],
   "source": [
    "##### YOUR CODE STARTS #####\n",
    "from sklearn.linear_model import LinearRegression\n",
    "lr = LinearRegression() #initialise the model\n",
    "lr.fit(X = np.array(example_data.distance).reshape(-1, 1), y = example_data.fare_amount)\n",
    "test_data = pd.concat([pd.DataFrame({'distance': np.repeat(x, 71), 'fare_amount': np.linspace(start=0, stop=7, num=71)}) for x in np.linspace(start=0, stop=6, num=61)])\n",
    "\n",
    "test_data['predicted_amount'] = lr.predict(np.array(test_data.distance).reshape(-1, 1))\n",
    "print(test_data['predicted_amount'])\n",
    "\n",
    "fig = (\n",
    "    ggplot(data = example_data,\n",
    "          mapping = aes(x = 'distance', y = 'fare_amount')) +\n",
    "    geom_point(data = test_data, mapping = aes(x = 'distance', y = 'fare_amount', size = 5.0, colour = 'predicted_amount'), shape = 's') +\n",
    "    geom_point(fill = '#36B059', \n",
    "               size = 5.0,\n",
    "               stroke = 2.5,\n",
    "               colour = '#2BE062',\n",
    "               shape = 'o') +\n",
    "    labs(\n",
    "        title ='',\n",
    "        x = 'distance',\n",
    "        y = 'fare amount',\n",
    "    ) +\n",
    "    xlim(0, 6) +\n",
    "    ylim(0, 7) +\n",
    "    theme_bw() + \n",
    "    theme(figure_size = (5, 5),\n",
    "          axis_line = element_line(size = 0.5, colour = \"black\"),\n",
    "          panel_grid_major = element_line(size = 0.05, colour = \"black\"),\n",
    "          panel_grid_minor = element_line(size = 0.05, colour = \"black\"),\n",
    "          axis_text = element_text(colour ='black'))\n",
    ")\n",
    "fig\n",
    "##### YOUR CODE ENDS ##### (please do not delete this line)"
   ]
  },
  {
   "cell_type": "markdown",
   "metadata": {
    "colab_type": "text",
    "id": "BY97fEcmqAW9"
   },
   "source": [
    "<font color='red'>**(Homework exercise 3- c)** Interpret the resulting figure (what is going on there?). (0.5 points)\n",
    "</font>"
   ]
  },
  {
   "cell_type": "markdown",
   "metadata": {
    "colab_type": "text",
    "id": "-t-BZGT9FYeb"
   },
   "source": [
    "\n",
    "Answer to (c): We see on the figure above that the coulor make a regression (from blue to yellow). This is the predicted value. Unlike the decision tree, when you have two splits well defined, it's here a continous regression.\n"
   ]
  },
  {
   "cell_type": "markdown",
   "metadata": {
    "colab_type": "text",
    "id": "yiyv1wdqImo-"
   },
   "source": [
    "## NYC Taxi dataset\n",
    "Next we will work with real-world dataset collected from taxis operating in New York City"
   ]
  },
  {
   "cell_type": "code",
   "execution_count": null,
   "metadata": {
    "colab": {},
    "colab_type": "code",
    "id": "vVU6bxgsNzEh"
   },
   "outputs": [],
   "source": [
    "# Code to read csv file into Colaboratory:\n",
    "!pip install -U -q PyDrive\n",
    "from pydrive.auth import GoogleAuth\n",
    "from pydrive.drive import GoogleDrive\n",
    "from google.colab import auth\n",
    "from oauth2client.client import GoogleCredentials"
   ]
  },
  {
   "cell_type": "code",
   "execution_count": null,
   "metadata": {
    "colab": {},
    "colab_type": "code",
    "id": "3QNY3__uCWRY"
   },
   "outputs": [],
   "source": [
    "# Authenticate and create the PyDrive client.\n",
    "auth.authenticate_user()\n",
    "gauth = GoogleAuth()\n",
    "gauth.credentials = GoogleCredentials.get_application_default()\n",
    "drive = GoogleDrive(gauth)\n",
    "\n",
    "link = 'https://drive.google.com/file/d/1XBBNQ6wnaz5W-h8qbL-2_4MNchGR8YCI' # The shareable link"
   ]
  },
  {
   "cell_type": "code",
   "execution_count": null,
   "metadata": {
    "colab": {},
    "colab_type": "code",
    "id": "RmMEiS7ICgRB"
   },
   "outputs": [],
   "source": [
    "downloaded = drive.CreateFile({'id':'1XBBNQ6wnaz5W-h8qbL-2_4MNchGR8YCI'}) \n",
    "downloaded.GetContentFile('nyc_data.zip')"
   ]
  },
  {
   "cell_type": "code",
   "execution_count": null,
   "metadata": {
    "colab": {
     "base_uri": "https://localhost:8080/",
     "height": 36
    },
    "colab_type": "code",
    "executionInfo": {
     "elapsed": 727,
     "status": "ok",
     "timestamp": 1600418051137,
     "user": {
      "displayName": "Victor Rebecq",
      "photoUrl": "",
      "userId": "06822429132380693157"
     },
     "user_tz": -180
    },
    "id": "DvH1jMyPOHmy",
    "outputId": "ad299aa7-c8b3-4647-c572-929c8ac4213e"
   },
   "outputs": [
    {
     "name": "stdout",
     "output_type": "stream",
     "text": [
      "adc.json  MNIST_data  nyc_data.zip  sample_data\n"
     ]
    }
   ],
   "source": [
    "# check that nyc_data.zip exists\n",
    "!ls"
   ]
  },
  {
   "cell_type": "code",
   "execution_count": null,
   "metadata": {
    "colab": {
     "base_uri": "https://localhost:8080/",
     "height": 204
    },
    "colab_type": "code",
    "executionInfo": {
     "elapsed": 2414,
     "status": "ok",
     "timestamp": 1600418056771,
     "user": {
      "displayName": "Victor Rebecq",
      "photoUrl": "",
      "userId": "06822429132380693157"
     },
     "user_tz": -180
    },
    "id": "q0zYwWsoC-sW",
    "outputId": "05877136-8d88-4f83-9794-6333575e2e71"
   },
   "outputs": [
    {
     "name": "stdout",
     "output_type": "stream",
     "text": [
      "Archive:  nyc_data.zip\n",
      "  inflating: train_2M.csv            \n",
      "  inflating: test.csv                \n",
      "   creating: __MACOSX/\n",
      "  inflating: __MACOSX/._test.csv     \n",
      "  inflating: model.pickle            \n",
      "  inflating: sample_submission.csv   \n",
      "  inflating: __MACOSX/._sample_submission.csv  \n",
      "adc.json  MNIST_data\tnyc_data.zip  sample_submission.csv  train_2M.csv\n",
      "__MACOSX  model.pickle\tsample_data   test.csv\n"
     ]
    }
   ],
   "source": [
    "# After archive has been downloaded\n",
    "# unzip it\n",
    "!unzip nyc_data.zip\n",
    "\n",
    "# check that train_2M.csv, test.csv, model.pickle and sample_submission.csv exist\n",
    "!ls"
   ]
  },
  {
   "cell_type": "markdown",
   "metadata": {
    "colab_type": "text",
    "id": "GkSYWHwZEG9j"
   },
   "source": [
    "* `train_2M.csv` contains 2 million observations from NYC dataset (6 independent variables and fare_amount that we need to predict).\n",
    "* `test.csv` contains new observations, for which we have to estimate `fare_amount` based on train data.\n",
    "* `sample_submission.csv` - a sample submission file in the correct format (columns `key` and `fare_amount`). Every row in this file matches every row in `test.csv`.\n",
    "* `model.pickel` - file that contains trained model saved as a pickle (we are going to deal with it later)"
   ]
  },
  {
   "cell_type": "markdown",
   "metadata": {
    "colab_type": "text",
    "id": "d9MiatCvf_Qz"
   },
   "source": [
    "### Setting up Kaggle"
   ]
  },
  {
   "cell_type": "markdown",
   "metadata": {
    "colab_type": "text",
    "id": "8wEnpDansSd2"
   },
   "source": [
    "You need to have an account on Kaggle.com. Before you proceed you need to create **a new API token** at Kaggle.com (your account page). Download the kaggle.json file and fill in the **key** and your username in the code below."
   ]
  },
  {
   "cell_type": "code",
   "execution_count": 436,
   "metadata": {
    "colab": {
     "base_uri": "https://localhost:8080/",
     "height": 36
    },
    "colab_type": "code",
    "executionInfo": {
     "elapsed": 585,
     "status": "ok",
     "timestamp": 1600438388613,
     "user": {
      "displayName": "Victor Rebecq",
      "photoUrl": "",
      "userId": "06822429132380693157"
     },
     "user_tz": -180
    },
    "id": "el8MSVqmEPWo",
    "outputId": "3e9ce468-9154-483e-e494-b03ae2bcfeef"
   },
   "outputs": [
    {
     "name": "stdout",
     "output_type": "stream",
     "text": [
      "mkdir: cannot create directory ‘.kaggle’: File exists\n"
     ]
    }
   ],
   "source": [
    "\"!mkdir .kaggle"
   ]
  },
  {
   "cell_type": "code",
   "execution_count": 437,
   "metadata": {
    "colab": {},
    "colab_type": "code",
    "executionInfo": {
     "elapsed": 475,
     "status": "ok",
     "timestamp": 1600438389953,
     "user": {
      "displayName": "Victor Rebecq",
      "photoUrl": "",
      "userId": "06822429132380693157"
     },
     "user_tz": -180
    },
    "id": "pqAUm2XZEz7D"
   },
   "outputs": [],
   "source": [
    "import json\n",
    "token = {\"username\":\"victorrq\",\"key\":\"bf0711d476b5acc7215498fcca0b91dd\"}\n",
    "with open('/content/.kaggle/kaggle.json', 'w') as file:\n",
    "    json.dump(token, file)"
   ]
  },
  {
   "cell_type": "code",
   "execution_count": 438,
   "metadata": {
    "colab": {},
    "colab_type": "code",
    "executionInfo": {
     "elapsed": 588,
     "status": "ok",
     "timestamp": 1600438391870,
     "user": {
      "displayName": "Victor Rebecq",
      "photoUrl": "",
      "userId": "06822429132380693157"
     },
     "user_tz": -180
    },
    "id": "VOMVGwfHGQbk"
   },
   "outputs": [],
   "source": [
    "!cp /content/.kaggle/kaggle.json ~/.kaggle/kaggle.json"
   ]
  },
  {
   "cell_type": "code",
   "execution_count": 439,
   "metadata": {
    "colab": {
     "base_uri": "https://localhost:8080/",
     "height": 36
    },
    "colab_type": "code",
    "executionInfo": {
     "elapsed": 995,
     "status": "ok",
     "timestamp": 1600438395334,
     "user": {
      "displayName": "Victor Rebecq",
      "photoUrl": "",
      "userId": "06822429132380693157"
     },
     "user_tz": -180
    },
    "id": "mW_YpRtHGTsl",
    "outputId": "52c7356d-7707-42f4-edb6-03d794bd148e"
   },
   "outputs": [
    {
     "name": "stdout",
     "output_type": "stream",
     "text": [
      "- path is now set to: {/content}\n"
     ]
    }
   ],
   "source": [
    "!kaggle config set -n path -v{/content}"
   ]
  },
  {
   "cell_type": "code",
   "execution_count": 440,
   "metadata": {
    "colab": {},
    "colab_type": "code",
    "executionInfo": {
     "elapsed": 644,
     "status": "ok",
     "timestamp": 1600438396890,
     "user": {
      "displayName": "Victor Rebecq",
      "photoUrl": "",
      "userId": "06822429132380693157"
     },
     "user_tz": -180
    },
    "id": "QLdLWX2nGWyM"
   },
   "outputs": [],
   "source": [
    "!chmod 600 ~/.kaggle/kaggle.json"
   ]
  },
  {
   "cell_type": "markdown",
   "metadata": {
    "colab_type": "text",
    "id": "2fDy-ghRhlvv"
   },
   "source": [
    "In order to sign up for a NYC Taxi competition you need to accept the rules by cliking on \"Late submission\" button in the upper right corner: https://www.kaggle.com/c/new-york-city-taxi-fare-prediction"
   ]
  },
  {
   "cell_type": "markdown",
   "metadata": {
    "colab_type": "text",
    "id": "h2FromHiSLB4"
   },
   "source": [
    "Make a test submission to ensure that the submission mechanism works"
   ]
  },
  {
   "cell_type": "code",
   "execution_count": 441,
   "metadata": {
    "colab": {
     "base_uri": "https://localhost:8080/",
     "height": 73
    },
    "colab_type": "code",
    "executionInfo": {
     "elapsed": 2617,
     "status": "ok",
     "timestamp": 1600438402438,
     "user": {
      "displayName": "Victor Rebecq",
      "photoUrl": "",
      "userId": "06822429132380693157"
     },
     "user_tz": -180
    },
    "id": "ULF0BN3LCtSE",
    "outputId": "8b428986-24f9-4f9d-d911-3b16974eeec7"
   },
   "outputs": [
    {
     "name": "stdout",
     "output_type": "stream",
     "text": [
      "Warning: Looks like you're using an outdated API Version, please consider updating (server 1.5.6 / client 1.5.4)\n",
      "100% 335k/335k [00:00<00:00, 825kB/s]\n",
      "Successfully submitted to New York City Taxi Fare Prediction"
     ]
    }
   ],
   "source": [
    "!kaggle competitions submit -c new-york-city-taxi-fare-prediction -f sample_submission.csv -m \"Sample submission test\""
   ]
  },
  {
   "cell_type": "markdown",
   "metadata": {
    "colab_type": "text",
    "id": "d4HijXgyspzs"
   },
   "source": [
    "Now you can check `My submissions` tab on the website: https://www.kaggle.com/c/new-york-city-taxi-fare-prediction/submissions"
   ]
  },
  {
   "cell_type": "markdown",
   "metadata": {
    "colab_type": "text",
    "id": "rXvcLJyNSRzH"
   },
   "source": [
    "## Read in the NYC data"
   ]
  },
  {
   "cell_type": "code",
   "execution_count": null,
   "metadata": {
    "colab": {
     "base_uri": "https://localhost:8080/",
     "height": 54
    },
    "colab_type": "code",
    "executionInfo": {
     "elapsed": 2265,
     "status": "ok",
     "timestamp": 1600418330358,
     "user": {
      "displayName": "Victor Rebecq",
      "photoUrl": "",
      "userId": "06822429132380693157"
     },
     "user_tz": -180
    },
    "id": "JQXdJrPvDMrZ",
    "outputId": "c8dba0dd-1f4e-46a3-e48c-6615ddfb6930"
   },
   "outputs": [
    {
     "name": "stdout",
     "output_type": "stream",
     "text": [
      "CPU times: user 1.57 s, sys: 131 ms, total: 1.7 s\n",
      "Wall time: 1.7 s\n"
     ]
    }
   ],
   "source": [
    "%%time \n",
    "\n",
    "# note that we use only 1M out of 2M records\n",
    "train =  pd.read_csv('train_2M.csv', parse_dates=[\"pickup_datetime\"], nrows = 1_000_000) # the first row will automatically be interpreted as a header"
   ]
  },
  {
   "cell_type": "markdown",
   "metadata": {
    "colab_type": "text",
    "id": "s2BdqFzRHFig"
   },
   "source": [
    "## Brief Exploratory Data Analysis (EDA)"
   ]
  },
  {
   "cell_type": "code",
   "execution_count": null,
   "metadata": {
    "colab": {
     "base_uri": "https://localhost:8080/",
     "height": 206
    },
    "colab_type": "code",
    "executionInfo": {
     "elapsed": 597,
     "status": "ok",
     "timestamp": 1600418332250,
     "user": {
      "displayName": "Victor Rebecq",
      "photoUrl": "",
      "userId": "06822429132380693157"
     },
     "user_tz": -180
    },
    "id": "BQTDba2DKDFX",
    "outputId": "6579b2cf-d0da-4e25-fe41-833e6c99eb0c"
   },
   "outputs": [
    {
     "data": {
      "text/html": [
       "<div>\n",
       "<style scoped>\n",
       "    .dataframe tbody tr th:only-of-type {\n",
       "        vertical-align: middle;\n",
       "    }\n",
       "\n",
       "    .dataframe tbody tr th {\n",
       "        vertical-align: top;\n",
       "    }\n",
       "\n",
       "    .dataframe thead th {\n",
       "        text-align: right;\n",
       "    }\n",
       "</style>\n",
       "<table border=\"1\" class=\"dataframe\">\n",
       "  <thead>\n",
       "    <tr style=\"text-align: right;\">\n",
       "      <th></th>\n",
       "      <th>fare_amount</th>\n",
       "      <th>pickup_datetime</th>\n",
       "      <th>pickup_longitude</th>\n",
       "      <th>pickup_latitude</th>\n",
       "      <th>dropoff_longitude</th>\n",
       "      <th>dropoff_latitude</th>\n",
       "      <th>passenger_count</th>\n",
       "    </tr>\n",
       "  </thead>\n",
       "  <tbody>\n",
       "    <tr>\n",
       "      <th>0</th>\n",
       "      <td>4.5</td>\n",
       "      <td>2009-06-15 17:26:21</td>\n",
       "      <td>-73.844311</td>\n",
       "      <td>40.721319</td>\n",
       "      <td>-73.841610</td>\n",
       "      <td>40.712278</td>\n",
       "      <td>1</td>\n",
       "    </tr>\n",
       "    <tr>\n",
       "      <th>1</th>\n",
       "      <td>16.9</td>\n",
       "      <td>2010-01-05 16:52:16</td>\n",
       "      <td>-74.016048</td>\n",
       "      <td>40.711303</td>\n",
       "      <td>-73.979268</td>\n",
       "      <td>40.782004</td>\n",
       "      <td>1</td>\n",
       "    </tr>\n",
       "    <tr>\n",
       "      <th>2</th>\n",
       "      <td>5.7</td>\n",
       "      <td>2011-08-18 00:35:00</td>\n",
       "      <td>-73.982738</td>\n",
       "      <td>40.761270</td>\n",
       "      <td>-73.991242</td>\n",
       "      <td>40.750562</td>\n",
       "      <td>2</td>\n",
       "    </tr>\n",
       "    <tr>\n",
       "      <th>3</th>\n",
       "      <td>7.7</td>\n",
       "      <td>2012-04-21 04:30:42</td>\n",
       "      <td>-73.987130</td>\n",
       "      <td>40.733143</td>\n",
       "      <td>-73.991567</td>\n",
       "      <td>40.758092</td>\n",
       "      <td>1</td>\n",
       "    </tr>\n",
       "    <tr>\n",
       "      <th>4</th>\n",
       "      <td>5.3</td>\n",
       "      <td>2010-03-09 07:51:00</td>\n",
       "      <td>-73.968095</td>\n",
       "      <td>40.768008</td>\n",
       "      <td>-73.956655</td>\n",
       "      <td>40.783762</td>\n",
       "      <td>1</td>\n",
       "    </tr>\n",
       "  </tbody>\n",
       "</table>\n",
       "</div>"
      ],
      "text/plain": [
       "   fare_amount     pickup_datetime  ...  dropoff_latitude  passenger_count\n",
       "0          4.5 2009-06-15 17:26:21  ...         40.712278                1\n",
       "1         16.9 2010-01-05 16:52:16  ...         40.782004                1\n",
       "2          5.7 2011-08-18 00:35:00  ...         40.750562                2\n",
       "3          7.7 2012-04-21 04:30:42  ...         40.758092                1\n",
       "4          5.3 2010-03-09 07:51:00  ...         40.783762                1\n",
       "\n",
       "[5 rows x 7 columns]"
      ]
     },
     "execution_count": 256,
     "metadata": {
      "tags": []
     },
     "output_type": "execute_result"
    }
   ],
   "source": [
    "train.head()"
   ]
  },
  {
   "cell_type": "code",
   "execution_count": null,
   "metadata": {
    "colab": {
     "base_uri": "https://localhost:8080/",
     "height": 167
    },
    "colab_type": "code",
    "executionInfo": {
     "elapsed": 583,
     "status": "ok",
     "timestamp": 1600418333678,
     "user": {
      "displayName": "Victor Rebecq",
      "photoUrl": "",
      "userId": "06822429132380693157"
     },
     "user_tz": -180
    },
    "id": "UiuOS0pBKL-E",
    "outputId": "fdb96aed-24c4-460c-ffb9-d829fd6cef11"
   },
   "outputs": [
    {
     "data": {
      "text/plain": [
       "fare_amount                 float64\n",
       "pickup_datetime      datetime64[ns]\n",
       "pickup_longitude            float64\n",
       "pickup_latitude             float64\n",
       "dropoff_longitude           float64\n",
       "dropoff_latitude            float64\n",
       "passenger_count               int64\n",
       "dtype: object"
      ]
     },
     "execution_count": 257,
     "metadata": {
      "tags": []
     },
     "output_type": "execute_result"
    }
   ],
   "source": [
    "train.dtypes"
   ]
  },
  {
   "cell_type": "code",
   "execution_count": null,
   "metadata": {
    "colab": {
     "base_uri": "https://localhost:8080/",
     "height": 300
    },
    "colab_type": "code",
    "executionInfo": {
     "elapsed": 1068,
     "status": "ok",
     "timestamp": 1600418335278,
     "user": {
      "displayName": "Victor Rebecq",
      "photoUrl": "",
      "userId": "06822429132380693157"
     },
     "user_tz": -180
    },
    "id": "z5658q2zOcJZ",
    "outputId": "cd7c1af3-2f87-4dc8-e243-78b494183511"
   },
   "outputs": [
    {
     "data": {
      "text/html": [
       "<div>\n",
       "<style scoped>\n",
       "    .dataframe tbody tr th:only-of-type {\n",
       "        vertical-align: middle;\n",
       "    }\n",
       "\n",
       "    .dataframe tbody tr th {\n",
       "        vertical-align: top;\n",
       "    }\n",
       "\n",
       "    .dataframe thead th {\n",
       "        text-align: right;\n",
       "    }\n",
       "</style>\n",
       "<table border=\"1\" class=\"dataframe\">\n",
       "  <thead>\n",
       "    <tr style=\"text-align: right;\">\n",
       "      <th></th>\n",
       "      <th>fare_amount</th>\n",
       "      <th>pickup_longitude</th>\n",
       "      <th>pickup_latitude</th>\n",
       "      <th>dropoff_longitude</th>\n",
       "      <th>dropoff_latitude</th>\n",
       "      <th>passenger_count</th>\n",
       "    </tr>\n",
       "  </thead>\n",
       "  <tbody>\n",
       "    <tr>\n",
       "      <th>count</th>\n",
       "      <td>1000000.000000</td>\n",
       "      <td>1000000.000000</td>\n",
       "      <td>1000000.000000</td>\n",
       "      <td>999990.000000</td>\n",
       "      <td>999990.000000</td>\n",
       "      <td>1000000.000000</td>\n",
       "    </tr>\n",
       "    <tr>\n",
       "      <th>mean</th>\n",
       "      <td>11.348079</td>\n",
       "      <td>-72.526640</td>\n",
       "      <td>39.929008</td>\n",
       "      <td>-72.527860</td>\n",
       "      <td>39.919954</td>\n",
       "      <td>1.684924</td>\n",
       "    </tr>\n",
       "    <tr>\n",
       "      <th>std</th>\n",
       "      <td>9.822090</td>\n",
       "      <td>12.057937</td>\n",
       "      <td>7.626154</td>\n",
       "      <td>11.324494</td>\n",
       "      <td>8.201418</td>\n",
       "      <td>1.323911</td>\n",
       "    </tr>\n",
       "    <tr>\n",
       "      <th>min</th>\n",
       "      <td>-44.900000</td>\n",
       "      <td>-3377.680935</td>\n",
       "      <td>-3116.285383</td>\n",
       "      <td>-3383.296608</td>\n",
       "      <td>-3114.338567</td>\n",
       "      <td>0.000000</td>\n",
       "    </tr>\n",
       "    <tr>\n",
       "      <th>25%</th>\n",
       "      <td>6.000000</td>\n",
       "      <td>-73.992060</td>\n",
       "      <td>40.734965</td>\n",
       "      <td>-73.991385</td>\n",
       "      <td>40.734046</td>\n",
       "      <td>1.000000</td>\n",
       "    </tr>\n",
       "    <tr>\n",
       "      <th>50%</th>\n",
       "      <td>8.500000</td>\n",
       "      <td>-73.981792</td>\n",
       "      <td>40.752695</td>\n",
       "      <td>-73.980135</td>\n",
       "      <td>40.753166</td>\n",
       "      <td>1.000000</td>\n",
       "    </tr>\n",
       "    <tr>\n",
       "      <th>75%</th>\n",
       "      <td>12.500000</td>\n",
       "      <td>-73.967094</td>\n",
       "      <td>40.767154</td>\n",
       "      <td>-73.963654</td>\n",
       "      <td>40.768129</td>\n",
       "      <td>2.000000</td>\n",
       "    </tr>\n",
       "    <tr>\n",
       "      <th>max</th>\n",
       "      <td>500.000000</td>\n",
       "      <td>2522.271325</td>\n",
       "      <td>2621.628430</td>\n",
       "      <td>45.581619</td>\n",
       "      <td>1651.553433</td>\n",
       "      <td>208.000000</td>\n",
       "    </tr>\n",
       "  </tbody>\n",
       "</table>\n",
       "</div>"
      ],
      "text/plain": [
       "          fare_amount  pickup_longitude  ...  dropoff_latitude  passenger_count\n",
       "count  1000000.000000    1000000.000000  ...     999990.000000   1000000.000000\n",
       "mean        11.348079        -72.526640  ...         39.919954         1.684924\n",
       "std          9.822090         12.057937  ...          8.201418         1.323911\n",
       "min        -44.900000      -3377.680935  ...      -3114.338567         0.000000\n",
       "25%          6.000000        -73.992060  ...         40.734046         1.000000\n",
       "50%          8.500000        -73.981792  ...         40.753166         1.000000\n",
       "75%         12.500000        -73.967094  ...         40.768129         2.000000\n",
       "max        500.000000       2522.271325  ...       1651.553433       208.000000\n",
       "\n",
       "[8 rows x 6 columns]"
      ]
     },
     "execution_count": 258,
     "metadata": {
      "tags": []
     },
     "output_type": "execute_result"
    }
   ],
   "source": [
    "train.describe()"
   ]
  },
  {
   "cell_type": "code",
   "execution_count": null,
   "metadata": {
    "colab": {},
    "colab_type": "code",
    "id": "nYJkes3jOdaJ"
   },
   "outputs": [],
   "source": [
    "def add_travel_vector_features(df):\n",
    "    df['abs_diff_longitude'] = (df.dropoff_longitude - df.pickup_longitude).abs()\n",
    "    df['abs_diff_latitude'] = (df.dropoff_latitude - df.pickup_latitude).abs()\n",
    "\n",
    "add_travel_vector_features(train)"
   ]
  },
  {
   "cell_type": "code",
   "execution_count": null,
   "metadata": {
    "colab": {
     "base_uri": "https://localhost:8080/",
     "height": 313
    },
    "colab_type": "code",
    "executionInfo": {
     "elapsed": 438,
     "status": "ok",
     "timestamp": 1600418337507,
     "user": {
      "displayName": "Victor Rebecq",
      "photoUrl": "",
      "userId": "06822429132380693157"
     },
     "user_tz": -180
    },
    "id": "rvX84Hoxk1Zj",
    "outputId": "392db64c-abae-4b55-f824-02be5c7829a9"
   },
   "outputs": [
    {
     "data": {
      "text/html": [
       "<div>\n",
       "<style scoped>\n",
       "    .dataframe tbody tr th:only-of-type {\n",
       "        vertical-align: middle;\n",
       "    }\n",
       "\n",
       "    .dataframe tbody tr th {\n",
       "        vertical-align: top;\n",
       "    }\n",
       "\n",
       "    .dataframe thead th {\n",
       "        text-align: right;\n",
       "    }\n",
       "</style>\n",
       "<table border=\"1\" class=\"dataframe\">\n",
       "  <thead>\n",
       "    <tr style=\"text-align: right;\">\n",
       "      <th></th>\n",
       "      <th>fare_amount</th>\n",
       "      <th>pickup_datetime</th>\n",
       "      <th>pickup_longitude</th>\n",
       "      <th>pickup_latitude</th>\n",
       "      <th>dropoff_longitude</th>\n",
       "      <th>dropoff_latitude</th>\n",
       "      <th>passenger_count</th>\n",
       "      <th>abs_diff_longitude</th>\n",
       "      <th>abs_diff_latitude</th>\n",
       "    </tr>\n",
       "  </thead>\n",
       "  <tbody>\n",
       "    <tr>\n",
       "      <th>0</th>\n",
       "      <td>4.5</td>\n",
       "      <td>2009-06-15 17:26:21</td>\n",
       "      <td>-73.844311</td>\n",
       "      <td>40.721319</td>\n",
       "      <td>-73.841610</td>\n",
       "      <td>40.712278</td>\n",
       "      <td>1</td>\n",
       "      <td>0.002701</td>\n",
       "      <td>0.009041</td>\n",
       "    </tr>\n",
       "    <tr>\n",
       "      <th>1</th>\n",
       "      <td>16.9</td>\n",
       "      <td>2010-01-05 16:52:16</td>\n",
       "      <td>-74.016048</td>\n",
       "      <td>40.711303</td>\n",
       "      <td>-73.979268</td>\n",
       "      <td>40.782004</td>\n",
       "      <td>1</td>\n",
       "      <td>0.036780</td>\n",
       "      <td>0.070701</td>\n",
       "    </tr>\n",
       "    <tr>\n",
       "      <th>2</th>\n",
       "      <td>5.7</td>\n",
       "      <td>2011-08-18 00:35:00</td>\n",
       "      <td>-73.982738</td>\n",
       "      <td>40.761270</td>\n",
       "      <td>-73.991242</td>\n",
       "      <td>40.750562</td>\n",
       "      <td>2</td>\n",
       "      <td>0.008504</td>\n",
       "      <td>0.010708</td>\n",
       "    </tr>\n",
       "    <tr>\n",
       "      <th>3</th>\n",
       "      <td>7.7</td>\n",
       "      <td>2012-04-21 04:30:42</td>\n",
       "      <td>-73.987130</td>\n",
       "      <td>40.733143</td>\n",
       "      <td>-73.991567</td>\n",
       "      <td>40.758092</td>\n",
       "      <td>1</td>\n",
       "      <td>0.004437</td>\n",
       "      <td>0.024949</td>\n",
       "    </tr>\n",
       "    <tr>\n",
       "      <th>4</th>\n",
       "      <td>5.3</td>\n",
       "      <td>2010-03-09 07:51:00</td>\n",
       "      <td>-73.968095</td>\n",
       "      <td>40.768008</td>\n",
       "      <td>-73.956655</td>\n",
       "      <td>40.783762</td>\n",
       "      <td>1</td>\n",
       "      <td>0.011440</td>\n",
       "      <td>0.015754</td>\n",
       "    </tr>\n",
       "  </tbody>\n",
       "</table>\n",
       "</div>"
      ],
      "text/plain": [
       "   fare_amount     pickup_datetime  ...  abs_diff_longitude  abs_diff_latitude\n",
       "0          4.5 2009-06-15 17:26:21  ...            0.002701           0.009041\n",
       "1         16.9 2010-01-05 16:52:16  ...            0.036780           0.070701\n",
       "2          5.7 2011-08-18 00:35:00  ...            0.008504           0.010708\n",
       "3          7.7 2012-04-21 04:30:42  ...            0.004437           0.024949\n",
       "4          5.3 2010-03-09 07:51:00  ...            0.011440           0.015754\n",
       "\n",
       "[5 rows x 9 columns]"
      ]
     },
     "execution_count": 260,
     "metadata": {
      "tags": []
     },
     "output_type": "execute_result"
    }
   ],
   "source": [
    "train.head()"
   ]
  },
  {
   "cell_type": "markdown",
   "metadata": {
    "colab_type": "text",
    "id": "ETMJ8EI4lHrh"
   },
   "source": [
    "Read in test set"
   ]
  },
  {
   "cell_type": "code",
   "execution_count": null,
   "metadata": {
    "colab": {
     "base_uri": "https://localhost:8080/",
     "height": 167
    },
    "colab_type": "code",
    "executionInfo": {
     "elapsed": 604,
     "status": "ok",
     "timestamp": 1600418339453,
     "user": {
      "displayName": "Victor Rebecq",
      "photoUrl": "",
      "userId": "06822429132380693157"
     },
     "user_tz": -180
    },
    "id": "17Lkf_YsOguo",
    "outputId": "b78eeff7-d91b-4e86-fcc0-26b8ee5d3182"
   },
   "outputs": [
    {
     "data": {
      "text/plain": [
       "key                   object\n",
       "pickup_datetime       object\n",
       "pickup_longitude     float64\n",
       "pickup_latitude      float64\n",
       "dropoff_longitude    float64\n",
       "dropoff_latitude     float64\n",
       "passenger_count        int64\n",
       "dtype: object"
      ]
     },
     "execution_count": 261,
     "metadata": {
      "tags": []
     },
     "output_type": "execute_result"
    }
   ],
   "source": [
    "test_df = pd.read_csv('test.csv')\n",
    "test_df.dtypes"
   ]
  },
  {
   "cell_type": "code",
   "execution_count": null,
   "metadata": {
    "colab": {},
    "colab_type": "code",
    "id": "nLM0rXFtOiNI"
   },
   "outputs": [],
   "source": [
    "add_travel_vector_features(test_df)"
   ]
  },
  {
   "cell_type": "code",
   "execution_count": null,
   "metadata": {
    "colab": {
     "base_uri": "https://localhost:8080/",
     "height": 204
    },
    "colab_type": "code",
    "executionInfo": {
     "elapsed": 750,
     "status": "ok",
     "timestamp": 1600418342509,
     "user": {
      "displayName": "Victor Rebecq",
      "photoUrl": "",
      "userId": "06822429132380693157"
     },
     "user_tz": -180
    },
    "id": "nHR870EOOj4g",
    "outputId": "784ea33d-b0ff-414c-d25d-3f44e93b1785"
   },
   "outputs": [
    {
     "name": "stdout",
     "output_type": "stream",
     "text": [
      "fare_amount            0\n",
      "pickup_datetime        0\n",
      "pickup_longitude       0\n",
      "pickup_latitude        0\n",
      "dropoff_longitude     10\n",
      "dropoff_latitude      10\n",
      "passenger_count        0\n",
      "abs_diff_longitude    10\n",
      "abs_diff_latitude     10\n",
      "dtype: int64\n"
     ]
    }
   ],
   "source": [
    "print(train.isnull().sum())"
   ]
  },
  {
   "cell_type": "code",
   "execution_count": null,
   "metadata": {
    "colab": {
     "base_uri": "https://localhost:8080/",
     "height": 54
    },
    "colab_type": "code",
    "executionInfo": {
     "elapsed": 575,
     "status": "ok",
     "timestamp": 1600418343602,
     "user": {
      "displayName": "Victor Rebecq",
      "photoUrl": "",
      "userId": "06822429132380693157"
     },
     "user_tz": -180
    },
    "id": "ygKyHcPJOlJw",
    "outputId": "331eda5d-74b3-4a2a-c276-65bdbbd4301f"
   },
   "outputs": [
    {
     "name": "stdout",
     "output_type": "stream",
     "text": [
      "Old size: 1000000\n",
      "New size: 999990\n"
     ]
    }
   ],
   "source": [
    "print(f'Old size: {len(train)}')\n",
    "train = train.dropna(how = 'any', axis = 'rows')\n",
    "print(f'New size: {len(train)}')"
   ]
  },
  {
   "cell_type": "code",
   "execution_count": null,
   "metadata": {
    "colab": {
     "base_uri": "https://localhost:8080/",
     "height": 498
    },
    "colab_type": "code",
    "executionInfo": {
     "elapsed": 650,
     "status": "ok",
     "timestamp": 1600418344952,
     "user": {
      "displayName": "Victor Rebecq",
      "photoUrl": "",
      "userId": "06822429132380693157"
     },
     "user_tz": -180
    },
    "id": "5ngFKLETOm_4",
    "outputId": "66dbc9e2-fe9a-4cca-9608-4e76cf2f3ecd"
   },
   "outputs": [
    {
     "data": {
      "image/png": "[encoded data removed]",
      "text/plain": [
       "<Figure size 720x576 with 1 Axes>"
      ]
     },
     "metadata": {
      "needs_background": "light",
      "tags": []
     },
     "output_type": "display_data"
    }
   ],
   "source": [
    "plot = train.iloc[:2000].plot.scatter('abs_diff_longitude', 'abs_diff_latitude')"
   ]
  },
  {
   "cell_type": "code",
   "execution_count": null,
   "metadata": {
    "colab": {
     "base_uri": "https://localhost:8080/",
     "height": 54
    },
    "colab_type": "code",
    "executionInfo": {
     "elapsed": 512,
     "status": "ok",
     "timestamp": 1600418346377,
     "user": {
      "displayName": "Victor Rebecq",
      "photoUrl": "",
      "userId": "06822429132380693157"
     },
     "user_tz": -180
    },
    "id": "Z5WHdOKjOoi_",
    "outputId": "b98f1e4b-907f-48d3-fe71-2569a0f0b43b"
   },
   "outputs": [
    {
     "name": "stdout",
     "output_type": "stream",
     "text": [
      "Old size: 999990\n",
      "New size: 998025\n"
     ]
    }
   ],
   "source": [
    "print(f'Old size: {len(train)}')\n",
    "train = train[(train.abs_diff_longitude < 5.0) & (train.abs_diff_latitude < 5.0)]\n",
    "print(f'New size: {len(train)}')"
   ]
  },
  {
   "cell_type": "code",
   "execution_count": null,
   "metadata": {
    "colab": {
     "base_uri": "https://localhost:8080/",
     "height": 498
    },
    "colab_type": "code",
    "executionInfo": {
     "elapsed": 700,
     "status": "ok",
     "timestamp": 1600418348119,
     "user": {
      "displayName": "Victor Rebecq",
      "photoUrl": "",
      "userId": "06822429132380693157"
     },
     "user_tz": -180
    },
    "id": "zinnh2oEP2Fj",
    "outputId": "88acb425-7a4c-42ce-c4dd-bf5eb98b0851"
   },
   "outputs": [
    {
     "data": {
      "image/png": "[encoded data removed]",
      "text/plain": [
       "<Figure size 720x576 with 1 Axes>"
      ]
     },
     "metadata": {
      "needs_background": "light",
      "tags": []
     },
     "output_type": "display_data"
    }
   ],
   "source": [
    "plot = train.iloc[:2000].plot.scatter('abs_diff_longitude', 'abs_diff_latitude')"
   ]
  },
  {
   "cell_type": "markdown",
   "metadata": {
    "colab_type": "text",
    "id": "lr1Xa6-LHq52"
   },
   "source": [
    "### Naive baseline\n",
    "**Classroom exercise**: what is a reasonable baseline for predicting fare amount (`fare_amount` column in NYC taxi dataset) without knowing anything else?"
   ]
  },
  {
   "cell_type": "code",
   "execution_count": null,
   "metadata": {
    "colab": {
     "base_uri": "https://localhost:8080/",
     "height": 36
    },
    "colab_type": "code",
    "executionInfo": {
     "elapsed": 495,
     "status": "ok",
     "timestamp": 1600418350177,
     "user": {
      "displayName": "Victor Rebecq",
      "photoUrl": "",
      "userId": "06822429132380693157"
     },
     "user_tz": -180
    },
    "id": "Lb3-APn-OvSV",
    "outputId": "251aeb45-fce7-47f9-e3c1-97e3c696347e"
   },
   "outputs": [
    {
     "data": {
      "text/plain": [
       "11.34121439843731"
      ]
     },
     "execution_count": 268,
     "metadata": {
      "tags": []
     },
     "output_type": "execute_result"
    }
   ],
   "source": [
    "train.fare_amount.mean()"
   ]
  },
  {
   "cell_type": "code",
   "execution_count": null,
   "metadata": {
    "colab": {},
    "colab_type": "code",
    "id": "U9ZpHS5mQupp"
   },
   "outputs": [],
   "source": [
    "##### YOUR CODE STARTS #####\n",
    "baseline_predictions = np.repeat(train.fare_amount.mean(),test_df.shape[0])\n",
    "##### YOUR CODE ENDS ##### (please do not delete this line)"
   ]
  },
  {
   "cell_type": "code",
   "execution_count": null,
   "metadata": {
    "colab": {
     "base_uri": "https://localhost:8080/",
     "height": 36
    },
    "colab_type": "code",
    "executionInfo": {
     "elapsed": 380,
     "status": "ok",
     "timestamp": 1600418353736,
     "user": {
      "displayName": "Victor Rebecq",
      "photoUrl": "",
      "userId": "06822429132380693157"
     },
     "user_tz": -180
    },
    "id": "soqvE4jkO2lo",
    "outputId": "5ecf0934-8d6c-4884-ce83-ac6532169f35"
   },
   "outputs": [
    {
     "data": {
      "text/plain": [
       "(9914,)"
      ]
     },
     "execution_count": 270,
     "metadata": {
      "tags": []
     },
     "output_type": "execute_result"
    }
   ],
   "source": [
    "baseline_predictions.shape"
   ]
  },
  {
   "cell_type": "code",
   "execution_count": null,
   "metadata": {
    "colab": {
     "base_uri": "https://localhost:8080/",
     "height": 73
    },
    "colab_type": "code",
    "executionInfo": {
     "elapsed": 552,
     "status": "ok",
     "timestamp": 1600418355469,
     "user": {
      "displayName": "Victor Rebecq",
      "photoUrl": "",
      "userId": "06822429132380693157"
     },
     "user_tz": -180
    },
    "id": "HtPZhyzMUBOQ",
    "outputId": "d3748523-0ec7-4bae-88b2-b0171dd0329c"
   },
   "outputs": [
    {
     "name": "stdout",
     "output_type": "stream",
     "text": [
      "adc.json\t\t  MNIST_data\tsample_data\t\t test.csv\n",
      "linear_regression.pickle  model.pickle\tsample_submission.csv\t train_2M.csv\n",
      "__MACOSX\t\t  nyc_data.zip\tsubmission_baseline.csv\n"
     ]
    }
   ],
   "source": [
    "# Write the predictions to a CSV file which we can submit to the competition.\n",
    "submission = pd.DataFrame(\n",
    "    {'key': test_df.key, 'fare_amount': baseline_predictions},\n",
    "    columns = ['key', 'fare_amount'])\n",
    "submission.to_csv('submission_baseline.csv', index = False)\n",
    "\n",
    "!ls"
   ]
  },
  {
   "cell_type": "markdown",
   "metadata": {
    "colab_type": "text",
    "id": "pMTcwEVKZfrP"
   },
   "source": [
    "**Classroom exercise**: submit `submission_baseline.csv` to kaggle using earlier example, report RMSE that you get"
   ]
  },
  {
   "cell_type": "code",
   "execution_count": null,
   "metadata": {
    "colab": {
     "base_uri": "https://localhost:8080/",
     "height": 73
    },
    "colab_type": "code",
    "executionInfo": {
     "elapsed": 1803,
     "status": "ok",
     "timestamp": 1600418358736,
     "user": {
      "displayName": "Victor Rebecq",
      "photoUrl": "",
      "userId": "06822429132380693157"
     },
     "user_tz": -180
    },
    "id": "ghUXJjZtWNhR",
    "outputId": "11e5c0d7-952b-4c45-fe3f-639fa7ee16b4"
   },
   "outputs": [
    {
     "name": "stdout",
     "output_type": "stream",
     "text": [
      "Warning: Looks like you're using an outdated API Version, please consider updating (server 1.5.6 / client 1.5.4)\n",
      "100% 451k/451k [00:00<00:00, 1.74MB/s]\n",
      "Successfully submitted to New York City Taxi Fare Prediction"
     ]
    }
   ],
   "source": [
    "##### YOUR CODE STARTS #####\n",
    "!kaggle competitions submit -c new-york-city-taxi-fare-prediction -f submission_baseline.csv -m \"Baseline submission\"\n",
    "##### YOUR CODE ENDS ##### (please do not delete this line)"
   ]
  },
  {
   "cell_type": "markdown",
   "metadata": {
    "colab_type": "text",
    "id": "ba5yhMc2XBxz"
   },
   "source": [
    "### Linear regression on NYC taxi dataset based on one feature (abs_diff_longitude)"
   ]
  },
  {
   "cell_type": "markdown",
   "metadata": {
    "colab_type": "text",
    "id": "QHgq2oyYXzU_"
   },
   "source": [
    "**Classroom exercise**: Use earlier example on 2D data to calculate **`slope`** (`w1`) and **`intercept`** based on **`abs_diff_longitude`**\n"
   ]
  },
  {
   "cell_type": "code",
   "execution_count": null,
   "metadata": {
    "colab": {
     "base_uri": "https://localhost:8080/",
     "height": 36
    },
    "colab_type": "code",
    "executionInfo": {
     "elapsed": 664,
     "status": "ok",
     "timestamp": 1600418360821,
     "user": {
      "displayName": "Victor Rebecq",
      "photoUrl": "",
      "userId": "06822429132380693157"
     },
     "user_tz": -180
    },
    "id": "21P48rhuXE3h",
    "outputId": "6a084d2b-c543-4f70-998e-1aaa9f2a3793"
   },
   "outputs": [
    {
     "name": "stdout",
     "output_type": "stream",
     "text": [
      "w1 = 179.08616006; intercept = 7.31070345\n"
     ]
    }
   ],
   "source": [
    "##### YOUR CODE STARTS #####\n",
    "x = train.abs_diff_longitude\n",
    "y = train.fare_amount\n",
    "\n",
    "w1 = (((x - x.mean())*(y - y.mean())).sum())/((((x - x.mean())**2).sum()))\n",
    "intercept = train.fare_amount.mean() - w1*train.abs_diff_longitude.mean()\n",
    "\n",
    "##### YOUR CODE ENDS ##### (please do not delete this line)\n",
    "print(f\"w1 = {round(w1, 8)}; intercept = {round(intercept, 8)}\")"
   ]
  },
  {
   "cell_type": "markdown",
   "metadata": {
    "colab_type": "text",
    "id": "VoCEE4HkaPTB"
   },
   "source": [
    "Instead of calculating coefficients ourselves, we can use sklearn"
   ]
  },
  {
   "cell_type": "code",
   "execution_count": null,
   "metadata": {
    "colab": {
     "base_uri": "https://localhost:8080/",
     "height": 36
    },
    "colab_type": "code",
    "executionInfo": {
     "elapsed": 546,
     "status": "ok",
     "timestamp": 1600418363410,
     "user": {
      "displayName": "Victor Rebecq",
      "photoUrl": "",
      "userId": "06822429132380693157"
     },
     "user_tz": -180
    },
    "id": "ZCA4fNQO0P6J",
    "outputId": "3a633164-511d-4314-8b9d-e79385d71579"
   },
   "outputs": [
    {
     "data": {
      "text/plain": [
       "LinearRegression(copy_X=True, fit_intercept=True, n_jobs=None, normalize=False)"
      ]
     },
     "execution_count": 274,
     "metadata": {
      "tags": []
     },
     "output_type": "execute_result"
    }
   ],
   "source": [
    "from sklearn.linear_model import LinearRegression\n",
    "\n",
    "lr = LinearRegression()\n",
    "lr.fit(train[['abs_diff_longitude']], train[['fare_amount']])"
   ]
  },
  {
   "cell_type": "markdown",
   "metadata": {
    "colab_type": "text",
    "id": "pC06Xp1w9A-c"
   },
   "source": [
    "#### Inspecting model object"
   ]
  },
  {
   "cell_type": "code",
   "execution_count": null,
   "metadata": {
    "colab": {
     "base_uri": "https://localhost:8080/",
     "height": 1000
    },
    "colab_type": "code",
    "executionInfo": {
     "elapsed": 643,
     "status": "ok",
     "timestamp": 1600418366204,
     "user": {
      "displayName": "Victor Rebecq",
      "photoUrl": "",
      "userId": "06822429132380693157"
     },
     "user_tz": -180
    },
    "id": "V14--yD080QR",
    "outputId": "05e00f04-2bf4-496f-8d61-00a9685550fb"
   },
   "outputs": [
    {
     "data": {
      "text/plain": [
       "['__abstractmethods__',\n",
       " '__class__',\n",
       " '__delattr__',\n",
       " '__dict__',\n",
       " '__dir__',\n",
       " '__doc__',\n",
       " '__eq__',\n",
       " '__format__',\n",
       " '__ge__',\n",
       " '__getattribute__',\n",
       " '__getstate__',\n",
       " '__gt__',\n",
       " '__hash__',\n",
       " '__init__',\n",
       " '__init_subclass__',\n",
       " '__le__',\n",
       " '__lt__',\n",
       " '__module__',\n",
       " '__ne__',\n",
       " '__new__',\n",
       " '__reduce__',\n",
       " '__reduce_ex__',\n",
       " '__repr__',\n",
       " '__setattr__',\n",
       " '__setstate__',\n",
       " '__sizeof__',\n",
       " '__str__',\n",
       " '__subclasshook__',\n",
       " '__weakref__',\n",
       " '_abc_cache',\n",
       " '_abc_negative_cache',\n",
       " '_abc_negative_cache_version',\n",
       " '_abc_registry',\n",
       " '_decision_function',\n",
       " '_estimator_type',\n",
       " '_get_param_names',\n",
       " '_get_tags',\n",
       " '_more_tags',\n",
       " '_preprocess_data',\n",
       " '_residues',\n",
       " '_set_intercept',\n",
       " 'coef_',\n",
       " 'copy_X',\n",
       " 'fit',\n",
       " 'fit_intercept',\n",
       " 'get_params',\n",
       " 'intercept_',\n",
       " 'n_jobs',\n",
       " 'normalize',\n",
       " 'predict',\n",
       " 'rank_',\n",
       " 'score',\n",
       " 'set_params',\n",
       " 'singular_']"
      ]
     },
     "execution_count": 275,
     "metadata": {
      "tags": []
     },
     "output_type": "execute_result"
    }
   ],
   "source": [
    "dir(lr)"
   ]
  },
  {
   "cell_type": "code",
   "execution_count": null,
   "metadata": {
    "colab": {
     "base_uri": "https://localhost:8080/",
     "height": 36
    },
    "colab_type": "code",
    "executionInfo": {
     "elapsed": 570,
     "status": "ok",
     "timestamp": 1600418370870,
     "user": {
      "displayName": "Victor Rebecq",
      "photoUrl": "",
      "userId": "06822429132380693157"
     },
     "user_tz": -180
    },
    "id": "vnGHTN__AOtp",
    "outputId": "f096f023-483d-4367-96a1-55b0c2fcc120"
   },
   "outputs": [
    {
     "name": "stdout",
     "output_type": "stream",
     "text": [
      "[179.08616006, 7.31070345]\n"
     ]
    }
   ],
   "source": [
    "# Print learnt weights\n",
    "print(f'[{round(lr.coef_[0][0], 8)}, {round(lr.intercept_[0], 8)}]')"
   ]
  },
  {
   "cell_type": "markdown",
   "metadata": {
    "colab_type": "text",
    "id": "GDfEG31gXvKZ"
   },
   "source": [
    "Using earlier example, let's predict `fare_amount` based on calculated coefficients **`intercept`** and **`w1`** and **`test_df.abs_diff_longitude`**."
   ]
  },
  {
   "cell_type": "code",
   "execution_count": null,
   "metadata": {
    "colab": {},
    "colab_type": "code",
    "id": "IdbmbIpzXTI9"
   },
   "outputs": [],
   "source": [
    "predictions_manual = w1*test_df.abs_diff_longitude + intercept"
   ]
  },
  {
   "cell_type": "markdown",
   "metadata": {
    "colab_type": "text",
    "id": "kBCmETriTz-Y"
   },
   "source": [
    "Here is how you can predict `fare_amount` for `test_df` using sklearn object `lr`:"
   ]
  },
  {
   "cell_type": "code",
   "execution_count": null,
   "metadata": {
    "colab": {},
    "colab_type": "code",
    "id": "3OJ83PbMGGnc"
   },
   "outputs": [],
   "source": [
    "predictions_sklearn = lr.predict(test_df[['abs_diff_longitude']])"
   ]
  },
  {
   "cell_type": "code",
   "execution_count": null,
   "metadata": {
    "colab": {
     "base_uri": "https://localhost:8080/",
     "height": 92
    },
    "colab_type": "code",
    "executionInfo": {
     "elapsed": 528,
     "status": "ok",
     "timestamp": 1600418376061,
     "user": {
      "displayName": "Victor Rebecq",
      "photoUrl": "",
      "userId": "06822429132380693157"
     },
     "user_tz": -180
    },
    "id": "yZ7zhICFX8Y6",
    "outputId": "2c51aec8-3411-45b2-dfd1-b4925bdc223b"
   },
   "outputs": [
    {
     "name": "stdout",
     "output_type": "stream",
     "text": [
      "adc.json\t\t  model.pickle\t\t submission_baseline.csv\n",
      "linear_regression.pickle  nyc_data.zip\t\t submission_lr_2d.csv\n",
      "__MACOSX\t\t  sample_data\t\t test.csv\n",
      "MNIST_data\t\t  sample_submission.csv  train_2M.csv\n"
     ]
    }
   ],
   "source": [
    "submission = pd.DataFrame(\n",
    "    {'key': test_df.key, 'fare_amount': np.squeeze(predictions_sklearn)},\n",
    "    columns = ['key', 'fare_amount'])\n",
    "submission.to_csv('submission_lr_2d.csv', index = False)\n",
    "\n",
    "!ls "
   ]
  },
  {
   "cell_type": "code",
   "execution_count": null,
   "metadata": {
    "colab": {
     "base_uri": "https://localhost:8080/",
     "height": 73
    },
    "colab_type": "code",
    "executionInfo": {
     "elapsed": 2023,
     "status": "ok",
     "timestamp": 1600418378849,
     "user": {
      "displayName": "Victor Rebecq",
      "photoUrl": "",
      "userId": "06822429132380693157"
     },
     "user_tz": -180
    },
    "id": "hlwRf3w0YCxM",
    "outputId": "95e5a53d-f307-4479-a0ac-2b551c811655"
   },
   "outputs": [
    {
     "name": "stdout",
     "output_type": "stream",
     "text": [
      "Warning: Looks like you're using an outdated API Version, please consider updating (server 1.5.6 / client 1.5.4)\n",
      "100% 454k/454k [00:00<00:00, 2.16MB/s]\n",
      "Successfully submitted to New York City Taxi Fare Prediction"
     ]
    }
   ],
   "source": [
    "!kaggle competitions submit -c new-york-city-taxi-fare-prediction -f submission_lr_2d.csv -m \"Linear Regression with only abs_diff_longitude as an independent variable\""
   ]
  },
  {
   "cell_type": "code",
   "execution_count": null,
   "metadata": {
    "colab": {
     "base_uri": "https://localhost:8080/",
     "height": 204
    },
    "colab_type": "code",
    "executionInfo": {
     "elapsed": 627,
     "status": "ok",
     "timestamp": 1600418380229,
     "user": {
      "displayName": "Victor Rebecq",
      "photoUrl": "",
      "userId": "06822429132380693157"
     },
     "user_tz": -180
    },
    "id": "toSd2drMJzvp",
    "outputId": "420b48d2-a089-4a51-b001-37d958ade135"
   },
   "outputs": [
    {
     "name": "stdout",
     "output_type": "stream",
     "text": [
      "key,fare_amount\n",
      "2015-01-27 13:08:24.0000002,8.763100513241412\n",
      "2015-01-27 13:08:24.0000003,9.464022144954694\n",
      "2011-10-08 11:53:44.0000002,7.8246807272937176\n",
      "2012-12-01 21:12:12.0000002,8.974055702575015\n",
      "2012-12-01 21:12:12.0000003,11.343544686361735\n",
      "2012-12-01 21:12:12.0000005,10.568997044091063\n",
      "2011-10-06 12:10:20.0000001,9.210628520017996\n",
      "2011-10-06 12:10:20.0000003,44.52498659500659\n",
      "2011-10-06 12:10:20.0000002,10.712086885978357\n"
     ]
    }
   ],
   "source": [
    "!head submission_lr_2d.csv"
   ]
  },
  {
   "cell_type": "markdown",
   "metadata": {
    "colab_type": "text",
    "id": "fLpkthynagGi"
   },
   "source": [
    "What RMSE you obtained with this model?"
   ]
  },
  {
   "cell_type": "markdown",
   "metadata": {
    "colab_type": "text",
    "id": "4ND-fEPFgEuc"
   },
   "source": [
    "## Save/load model using pickle."
   ]
  },
  {
   "cell_type": "code",
   "execution_count": null,
   "metadata": {
    "colab": {
     "base_uri": "https://localhost:8080/",
     "height": 36
    },
    "colab_type": "code",
    "executionInfo": {
     "elapsed": 1055,
     "status": "ok",
     "timestamp": 1600418836771,
     "user": {
      "displayName": "Victor Rebecq",
      "photoUrl": "",
      "userId": "06822429132380693157"
     },
     "user_tz": -180
    },
    "id": "lamRzy5RgHY8",
    "outputId": "6b7846a9-0f61-4220-849f-3f066cc47895"
   },
   "outputs": [
    {
     "name": "stdout",
     "output_type": "stream",
     "text": [
      "file is not empty\n"
     ]
    }
   ],
   "source": [
    "import pickle\n",
    "import os\n",
    "\n",
    "pickle_out = open('linear_regression.pickle', 'wb')\n",
    "pickle.dump(lr, pickle_out)\n",
    "\n",
    "if os.path.getsize('linear_regression.pickle') > 0:  \n",
    "    print(\"file is not empty\")"
   ]
  },
  {
   "cell_type": "code",
   "execution_count": null,
   "metadata": {
    "colab": {
     "base_uri": "https://localhost:8080/",
     "height": 92
    },
    "colab_type": "code",
    "executionInfo": {
     "elapsed": 586,
     "status": "ok",
     "timestamp": 1600418838708,
     "user": {
      "displayName": "Victor Rebecq",
      "photoUrl": "",
      "userId": "06822429132380693157"
     },
     "user_tz": -180
    },
    "id": "sFPxRBn3gQ7D",
    "outputId": "976f129f-354a-48f5-e64e-746e070e5e27"
   },
   "outputs": [
    {
     "name": "stdout",
     "output_type": "stream",
     "text": [
      "adc.json\t\t  model.pickle\t\t submission_baseline.csv\n",
      "linear_regression.pickle  nyc_data.zip\t\t submission_lr_2d.csv\n",
      "__MACOSX\t\t  sample_data\t\t test.csv\n",
      "MNIST_data\t\t  sample_submission.csv  train_2M.csv\n"
     ]
    }
   ],
   "source": [
    "!ls"
   ]
  },
  {
   "cell_type": "code",
   "execution_count": null,
   "metadata": {
    "colab": {},
    "colab_type": "code",
    "id": "Eq_TNYCAgRb8"
   },
   "outputs": [],
   "source": [
    "del lr"
   ]
  },
  {
   "cell_type": "markdown",
   "metadata": {
    "colab_type": "text",
    "id": "32ALANZBgZGH"
   },
   "source": [
    "Now, if you call `lr` you should get an error:"
   ]
  },
  {
   "cell_type": "code",
   "execution_count": null,
   "metadata": {
    "colab": {
     "base_uri": "https://localhost:8080/",
     "height": 36
    },
    "colab_type": "code",
    "executionInfo": {
     "elapsed": 608,
     "status": "ok",
     "timestamp": 1600418747308,
     "user": {
      "displayName": "Victor Rebecq",
      "photoUrl": "",
      "userId": "06822429132380693157"
     },
     "user_tz": -180
    },
    "id": "rX6F7DUagZ8o",
    "outputId": "0d3adedd-be33-4d70-e7ae-3b792f827495"
   },
   "outputs": [
    {
     "data": {
      "text/plain": [
       "LinearRegression(copy_X=True, fit_intercept=True, n_jobs=None, normalize=False)"
      ]
     },
     "execution_count": 302,
     "metadata": {
      "tags": []
     },
     "output_type": "execute_result"
    }
   ],
   "source": [
    "lr"
   ]
  },
  {
   "cell_type": "code",
   "execution_count": null,
   "metadata": {
    "colab": {},
    "colab_type": "code",
    "id": "Bulbskr2gbAD"
   },
   "outputs": [],
   "source": [
    "filename = 'linear_regression.pickle'\n",
    "with open(filename, 'rb') as file:\n",
    "  lr = pickle.load(file)"
   ]
  },
  {
   "cell_type": "markdown",
   "metadata": {
    "colab_type": "text",
    "id": "tRgHrImTgfIL"
   },
   "source": [
    "Check that `lr` object has been loaded successfully\n"
   ]
  },
  {
   "cell_type": "code",
   "execution_count": null,
   "metadata": {
    "colab": {
     "base_uri": "https://localhost:8080/",
     "height": 36
    },
    "colab_type": "code",
    "executionInfo": {
     "elapsed": 533,
     "status": "ok",
     "timestamp": 1600418852336,
     "user": {
      "displayName": "Victor Rebecq",
      "photoUrl": "",
      "userId": "06822429132380693157"
     },
     "user_tz": -180
    },
    "id": "5fp_TWrzWi6l",
    "outputId": "db219b28-6c28-496a-bae3-55c1d5794baf"
   },
   "outputs": [
    {
     "data": {
      "text/plain": [
       "LinearRegression(copy_X=True, fit_intercept=True, n_jobs=None, normalize=False)"
      ]
     },
     "execution_count": 313,
     "metadata": {
      "tags": []
     },
     "output_type": "execute_result"
    }
   ],
   "source": [
    "lr"
   ]
  },
  {
   "cell_type": "code",
   "execution_count": null,
   "metadata": {
    "colab": {
     "base_uri": "https://localhost:8080/",
     "height": 36
    },
    "colab_type": "code",
    "executionInfo": {
     "elapsed": 592,
     "status": "ok",
     "timestamp": 1600418856566,
     "user": {
      "displayName": "Victor Rebecq",
      "photoUrl": "",
      "userId": "06822429132380693157"
     },
     "user_tz": -180
    },
    "id": "MXrnjgrsghWz",
    "outputId": "353d2c0b-3572-4af3-92cd-10a32755338d"
   },
   "outputs": [
    {
     "data": {
      "text/plain": [
       "<bound method BaseEstimator.get_params of LinearRegression(copy_X=True, fit_intercept=True, n_jobs=None, normalize=False)>"
      ]
     },
     "execution_count": 314,
     "metadata": {
      "tags": []
     },
     "output_type": "execute_result"
    }
   ],
   "source": [
    "lr.get_params"
   ]
  },
  {
   "cell_type": "markdown",
   "metadata": {
    "colab_type": "text",
    "id": "7p4GMeGK-QGL"
   },
   "source": [
    "## Homework exercise 4 (1 point): read and explore `model.pickel`"
   ]
  },
  {
   "cell_type": "markdown",
   "metadata": {
    "colab_type": "text",
    "id": "Rsa9ojOlgmmk"
   },
   "source": [
    "<font color='red'> **(Homework exercise 4- a)** read in `model.pickel` file that you have downloaded from `nyc_data.zip` using `pickle.load()` function. (0.5 points)"
   ]
  },
  {
   "cell_type": "code",
   "execution_count": null,
   "metadata": {
    "colab": {
     "base_uri": "https://localhost:8080/",
     "height": 1000
    },
    "colab_type": "code",
    "executionInfo": {
     "elapsed": 601,
     "status": "ok",
     "timestamp": 1600419674942,
     "user": {
      "displayName": "Victor Rebecq",
      "photoUrl": "",
      "userId": "06822429132380693157"
     },
     "user_tz": -180
    },
    "id": "iezeRiy9gl_-",
    "outputId": "571bba74-1d6d-4a5d-ee83-9e98a6b6c564"
   },
   "outputs": [
    {
     "data": {
      "text/plain": [
       "['__abstractmethods__',\n",
       " '__class__',\n",
       " '__delattr__',\n",
       " '__dict__',\n",
       " '__dir__',\n",
       " '__doc__',\n",
       " '__eq__',\n",
       " '__format__',\n",
       " '__ge__',\n",
       " '__getattribute__',\n",
       " '__getstate__',\n",
       " '__gt__',\n",
       " '__hash__',\n",
       " '__init__',\n",
       " '__init_subclass__',\n",
       " '__le__',\n",
       " '__lt__',\n",
       " '__module__',\n",
       " '__ne__',\n",
       " '__new__',\n",
       " '__reduce__',\n",
       " '__reduce_ex__',\n",
       " '__repr__',\n",
       " '__setattr__',\n",
       " '__setstate__',\n",
       " '__sizeof__',\n",
       " '__str__',\n",
       " '__subclasshook__',\n",
       " '__weakref__',\n",
       " '_abc_cache',\n",
       " '_abc_negative_cache',\n",
       " '_abc_negative_cache_version',\n",
       " '_abc_registry',\n",
       " '_decision_function',\n",
       " '_estimator_type',\n",
       " '_get_param_names',\n",
       " '_get_tags',\n",
       " '_more_tags',\n",
       " '_preprocess_data',\n",
       " '_residues',\n",
       " '_set_intercept',\n",
       " 'coef_',\n",
       " 'copy_X',\n",
       " 'fit',\n",
       " 'fit_intercept',\n",
       " 'get_params',\n",
       " 'intercept_',\n",
       " 'n_jobs',\n",
       " 'normalize',\n",
       " 'predict',\n",
       " 'rank_',\n",
       " 'score',\n",
       " 'set_params',\n",
       " 'singular_']"
      ]
     },
     "execution_count": 342,
     "metadata": {
      "tags": []
     },
     "output_type": "execute_result"
    }
   ],
   "source": [
    "##### YOUR CODE STARTS #####\n",
    "import pickle\n",
    "import os\n",
    "\n",
    "\n",
    "filename = 'model.pickle'\n",
    "with open(filename, 'rb') as file:\n",
    "  lr = pickle.load(file)\n",
    "\n",
    "#lr\n",
    "dir(lr)\n",
    "##### YOUR CODE ENDS ##### (please do not delete this line)"
   ]
  },
  {
   "cell_type": "markdown",
   "metadata": {
    "colab_type": "text",
    "id": "mJQbGVDs-1vS"
   },
   "source": [
    "<font color='red'> **(Homework exercise 4- b)** next, explore the object using function `dir` and answer the following questions:\n",
    "* <font color='red'> Which model was saved into this object?  \n",
    "* <font color='red'> How many coefficients it has and what are their values?\n",
    "* <font color='red'>Can you find out which features have been used for training?\n",
    "\n",
    "<font color='red'>(0.5 points)\n"
   ]
  },
  {
   "cell_type": "markdown",
   "metadata": {
    "colab_type": "text",
    "id": "-PoebBH_ii4H"
   },
   "source": [
    "Answers to (b): \n",
    "\n",
    "\n",
    "*   The model saved is a LinearRegression (we can see this with lr.get_params() or in the dir, we see some coefficient who reminds linearRegression\n",
    "*   By using \"lr.coef_\", we see two coefficients : array([146.1216904 ,  89.26772999])\n",
    "*   By using \"get_params(deep=True)\" we can see which features have been used for training, and it's : {'copy_X': True, 'fit_intercept': True, 'n_jobs': None, 'normalize': False}. So, the training data_base was copy_X\n",
    "\n"
   ]
  },
  {
   "cell_type": "markdown",
   "metadata": {
    "colab_type": "text",
    "id": "QXiM7T9qYWfG"
   },
   "source": [
    "### Linear regression based on more than one feature"
   ]
  },
  {
   "cell_type": "code",
   "execution_count": null,
   "metadata": {
    "colab": {
     "base_uri": "https://localhost:8080/",
     "height": 36
    },
    "colab_type": "code",
    "executionInfo": {
     "elapsed": 625,
     "status": "ok",
     "timestamp": 1600419690692,
     "user": {
      "displayName": "Victor Rebecq",
      "photoUrl": "",
      "userId": "06822429132380693157"
     },
     "user_tz": -180
    },
    "id": "TJKT5S2pYbwK",
    "outputId": "7d77c2df-e425-4bfb-faca-a4248bf44a8d"
   },
   "outputs": [
    {
     "name": "stdout",
     "output_type": "stream",
     "text": [
      "[146.1216904, 89.26772999 , 6.17039106]\n"
     ]
    }
   ],
   "source": [
    "lr = LinearRegression()\n",
    "lr.fit(train[['abs_diff_longitude', 'abs_diff_latitude']], train[['fare_amount']])\n",
    "\n",
    "# Print learnt weights\n",
    "print(f'[{round(lr.coef_[0][0], 8)}, {round(lr.coef_[0][1], 8)} , {round(lr.intercept_[0], 8)}]')"
   ]
  },
  {
   "cell_type": "markdown",
   "metadata": {
    "colab_type": "text",
    "id": "8dDBCIlujFWp"
   },
   "source": [
    "Predict `fare_amount` for test set and submit predictions to kaggle"
   ]
  },
  {
   "cell_type": "code",
   "execution_count": null,
   "metadata": {
    "colab": {
     "base_uri": "https://localhost:8080/",
     "height": 111
    },
    "colab_type": "code",
    "executionInfo": {
     "elapsed": 769,
     "status": "ok",
     "timestamp": 1600419897459,
     "user": {
      "displayName": "Victor Rebecq",
      "photoUrl": "",
      "userId": "06822429132380693157"
     },
     "user_tz": -180
    },
    "id": "mVpFOfPWUJMT",
    "outputId": "3a62aa9b-34aa-4622-90df-8f6c79e90069"
   },
   "outputs": [
    {
     "name": "stdout",
     "output_type": "stream",
     "text": [
      "adc.json\t\t  nyc_data.zip\t\t   submission_lr_3d.csv\n",
      "linear_regression.pickle  sample_data\t\t   test.csv\n",
      "__MACOSX\t\t  sample_submission.csv    train_2M.csv\n",
      "MNIST_data\t\t  submission_baseline.csv\n",
      "model.pickle\t\t  submission_lr_2d.csv\n"
     ]
    }
   ],
   "source": [
    "# Predict fare_amount on the test set using our model (w) trained on the training set.\n",
    "test_y_predictions = lr.predict(test_df[['abs_diff_longitude', 'abs_diff_latitude']])\n",
    "\n",
    "# Write the predictions to a CSV file which we can submit to the competition.\n",
    "submission = pd.DataFrame(\n",
    "    {'key': test_df.key, 'fare_amount': np.squeeze(test_y_predictions)},\n",
    "    columns = ['key', 'fare_amount'])\n",
    "submission.to_csv('submission_lr_3d.csv', index = False)\n",
    "\n",
    "!ls "
   ]
  },
  {
   "cell_type": "code",
   "execution_count": null,
   "metadata": {
    "colab": {
     "base_uri": "https://localhost:8080/",
     "height": 73
    },
    "colab_type": "code",
    "executionInfo": {
     "elapsed": 1573,
     "status": "ok",
     "timestamp": 1600419902743,
     "user": {
      "displayName": "Victor Rebecq",
      "photoUrl": "",
      "userId": "06822429132380693157"
     },
     "user_tz": -180
    },
    "id": "EHNFNX9YUo1n",
    "outputId": "7a083b10-baf5-461f-87ab-fd4636102ed8"
   },
   "outputs": [
    {
     "name": "stdout",
     "output_type": "stream",
     "text": [
      "Warning: Looks like you're using an outdated API Version, please consider updating (server 1.5.6 / client 1.5.4)\n",
      "100% 454k/454k [00:00<00:00, 2.17MB/s]\n",
      "Successfully submitted to New York City Taxi Fare Prediction"
     ]
    }
   ],
   "source": [
    "!kaggle competitions submit -c new-york-city-taxi-fare-prediction -f submission_lr_3d.csv -m \"Linear Regression with two predictors on 1M records\""
   ]
  },
  {
   "cell_type": "markdown",
   "metadata": {
    "colab_type": "text",
    "id": "tRoXaw0ET_GG"
   },
   "source": [
    "### Decision Tree (DT)"
   ]
  },
  {
   "cell_type": "code",
   "execution_count": null,
   "metadata": {
    "colab": {
     "base_uri": "https://localhost:8080/",
     "height": 129
    },
    "colab_type": "code",
    "executionInfo": {
     "elapsed": 9092,
     "status": "ok",
     "timestamp": 1600419722629,
     "user": {
      "displayName": "Victor Rebecq",
      "photoUrl": "",
      "userId": "06822429132380693157"
     },
     "user_tz": -180
    },
    "id": "b3fz57D3Tuqy",
    "outputId": "2538becc-dacd-4c70-d48a-5f639161d246"
   },
   "outputs": [
    {
     "data": {
      "text/plain": [
       "DecisionTreeRegressor(ccp_alpha=0.0, criterion='mse', max_depth=100,\n",
       "                      max_features=None, max_leaf_nodes=None,\n",
       "                      min_impurity_decrease=0.0, min_impurity_split=None,\n",
       "                      min_samples_leaf=1, min_samples_split=2,\n",
       "                      min_weight_fraction_leaf=0.0, presort='deprecated',\n",
       "                      random_state=None, splitter='best')"
      ]
     },
     "execution_count": 345,
     "metadata": {
      "tags": []
     },
     "output_type": "execute_result"
    }
   ],
   "source": [
    "from sklearn.tree import DecisionTreeRegressor\n",
    "dtr= DecisionTreeRegressor(max_depth = 100)\n",
    "dtr.fit(train[['abs_diff_longitude', 'abs_diff_latitude']], train[['fare_amount']])"
   ]
  },
  {
   "cell_type": "markdown",
   "metadata": {
    "colab_type": "text",
    "id": "SCwxaKI4VhVM"
   },
   "source": [
    "How can we predict the goodness of this model without sending it to the server? (Hint: remember RMSE?)"
   ]
  },
  {
   "cell_type": "code",
   "execution_count": null,
   "metadata": {
    "colab": {
     "base_uri": "https://localhost:8080/",
     "height": 36
    },
    "colab_type": "code",
    "executionInfo": {
     "elapsed": 1853,
     "status": "ok",
     "timestamp": 1600419739652,
     "user": {
      "displayName": "Victor Rebecq",
      "photoUrl": "",
      "userId": "06822429132380693157"
     },
     "user_tz": -180
    },
    "id": "pXQEDEwOY6N-",
    "outputId": "b79a5696-dad1-4c94-fcd9-120b14185d55"
   },
   "outputs": [
    {
     "data": {
      "text/plain": [
       "2.59857983541131"
      ]
     },
     "execution_count": 346,
     "metadata": {
      "tags": []
     },
     "output_type": "execute_result"
    }
   ],
   "source": [
    "np.sqrt(np.mean((dtr.predict(train[['abs_diff_longitude', 'abs_diff_latitude']]) - train['fare_amount'])**2))"
   ]
  },
  {
   "cell_type": "markdown",
   "metadata": {
    "colab_type": "text",
    "id": "3_NmcC6gb5-n"
   },
   "source": [
    "or using built-in function:"
   ]
  },
  {
   "cell_type": "code",
   "execution_count": null,
   "metadata": {
    "colab": {
     "base_uri": "https://localhost:8080/",
     "height": 36
    },
    "colab_type": "code",
    "executionInfo": {
     "elapsed": 2032,
     "status": "ok",
     "timestamp": 1600419743732,
     "user": {
      "displayName": "Victor Rebecq",
      "photoUrl": "",
      "userId": "06822429132380693157"
     },
     "user_tz": -180
    },
    "id": "aSTwJPc3Vgru",
    "outputId": "0d9229f6-78ea-493f-c660-19ff15892c19"
   },
   "outputs": [
    {
     "data": {
      "text/plain": [
       "2.5985798354113565"
      ]
     },
     "execution_count": 347,
     "metadata": {
      "tags": []
     },
     "output_type": "execute_result"
    }
   ],
   "source": [
    "from sklearn.metrics import mean_squared_error\n",
    "np.sqrt(mean_squared_error( train.fare_amount, dtr.predict(train[['abs_diff_longitude', 'abs_diff_latitude']])))"
   ]
  },
  {
   "cell_type": "markdown",
   "metadata": {
    "colab_type": "text",
    "id": "3Utsm_1rnksz"
   },
   "source": [
    "Very good! What would be our standing in the leaderboard if this RMSE was true?"
   ]
  },
  {
   "cell_type": "markdown",
   "metadata": {
    "colab_type": "text",
    "id": "O5FTDyNGnXVk"
   },
   "source": [
    "Let's now submit this mode's predictions to kaggle and compare RMSE scores"
   ]
  },
  {
   "cell_type": "code",
   "execution_count": null,
   "metadata": {
    "colab": {},
    "colab_type": "code",
    "id": "1eqN62e_VVje"
   },
   "outputs": [],
   "source": [
    "test_y_predictions = dtr.predict(test_df[['abs_diff_longitude', 'abs_diff_latitude']])"
   ]
  },
  {
   "cell_type": "code",
   "execution_count": null,
   "metadata": {
    "colab": {
     "base_uri": "https://localhost:8080/",
     "height": 73
    },
    "colab_type": "code",
    "executionInfo": {
     "elapsed": 1856,
     "status": "ok",
     "timestamp": 1600419929288,
     "user": {
      "displayName": "Victor Rebecq",
      "photoUrl": "",
      "userId": "06822429132380693157"
     },
     "user_tz": -180
    },
    "id": "W8eZnKmeV3UC",
    "outputId": "725df2d2-18c2-4b86-b1ab-fbe0c573a65e"
   },
   "outputs": [
    {
     "name": "stdout",
     "output_type": "stream",
     "text": [
      "Warning: Looks like you're using an outdated API Version, please consider updating (server 1.5.6 / client 1.5.4)\n",
      "100% 322k/322k [00:00<00:00, 1.54MB/s]\n",
      "Successfully submitted to New York City Taxi Fare Prediction"
     ]
    }
   ],
   "source": [
    "# Write the predictions to a CSV file which we can submit to the competition.\n",
    "submission = pd.DataFrame(\n",
    "    {'key': test_df.key, 'fare_amount': test_y_predictions},\n",
    "    columns = ['key', 'fare_amount'])\n",
    "submission.to_csv('submission_dt.csv', index = False)\n",
    "\n",
    "!kaggle competitions submit -c new-york-city-taxi-fare-prediction -f submission_dt.csv -m \"Decision Tree Regressor using 1M records and max_depth = 100\""
   ]
  },
  {
   "cell_type": "markdown",
   "metadata": {
    "colab_type": "text",
    "id": "W61EbSaLclDT"
   },
   "source": [
    "### Train, val split for more accurate estimate of our model performance\n",
    "We will divide our initial `train` into `train_X` (80%) and `val_X`(20%). We shall create separate variables `train_y` and `val_y` that will hold fare_amount for corresponding rows for convenience."
   ]
  },
  {
   "cell_type": "code",
   "execution_count": null,
   "metadata": {
    "colab": {},
    "colab_type": "code",
    "id": "sCEE6oS5cPK3"
   },
   "outputs": [],
   "source": [
    "train_X = train[0:int(len(train)*0.8)]\n",
    "train_y = train.fare_amount[0:int(len(train)*0.8)]"
   ]
  },
  {
   "cell_type": "markdown",
   "metadata": {
    "colab_type": "text",
    "id": "dmOuThjiokAQ"
   },
   "source": [
    "**Classroom exercise**: assign remaining 20% of the data to val_X, val_y"
   ]
  },
  {
   "cell_type": "code",
   "execution_count": null,
   "metadata": {
    "colab": {},
    "colab_type": "code",
    "id": "KH6T3ry6okUp"
   },
   "outputs": [],
   "source": [
    "##### YOUR CODE STARTS #####\n",
    "val_X = train[int(len(train)*0.8):]\n",
    "val_y = train.fare_amount[int(len(train)*0.8):]\n",
    "##### YOUR CODE ENDS ##### (please do not delete this line)"
   ]
  },
  {
   "cell_type": "code",
   "execution_count": null,
   "metadata": {
    "colab": {
     "base_uri": "https://localhost:8080/",
     "height": 92
    },
    "colab_type": "code",
    "executionInfo": {
     "elapsed": 1088,
     "status": "ok",
     "timestamp": 1600425832746,
     "user": {
      "displayName": "Victor Rebecq",
      "photoUrl": "",
      "userId": "06822429132380693157"
     },
     "user_tz": -180
    },
    "id": "-ozmdmqJfSJ0",
    "outputId": "895e9028-0316-4a23-ae6e-e22ed564322a"
   },
   "outputs": [
    {
     "name": "stdout",
     "output_type": "stream",
     "text": [
      "(798420, 9)\n",
      "(798420,)\n",
      "(199605, 9)\n",
      "(199605,)\n"
     ]
    }
   ],
   "source": [
    "print(train_X.shape)\n",
    "print(train_y.shape)\n",
    "print(val_X.shape)\n",
    "print(val_y.shape)"
   ]
  },
  {
   "cell_type": "code",
   "execution_count": null,
   "metadata": {
    "colab": {
     "base_uri": "https://localhost:8080/",
     "height": 313
    },
    "colab_type": "code",
    "executionInfo": {
     "elapsed": 923,
     "status": "ok",
     "timestamp": 1600425834599,
     "user": {
      "displayName": "Victor Rebecq",
      "photoUrl": "",
      "userId": "06822429132380693157"
     },
     "user_tz": -180
    },
    "id": "MZvC3DoRg4IX",
    "outputId": "a58cb7a4-3088-4829-d350-605f0969a381"
   },
   "outputs": [
    {
     "data": {
      "text/html": [
       "<div>\n",
       "<style scoped>\n",
       "    .dataframe tbody tr th:only-of-type {\n",
       "        vertical-align: middle;\n",
       "    }\n",
       "\n",
       "    .dataframe tbody tr th {\n",
       "        vertical-align: top;\n",
       "    }\n",
       "\n",
       "    .dataframe thead th {\n",
       "        text-align: right;\n",
       "    }\n",
       "</style>\n",
       "<table border=\"1\" class=\"dataframe\">\n",
       "  <thead>\n",
       "    <tr style=\"text-align: right;\">\n",
       "      <th></th>\n",
       "      <th>fare_amount</th>\n",
       "      <th>pickup_datetime</th>\n",
       "      <th>pickup_longitude</th>\n",
       "      <th>pickup_latitude</th>\n",
       "      <th>dropoff_longitude</th>\n",
       "      <th>dropoff_latitude</th>\n",
       "      <th>passenger_count</th>\n",
       "      <th>abs_diff_longitude</th>\n",
       "      <th>abs_diff_latitude</th>\n",
       "    </tr>\n",
       "  </thead>\n",
       "  <tbody>\n",
       "    <tr>\n",
       "      <th>0</th>\n",
       "      <td>4.5</td>\n",
       "      <td>2009-06-15 17:26:21</td>\n",
       "      <td>-73.844311</td>\n",
       "      <td>40.721319</td>\n",
       "      <td>-73.841610</td>\n",
       "      <td>40.712278</td>\n",
       "      <td>1</td>\n",
       "      <td>0.002701</td>\n",
       "      <td>0.009041</td>\n",
       "    </tr>\n",
       "    <tr>\n",
       "      <th>1</th>\n",
       "      <td>16.9</td>\n",
       "      <td>2010-01-05 16:52:16</td>\n",
       "      <td>-74.016048</td>\n",
       "      <td>40.711303</td>\n",
       "      <td>-73.979268</td>\n",
       "      <td>40.782004</td>\n",
       "      <td>1</td>\n",
       "      <td>0.036780</td>\n",
       "      <td>0.070701</td>\n",
       "    </tr>\n",
       "    <tr>\n",
       "      <th>2</th>\n",
       "      <td>5.7</td>\n",
       "      <td>2011-08-18 00:35:00</td>\n",
       "      <td>-73.982738</td>\n",
       "      <td>40.761270</td>\n",
       "      <td>-73.991242</td>\n",
       "      <td>40.750562</td>\n",
       "      <td>2</td>\n",
       "      <td>0.008504</td>\n",
       "      <td>0.010708</td>\n",
       "    </tr>\n",
       "    <tr>\n",
       "      <th>3</th>\n",
       "      <td>7.7</td>\n",
       "      <td>2012-04-21 04:30:42</td>\n",
       "      <td>-73.987130</td>\n",
       "      <td>40.733143</td>\n",
       "      <td>-73.991567</td>\n",
       "      <td>40.758092</td>\n",
       "      <td>1</td>\n",
       "      <td>0.004437</td>\n",
       "      <td>0.024949</td>\n",
       "    </tr>\n",
       "    <tr>\n",
       "      <th>4</th>\n",
       "      <td>5.3</td>\n",
       "      <td>2010-03-09 07:51:00</td>\n",
       "      <td>-73.968095</td>\n",
       "      <td>40.768008</td>\n",
       "      <td>-73.956655</td>\n",
       "      <td>40.783762</td>\n",
       "      <td>1</td>\n",
       "      <td>0.011440</td>\n",
       "      <td>0.015754</td>\n",
       "    </tr>\n",
       "  </tbody>\n",
       "</table>\n",
       "</div>"
      ],
      "text/plain": [
       "   fare_amount     pickup_datetime  ...  abs_diff_longitude  abs_diff_latitude\n",
       "0          4.5 2009-06-15 17:26:21  ...            0.002701           0.009041\n",
       "1         16.9 2010-01-05 16:52:16  ...            0.036780           0.070701\n",
       "2          5.7 2011-08-18 00:35:00  ...            0.008504           0.010708\n",
       "3          7.7 2012-04-21 04:30:42  ...            0.004437           0.024949\n",
       "4          5.3 2010-03-09 07:51:00  ...            0.011440           0.015754\n",
       "\n",
       "[5 rows x 9 columns]"
      ]
     },
     "execution_count": 371,
     "metadata": {
      "tags": []
     },
     "output_type": "execute_result"
    }
   ],
   "source": [
    "train_X[0:5]"
   ]
  },
  {
   "cell_type": "markdown",
   "metadata": {
    "colab_type": "text",
    "id": "pCV5mUM_f6l7"
   },
   "source": [
    "What if your first samples were easier to predict than the later ones?"
   ]
  },
  {
   "cell_type": "code",
   "execution_count": null,
   "metadata": {
    "colab": {},
    "colab_type": "code",
    "id": "MoBaWmKTfSg3"
   },
   "outputs": [],
   "source": [
    "from sklearn.model_selection import train_test_split\n",
    "train_X, val_X, train_y, val_y = train_test_split(train, np.array(train['fare_amount']), \n",
    "                                                      random_state = 111, \n",
    "                                                      test_size = 0.20) # you can also explicitely say how many observations will be in the validation set"
   ]
  },
  {
   "cell_type": "code",
   "execution_count": null,
   "metadata": {
    "colab": {
     "base_uri": "https://localhost:8080/",
     "height": 92
    },
    "colab_type": "code",
    "executionInfo": {
     "elapsed": 538,
     "status": "ok",
     "timestamp": 1600436021149,
     "user": {
      "displayName": "Victor Rebecq",
      "photoUrl": "",
      "userId": "06822429132380693157"
     },
     "user_tz": -180
    },
    "id": "w-easQJ0g1p-",
    "outputId": "f6596e18-b173-4404-a69d-c6dde36a7f60"
   },
   "outputs": [
    {
     "name": "stdout",
     "output_type": "stream",
     "text": [
      "(798420, 9)\n",
      "(798420,)\n",
      "(199605, 9)\n",
      "(199605,)\n"
     ]
    }
   ],
   "source": [
    "print(train_X.shape)\n",
    "print(train_y.shape)\n",
    "print(val_X.shape)\n",
    "print(val_y.shape)"
   ]
  },
  {
   "cell_type": "code",
   "execution_count": null,
   "metadata": {
    "colab": {
     "base_uri": "https://localhost:8080/",
     "height": 36
    },
    "colab_type": "code",
    "executionInfo": {
     "elapsed": 576,
     "status": "ok",
     "timestamp": 1600436052771,
     "user": {
      "displayName": "Victor Rebecq",
      "photoUrl": "",
      "userId": "06822429132380693157"
     },
     "user_tz": -180
    },
    "id": "nXd6FZq5g2wd",
    "outputId": "22125e64-0997-4f44-f66d-b137908947e5"
   },
   "outputs": [
    {
     "data": {
      "text/plain": [
       "34.300000000000004"
      ]
     },
     "execution_count": 416,
     "metadata": {
      "tags": []
     },
     "output_type": "execute_result"
    }
   ],
   "source": [
    "train_X[0:5]\n",
    "train_y[0]"
   ]
  },
  {
   "cell_type": "markdown",
   "metadata": {
    "colab_type": "text",
    "id": "iPF-eOJRq4Ll"
   },
   "source": [
    "We can train our models on training data and evaluating them on validation set to obtain more realistic estimates of RMSE. Let's see if this works with our decision tree model."
   ]
  },
  {
   "cell_type": "code",
   "execution_count": null,
   "metadata": {
    "colab": {
     "base_uri": "https://localhost:8080/",
     "height": 36
    },
    "colab_type": "code",
    "executionInfo": {
     "elapsed": 3337,
     "status": "ok",
     "timestamp": 1600436028940,
     "user": {
      "displayName": "Victor Rebecq",
      "photoUrl": "",
      "userId": "06822429132380693157"
     },
     "user_tz": -180
    },
    "id": "BRLXYm4JqM90",
    "outputId": "47328ac0-39e6-47ed-a708-415bf758bbc2"
   },
   "outputs": [
    {
     "name": "stdout",
     "output_type": "stream",
     "text": [
      "[34.3  4.9  4.5 ...  5.3 17.  16.1]\n"
     ]
    }
   ],
   "source": [
    "dtr=DecisionTreeRegressor(max_depth = 10) \n",
    "dtr.fit(train_X[['abs_diff_longitude', 'abs_diff_latitude']], train_y)\n",
    "print(train_y)"
   ]
  },
  {
   "cell_type": "code",
   "execution_count": null,
   "metadata": {
    "colab": {
     "base_uri": "https://localhost:8080/",
     "height": 36
    },
    "colab_type": "code",
    "executionInfo": {
     "elapsed": 595,
     "status": "ok",
     "timestamp": 1600425849419,
     "user": {
      "displayName": "Victor Rebecq",
      "photoUrl": "",
      "userId": "06822429132380693157"
     },
     "user_tz": -180
    },
    "id": "XVBrU3RbsGNG",
    "outputId": "537a404e-efb4-4f4f-9bef-a147f3313b22"
   },
   "outputs": [
    {
     "data": {
      "text/plain": [
       "4.8201991306517"
      ]
     },
     "execution_count": 376,
     "metadata": {
      "tags": []
     },
     "output_type": "execute_result"
    }
   ],
   "source": [
    "np.sqrt(mean_squared_error(train_y, dtr.predict(train_X[['abs_diff_longitude', 'abs_diff_latitude']])))"
   ]
  },
  {
   "cell_type": "code",
   "execution_count": null,
   "metadata": {
    "colab": {
     "base_uri": "https://localhost:8080/",
     "height": 36
    },
    "colab_type": "code",
    "executionInfo": {
     "elapsed": 575,
     "status": "ok",
     "timestamp": 1600425851390,
     "user": {
      "displayName": "Victor Rebecq",
      "photoUrl": "",
      "userId": "06822429132380693157"
     },
     "user_tz": -180
    },
    "id": "Z6CMmIW-g-hh",
    "outputId": "5d0e6b1a-4d3e-40a1-b2b8-8e0f72fdcabe"
   },
   "outputs": [
    {
     "data": {
      "text/plain": [
       "5.091716628643804"
      ]
     },
     "execution_count": 377,
     "metadata": {
      "tags": []
     },
     "output_type": "execute_result"
    }
   ],
   "source": [
    "np.sqrt(mean_squared_error(val_y, dtr.predict(val_X[['abs_diff_longitude', 'abs_diff_latitude']])))"
   ]
  },
  {
   "cell_type": "markdown",
   "metadata": {
    "colab_type": "text",
    "id": "ZPy_G_6MoShz"
   },
   "source": [
    "if you increase the depth of the decision tree (e.g. to 100), you will see that the gap between validation and train RMSE also grows. **What could be the reason?**"
   ]
  },
  {
   "cell_type": "markdown",
   "metadata": {
    "colab_type": "text",
    "id": "iSVKmeImszQP"
   },
   "source": [
    "Now train a new decision tree instance on the whole dataset (train + validation sets combined) with a reasonable `max_depth`."
   ]
  },
  {
   "cell_type": "code",
   "execution_count": 451,
   "metadata": {
    "colab": {
     "base_uri": "https://localhost:8080/",
     "height": 129
    },
    "colab_type": "code",
    "executionInfo": {
     "elapsed": 3760,
     "status": "ok",
     "timestamp": 1600439078692,
     "user": {
      "displayName": "Victor Rebecq",
      "photoUrl": "",
      "userId": "06822429132380693157"
     },
     "user_tz": -180
    },
    "id": "UQ-CkMZ3kAOV",
    "outputId": "2f3ce190-9c9b-4a05-8df8-87f55be5930f"
   },
   "outputs": [
    {
     "data": {
      "text/plain": [
       "DecisionTreeRegressor(ccp_alpha=0.0, criterion='mse', max_depth=10,\n",
       "                      max_features=None, max_leaf_nodes=None,\n",
       "                      min_impurity_decrease=0.0, min_impurity_split=None,\n",
       "                      min_samples_leaf=1, min_samples_split=2,\n",
       "                      min_weight_fraction_leaf=0.0, presort='deprecated',\n",
       "                      random_state=None, splitter='best')"
      ]
     },
     "execution_count": 451,
     "metadata": {
      "tags": []
     },
     "output_type": "execute_result"
    }
   ],
   "source": [
    "dtr=DecisionTreeRegressor(max_depth = 10) \n",
    "dtr.fit(train[['abs_diff_longitude', 'abs_diff_latitude']], train[['fare_amount']])"
   ]
  },
  {
   "cell_type": "code",
   "execution_count": 455,
   "metadata": {
    "colab": {
     "base_uri": "https://localhost:8080/",
     "height": 204
    },
    "colab_type": "code",
    "executionInfo": {
     "elapsed": 780,
     "status": "ok",
     "timestamp": 1600439119433,
     "user": {
      "displayName": "Victor Rebecq",
      "photoUrl": "",
      "userId": "06822429132380693157"
     },
     "user_tz": -180
    },
    "id": "vF-QZAv6s5-z",
    "outputId": "c8c3a78d-bc62-42c1-d786-9ec9f604f3d8"
   },
   "outputs": [
    {
     "name": "stdout",
     "output_type": "stream",
     "text": [
      "[ 8.78064532  8.3682535   5.24107118 ... 52.16295499 19.22124169\n",
      "  6.51983994]\n",
      "9914\n",
      "4.864870447417738\n",
      "4.8468480859005085\n",
      "adc.json\t\t  nyc_data.zip\t\t   submission_final.csv\n",
      "linear_regression.pickle  sample_data\t\t   submission_lr_2d.csv\n",
      "__MACOSX\t\t  sample_submission.csv    submission_lr_3d.csv\n",
      "MNIST_data\t\t  submission_baseline.csv  test.csv\n",
      "model.pickle\t\t  submission_dt.csv\t   train_2M.csv\n"
     ]
    }
   ],
   "source": [
    "test_y_predictions = dtr.predict(test_df[['abs_diff_longitude', 'abs_diff_latitude']])\n",
    "print(test_y_predictions)\n",
    "print(len(test_y_predictions))\n",
    "\n",
    "print(np.sqrt(mean_squared_error(val_y, dtr.predict(val_X[['abs_diff_longitude', 'abs_diff_latitude']]))))\n",
    "print(np.sqrt(mean_squared_error(train_y, dtr.predict(train_X[['abs_diff_longitude', 'abs_diff_latitude']]))))\n",
    "\n",
    "# Write the predictions to a CSV file which we can submit to the competition.\n",
    "submission = pd.DataFrame(\n",
    "    {'key': test_df.key, 'fare_amount': test_y_predictions},\n",
    "    columns = ['key', 'fare_amount'])\n",
    "submission.to_csv('submission_dt.csv', index = False)\n",
    "\n",
    "!ls"
   ]
  },
  {
   "cell_type": "code",
   "execution_count": 454,
   "metadata": {
    "colab": {
     "base_uri": "https://localhost:8080/",
     "height": 73
    },
    "colab_type": "code",
    "executionInfo": {
     "elapsed": 1777,
     "status": "ok",
     "timestamp": 1600439094396,
     "user": {
      "displayName": "Victor Rebecq",
      "photoUrl": "",
      "userId": "06822429132380693157"
     },
     "user_tz": -180
    },
    "id": "pihqbIH3s9QK",
    "outputId": "b8e24a84-3284-4d79-a3dd-5fa5913c2ceb"
   },
   "outputs": [
    {
     "name": "stdout",
     "output_type": "stream",
     "text": [
      "Warning: Looks like you're using an outdated API Version, please consider updating (server 1.5.6 / client 1.5.4)\n",
      "100% 454k/454k [00:00<00:00, 1.75MB/s]\n",
      "Successfully submitted to New York City Taxi Fare Prediction"
     ]
    }
   ],
   "source": [
    "!kaggle competitions submit -c new-york-city-taxi-fare-prediction -f submission_dt.csv -m \"Decision Tree Regressor using 1M records and max_depth = 10\""
   ]
  },
  {
   "cell_type": "markdown",
   "metadata": {
    "colab_type": "text",
    "id": "nqV2c5sDc_f2"
   },
   "source": [
    "## Homework exercise 5 (3 points): cross-validation algorithm\n",
    "<font color='red'> We were cheating on our validation data when we hand-picked the number of decision trees in the previous example (as we used validation data multiple times). The honest and better way of finding a good hyperparameter (depth of the tree) is a **cross-validation algorithm**.\n"
   ]
  },
  {
   "cell_type": "markdown",
   "metadata": {
    "colab_type": "text",
    "id": "rSbeesjBy89b"
   },
   "source": [
    "<font color='red'> **(Homework exercise 5- a)** Implement the cross-validation algorithm using lecture slides and hints in comments. (2 points) </font>"
   ]
  },
  {
   "cell_type": "code",
   "execution_count": 456,
   "metadata": {
    "colab": {
     "base_uri": "https://localhost:8080/",
     "height": 428
    },
    "colab_type": "code",
    "executionInfo": {
     "elapsed": 139429,
     "status": "ok",
     "timestamp": 1600439325925,
     "user": {
      "displayName": "Victor Rebecq",
      "photoUrl": "",
      "userId": "06822429132380693157"
     },
     "user_tz": -180
    },
    "id": "G96lG0IbfG87",
    "outputId": "e3546f8a-9462-4d13-8658-251c1dfbedf8"
   },
   "outputs": [
    {
     "name": "stdout",
     "output_type": "stream",
     "text": [
      "Calculating RMSE for 1 tree(s)...\n",
      "Average validation RMSE for 1 of trees is 7.184538217639735\n",
      "Calculating RMSE for 2 tree(s)...\n",
      "Average validation RMSE for 2 of trees is 6.0275099974648825\n",
      "Calculating RMSE for 5 tree(s)...\n",
      "Average validation RMSE for 5 of trees is 5.190727015972382\n",
      "Calculating RMSE for 8 tree(s)...\n",
      "Average validation RMSE for 8 of trees is 4.9272202189441705\n",
      "Calculating RMSE for 9 tree(s)...\n",
      "Average validation RMSE for 9 of trees is 4.8939858417645725\n",
      "Calculating RMSE for 10 tree(s)...\n",
      "Average validation RMSE for 10 of trees is 4.851359966536827\n",
      "Calculating RMSE for 11 tree(s)...\n",
      "Average validation RMSE for 11 of trees is 4.804065967372155\n",
      "Calculating RMSE for 12 tree(s)...\n",
      "Average validation RMSE for 12 of trees is 4.7591815746575366\n",
      "Calculating RMSE for 13 tree(s)...\n",
      "Average validation RMSE for 13 of trees is 4.707325514952245\n",
      "Calculating RMSE for 15 tree(s)...\n",
      "Average validation RMSE for 15 of trees is 4.5424145955459245\n",
      "Calculating RMSE for 20 tree(s)...\n",
      "Average validation RMSE for 20 of trees is 4.035508774118047\n"
     ]
    }
   ],
   "source": [
    "from sklearn.model_selection import train_test_split\n",
    "  \n",
    "max_depths = [1, 2, 5, 8, 9, 10, 11, 12, 13, 15, 20]\n",
    "#max_depths = [50]\n",
    "\n",
    "train_X = train[0:int(len(train)*0.8)]\n",
    "train_y = train.fare_amount[0:int(len(train)*0.8)]\n",
    "val_X = train[int(len(train)*0.8):]\n",
    "val_y = train.fare_amount[int(len(train)*0.8):]\n",
    "\n",
    "\n",
    "for param in max_depths:\n",
    "  print(f'Calculating RMSE for {param} tree(s)...')\n",
    "  ##### YOUR CODE STARTS #####\n",
    "\n",
    "  # 4-fold cross validation\n",
    "  # break training data into 4 equal chunks using np.concatenate and np.repeate functions\n",
    "\n",
    "  #DIDN'T UNDERSTOOD HOW TO SEPARATE USING CONCATENATE AND REPEATE ... :(\n",
    "  folds_indx =  np.array_split(train_X,4)\n",
    "  #print(folds_indx)\n",
    "\n",
    "  # randomly shuffle the indeces\n",
    "  np.random.shuffle(folds_indx)\n",
    "  \n",
    "  # number of folds\n",
    "  n_folds = 4\n",
    "\n",
    "  # initialise variable that will hold RMSEs for each fold\n",
    "  fold_RMSEs = np.zeros(n_folds)\n",
    "  for fold_indx in np.arange(n_folds):\n",
    "    #print(\"zob\",fold_indx)\n",
    "\n",
    "    # split data into train_X, train_y and val_X, val_y depending on the fold:\n",
    "    \"\"\"\n",
    "    train_X = np.array_split(train_X,n_folds)\n",
    "    train_y = np.array_split(train_y,n_folds)\n",
    "    val_X = np.array_split(val_X,n_folds)\n",
    "    val_y = np.array_split(val_y,n_folds)\n",
    "    \"\"\"\n",
    "\n",
    "    train_X, val_X, train_y, val_y = train_test_split(train, np.array(train['fare_amount']), \n",
    "                                                      random_state = 111, \n",
    "                                                      test_size = (1/n_folds))\n",
    "\n",
    "    # train the decision tree with max_depth = param\n",
    "    dtr=DecisionTreeRegressor(max_depth = param) \n",
    "\n",
    "\n",
    "    # fit the decision tree on training data\n",
    "    #print(train_y[fold_indx])\n",
    "    #print(type(fold_indx),\"zob\")\n",
    "    dtr.fit(train[['abs_diff_longitude', 'abs_diff_latitude']], train[['fare_amount']])\n",
    "\n",
    "    # predict validation data\n",
    "    val_predictions = dtr.predict(test_df[['abs_diff_longitude', 'abs_diff_latitude']])\n",
    "\n",
    "    # calculate RMSE for this fold\n",
    "    fold_RMSEs[fold_indx] = np.sqrt(np.mean((dtr.predict(train[['abs_diff_longitude', 'abs_diff_latitude']]) - train['fare_amount'])**2))\n",
    "    ##### YOUR CODE ENDS ##### (please do not delete this line)\n",
    "\n",
    "  print(f'Average validation RMSE for {param} of trees is {np.mean(fold_RMSEs)}')\n"
   ]
  },
  {
   "cell_type": "markdown",
   "metadata": {
    "colab_type": "text",
    "id": "urDuREWxK_ro"
   },
   "source": [
    "<font color='red'> **(Homework exercise 5- b)** Based on above results train the `DecisionTreeRegressor` on the entire training data with new, more optimal number of trees. Predict the test set and submit the results to Kaggle. Print out your new leaderboard score, which should be smaller than 4.02083. Interpret your results (1 point) </font>"
   ]
  },
  {
   "cell_type": "code",
   "execution_count": 462,
   "metadata": {
    "colab": {
     "base_uri": "https://localhost:8080/",
     "height": 111
    },
    "colab_type": "code",
    "executionInfo": {
     "elapsed": 13984,
     "status": "ok",
     "timestamp": 1600439596736,
     "user": {
      "displayName": "Victor Rebecq",
      "photoUrl": "",
      "userId": "06822429132380693157"
     },
     "user_tz": -180
    },
    "id": "3OfvpyJKIN_j",
    "outputId": "635eb0f6-2d60-4b1b-bba8-5108b5066eee"
   },
   "outputs": [
    {
     "name": "stdout",
     "output_type": "stream",
     "text": [
      "Calculating RMSE for 8 tree(s)...\n",
      "Average validation RMSE for 8 of trees is 4.927220218944171\n",
      "Warning: Looks like you're using an outdated API Version, please consider updating (server 1.5.6 / client 1.5.4)\n",
      "100% 455k/455k [00:00<00:00, 1.75MB/s]\n",
      "Successfully submitted to New York City Taxi Fare PredictionMy new score is 4.0\n"
     ]
    }
   ],
   "source": [
    "##### YOUR CODE STARTS #####\n",
    "from sklearn.model_selection import train_test_split\n",
    "  \n",
    "#max_depths = [1, 2, 5, 8, 9, 10, 11, 12, 13, 15, 20]\n",
    "max_depths = [8]\n",
    "\n",
    "train_X = train[0:int(len(train)*0.8)]\n",
    "train_y = train.fare_amount[0:int(len(train)*0.8)]\n",
    "val_X = train[int(len(train)*0.8):]\n",
    "val_y = train.fare_amount[int(len(train)*0.8):]\n",
    "\n",
    "\n",
    "for param in max_depths:\n",
    "  print(f'Calculating RMSE for {param} tree(s)...')\n",
    "  ##### YOUR CODE STARTS #####\n",
    "\n",
    "  # 4-fold cross validation\n",
    "  # break training data into 4 equal chunks using np.concatenate and np.repeate functions\n",
    "\n",
    "  #DIDN'T UNDERSTOOD HOW TO SEPARATE USING CONCATENATE AND REPEATE ... :(\n",
    "  folds_indx =  np.array_split(train_X,4)\n",
    "  #print(folds_indx)\n",
    "\n",
    "  # randomly shuffle the indeces\n",
    "  np.random.shuffle(folds_indx)\n",
    "  \n",
    "  # number of folds\n",
    "  n_folds = 4\n",
    "\n",
    "  # initialise variable that will hold RMSEs for each fold\n",
    "  fold_RMSEs = np.zeros(n_folds)\n",
    "  for fold_indx in np.arange(n_folds):\n",
    "    #print(\"zob\",fold_indx)\n",
    "\n",
    "    # split data into train_X, train_y and val_X, val_y depending on the fold:\n",
    "    \"\"\"\n",
    "    train_X = np.array_split(train_X,n_folds)\n",
    "    train_y = np.array_split(train_y,n_folds)\n",
    "    val_X = np.array_split(val_X,n_folds)\n",
    "    val_y = np.array_split(val_y,n_folds)\n",
    "    \"\"\"\n",
    "\n",
    "    train_X, val_X, train_y, val_y = train_test_split(train, np.array(train['fare_amount']), \n",
    "                                                      random_state = 111, \n",
    "                                                      test_size = (1/n_folds))\n",
    "\n",
    "    # train the decision tree with max_depth = param\n",
    "    dtr=DecisionTreeRegressor(max_depth = param) \n",
    "\n",
    "\n",
    "    # fit the decision tree on training data\n",
    "    #print(train_y[fold_indx])\n",
    "    dtr.fit(train[['abs_diff_longitude', 'abs_diff_latitude']], train[['fare_amount']])\n",
    "\n",
    "    # predict validation data\n",
    "    val_predictions = dtr.predict(test_df[['abs_diff_longitude', 'abs_diff_latitude']])\n",
    "\n",
    "\n",
    "    # calculate RMSE for this fold\n",
    "    fold_RMSEs[fold_indx] = np.sqrt(np.mean((dtr.predict(train[['abs_diff_longitude', 'abs_diff_latitude']]) - train['fare_amount'])**2))\n",
    "    ##### YOUR CODE ENDS ##### (please do not delete this line)\n",
    "\n",
    "print(f'Average validation RMSE for {param} of trees is {np.mean(fold_RMSEs)}')\n",
    "\n",
    "\n",
    "submission = pd.DataFrame(\n",
    "    {'key': test_df.key, 'fare_amount': val_predictions},\n",
    "    columns = ['key', 'fare_amount'])\n",
    "submission.to_csv('submission_final.csv', index = False)\n",
    "\n",
    "!kaggle competitions submit -c new-york-city-taxi-fare-prediction -f submission_final.csv -m \"Final with max_depths = 8\"\n",
    "\n",
    "print(f\"My new score is {4.00}\")\n",
    "##### YOUR CODE ENDS ##### (please do not delete this line)"
   ]
  },
  {
   "cell_type": "markdown",
   "metadata": {
    "colab_type": "text",
    "id": "tVi9oSaKGtmS"
   },
   "source": [
    "Interpretation of results: I think I'm missing something, because with any methods I don't achieve a kaggle score that is near the score i predict. For me, testing the max_dephts show us only the same thing that max_depth=100 show us ; that if you put a too big number, the program isn't working well.\n",
    "\n",
    "By doing the test by the hand (i know this is awful but i try so much and i didn't see what's wrong), I see that the best kaggle score is with max_depths = 9 -> Kaggle score = 4.00\n",
    "Because with 9 and 10 it's bigger.\n",
    "\n",
    "My mistake is that i'm not seeing to predict correctly the kaggle score, so i can't see this optimal value by the program."
   ]
  },
  {
   "cell_type": "markdown",
   "metadata": {
    "colab_type": "text",
    "id": "sMmhuxN4iw2L"
   },
   "source": [
    "# Bonus exercises\n",
    "*(NB, these are optional exercises!)*"
   ]
  },
  {
   "cell_type": "markdown",
   "metadata": {
    "colab_type": "text",
    "id": "_2T9ydozzcb-"
   },
   "source": [
    "## Bonus exercise 1 (2 bonus points):\n",
    "\n",
    "<font color='red'> Visualising misclassified examples can help to debug the classification algorithm. But misclassified examples may have different probabilities. In this bonus exercise (optional) try modifying code we have written for the homework exercise 2 so that title now would include probability of a true class and of a wrong class. You would probably need to change the code of `classify_knn` function. </font> "
   ]
  },
  {
   "cell_type": "markdown",
   "metadata": {
    "colab_type": "text",
    "id": "UkOtofaRjH8P"
   },
   "source": [
    "## Bonus exercise 2 (up to 5 points): the grand challenge\n",
    "<font color='red'> Try to get into top 300 places on public leaderboard (RMSE < 3.04) using different ML algorithms with different parameters, more features, more data, better preprocessing. Here are some ideas for improvement:\n",
    "* Use more data (we only took 1M out of 2M, there are 53M more on the website)\n",
    "* Do more preprocessing (remember negative prices or unrealistic numbers of passengers?)\n",
    "* Use more/better features (e.g. euclidean distance, or google what is haversine distance)\n",
    "* Use some other regression algorithm (e.g. look into RandomForestRegressor from sklearn.ensemble)\n",
    "* Tune parameters of these algorithms\n",
    "* Try something else!\n",
    "</font> \n",
    "\n",
    "<font color='red'>You should make a small post here with code and elaborate explanations of what you have tried (do it even you did not manage to break into top 300). **Report your final leaderboard rank**. Number of points would depend on quality of your explanations and the resulting rank.</font> \n"
   ]
  },
  {
   "cell_type": "code",
   "execution_count": null,
   "metadata": {
    "colab": {},
    "colab_type": "code",
    "id": "d2T2eINijEhg"
   },
   "outputs": [],
   "source": [
    "# Hint:\n",
    "R = 6378\n",
    "\n",
    "def haversine_distance(lon1, lon2, lat1, lat2):\n",
    "    \"\"\"\n",
    "    Calculate the great circle distance between two points\n",
    "    on the earth (specified in decimal degrees)\n",
    "\n",
    "    All args must be of equal length.    \n",
    "    \n",
    "    source: https://stackoverflow.com/a/29546836\n",
    "\n",
    "    \"\"\"\n",
    "    # Convert latitude and longitude to radians\n",
    "    lon1, lat1, lon2, lat2 = map(np.radians, [lon1, lat1, lon2, lat2])\n",
    "\n",
    "    # Find the differences\n",
    "    dlon = lon2 - lon1\n",
    "    dlat = lat2 - lat1\n",
    "\n",
    "    # Apply the formula \n",
    "    a = np.sin(dlat/2.0)**2 + np.cos(lat1) * np.cos(lat2) * np.sin(dlon/2.0)**2\n",
    "    # Calculate the angle (in radians)\n",
    "    c = 2 * np.arcsin(np.sqrt(a))\n",
    "    # Convert to kilometers\n",
    "    km = R * c\n",
    "    \n",
    "    return km"
   ]
  },
  {
   "cell_type": "markdown",
   "metadata": {
    "colab_type": "text",
    "id": "6JZfcKFAs82h"
   },
   "source": [
    "# Comments (optional feedback to the course instructors)\n",
    "Here, please, leave your comments regarding the homework, possibly answering the following questions: \n",
    "* how much time did you spend on this homework?\n",
    "* was it too hard/easy for you?\n",
    "* what would you suggest to add or remove?\n",
    "* anything else you would like to tell us"
   ]
  },
  {
   "cell_type": "markdown",
   "metadata": {
    "colab_type": "text",
    "id": "22VPt-05s-Yg"
   },
   "source": [
    "Your comments:"
   ]
  },
  {
   "cell_type": "markdown",
   "metadata": {
    "colab_type": "text",
    "id": "_57iGEWYZ4_H"
   },
   "source": [
    "# <font color='red'>  End of the homework. Please don't delete this cell.</font>"
   ]
  }
 ],
 "metadata": {
  "colab": {
   "collapsed_sections": [],
   "name": "Copie de 1_Supervisedlearning_Dima.ipynb",
   "provenance": [
    {
     "file_id": "1IxYGtz5YyyxxucDAdRxom2ZBxZYlkhz2",
     "timestamp": 1599470412558
    },
    {
     "file_id": "19AiAKQPUYWN7LZxvnmI3CrYVhN2EWQUw",
     "timestamp": 1563097712279
    },
    {
     "file_id": "1NzO7gr9kfWfUR0oKzQrAMufGMwuXC0Fi",
     "timestamp": 1556175332519
    }
   ]
  },
  "kernelspec": {
   "display_name": "Python 3",
   "language": "python",
   "name": "python3"
  },
  "language_info": {
   "codemirror_mode": {
    "name": "ipython",
    "version": 3
   },
   "file_extension": ".py",
   "mimetype": "text/x-python",
   "name": "python",
   "nbconvert_exporter": "python",
   "pygments_lexer": "ipython3",
   "version": "3.8.3"
  }
 },
 "nbformat": 4,
 "nbformat_minor": 1
}
