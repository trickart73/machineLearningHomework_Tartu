{
  "nbformat": 4,
  "nbformat_minor": 0,
  "metadata": {
    "colab": {
      "name": "Copy of 6_Performance_metrics_Dima.ipynb",
      "provenance": [],
      "collapsed_sections": []
    },
    "kernelspec": {
      "name": "python3",
      "display_name": "Python 3"
    }
  },
  "cells": [
    {
      "cell_type": "markdown",
      "metadata": {
        "id": "-PsAZHyPt3_m"
      },
      "source": [
        "#COVID\n",
        "<font color='orange'>**If you attended the class in person, please don't forget to fill in [this form](https://docs.google.com/forms/d/e/1FAIpQLSfA7p1lxOhaXLw_2jO1OBvOzqheS0kjzm968S4uciXQKh5__g/viewform)**"
      ]
    },
    {
      "cell_type": "markdown",
      "metadata": {
        "id": "P0tnOpaLBcqT"
      },
      "source": [
        "# Performance measures\n",
        "\n",
        "Please, make a copy of this colaboratory in order to be able to make changes **(File -> Save a copy in Drive)**.\n",
        "\n",
        "## Homework #6\n",
        "\n",
        "This colaboratory also contains **Homework #6** of the Machine Learning course, which is due **Dec 06, midnight (23:59 EET time)**. To complete the homework, extract **(File -> Download .ipynb)** and submit to the course webpage.\n",
        "**NB! Links to your colaboratory will not be accepted as a solution!**\n",
        "\n",
        "## Submission's rules:\n",
        "* Please, submit only .ipynb that you extract from the colaboratory!\n",
        "* Links to your colaboratory will not be accepted as a solution!\n",
        "* Run your colab before submitting (no output - no grades).\n",
        "* Do not change the description of tasks (even if there is a typo|mistake|etc).\n",
        "* Remove unnecessary long prints after debugging.\n",
        "* Each task should be solved right under the question of the task and not elsewhere.\n",
        "* Solutions to both regular and bonus exercises should be submitted in one IPYNB file."
      ]
    },
    {
      "cell_type": "code",
      "metadata": {
        "id": "wptpa5-JBUbu",
        "colab": {
          "base_uri": "https://localhost:8080/"
        },
        "outputId": "80474f4d-ac4f-4b3c-f938-bd8148523227"
      },
      "source": [
        "import pandas as pd\n",
        "import numpy as np\n",
        "\n",
        "import warnings\n",
        "warnings.filterwarnings('ignore')\n",
        "\n",
        "# For plotting like a pro (actually, no)\n",
        "!pip install plotnine\n",
        "from plotnine import *"
      ],
      "execution_count": 40,
      "outputs": [
        {
          "output_type": "stream",
          "text": [
            "Requirement already satisfied: plotnine in /usr/local/lib/python3.6/dist-packages (0.6.0)\n",
            "Requirement already satisfied: descartes>=1.1.0 in /usr/local/lib/python3.6/dist-packages (from plotnine) (1.1.0)\n",
            "Requirement already satisfied: numpy>=1.16.0 in /usr/local/lib/python3.6/dist-packages (from plotnine) (1.18.5)\n",
            "Requirement already satisfied: mizani>=0.6.0 in /usr/local/lib/python3.6/dist-packages (from plotnine) (0.6.0)\n",
            "Requirement already satisfied: pandas>=0.25.0 in /usr/local/lib/python3.6/dist-packages (from plotnine) (1.1.4)\n",
            "Requirement already satisfied: statsmodels>=0.9.0 in /usr/local/lib/python3.6/dist-packages (from plotnine) (0.10.2)\n",
            "Requirement already satisfied: patsy>=0.4.1 in /usr/local/lib/python3.6/dist-packages (from plotnine) (0.5.1)\n",
            "Requirement already satisfied: scipy>=1.2.0 in /usr/local/lib/python3.6/dist-packages (from plotnine) (1.4.1)\n",
            "Requirement already satisfied: matplotlib>=3.1.1 in /usr/local/lib/python3.6/dist-packages (from plotnine) (3.2.2)\n",
            "Requirement already satisfied: palettable in /usr/local/lib/python3.6/dist-packages (from mizani>=0.6.0->plotnine) (3.3.0)\n",
            "Requirement already satisfied: python-dateutil>=2.7.3 in /usr/local/lib/python3.6/dist-packages (from pandas>=0.25.0->plotnine) (2.8.1)\n",
            "Requirement already satisfied: pytz>=2017.2 in /usr/local/lib/python3.6/dist-packages (from pandas>=0.25.0->plotnine) (2018.9)\n",
            "Requirement already satisfied: six in /usr/local/lib/python3.6/dist-packages (from patsy>=0.4.1->plotnine) (1.15.0)\n",
            "Requirement already satisfied: cycler>=0.10 in /usr/local/lib/python3.6/dist-packages (from matplotlib>=3.1.1->plotnine) (0.10.0)\n",
            "Requirement already satisfied: pyparsing!=2.0.4,!=2.1.2,!=2.1.6,>=2.0.1 in /usr/local/lib/python3.6/dist-packages (from matplotlib>=3.1.1->plotnine) (2.4.7)\n",
            "Requirement already satisfied: kiwisolver>=1.0.1 in /usr/local/lib/python3.6/dist-packages (from matplotlib>=3.1.1->plotnine) (1.3.1)\n"
          ],
          "name": "stdout"
        }
      ]
    },
    {
      "cell_type": "code",
      "metadata": {
        "id": "hD8h11N7V9bu"
      },
      "source": [
        "def draw_points_ggplot2(point_set):\n",
        "  fig = (\n",
        "    ggplot(data = point_set,\n",
        "          mapping = aes(x = 'x1', y = 'x2')) +\n",
        "    geom_point(aes(colour = 'class', \n",
        "                   shape = 'class',\n",
        "                   fill = 'class'), \n",
        "               size = 5.0,\n",
        "               stroke = 2.5) +\n",
        "    labs(\n",
        "        title ='',\n",
        "        x = 'x1',\n",
        "        y = 'x2',\n",
        "    ) +\n",
        "    theme_bw() + \n",
        "    scale_color_manual(['#EC5D57', '#51A7F9']) + \n",
        "    scale_fill_manual(['#C82506', '#0365C0']) + \n",
        "    scale_shape_manual(['o', 's']) + \n",
        "    theme(figure_size = (5, 5),\n",
        "          axis_line = element_line(size = 0.5, colour = \"black\"),\n",
        "          panel_grid_major = element_line(size = 0.05, colour = \"black\"),\n",
        "          panel_grid_minor = element_line(size = 0.05, colour = \"black\"),\n",
        "          axis_text = element_text(colour ='black'))\n",
        "  )\n",
        "  return(fig)"
      ],
      "execution_count": 41,
      "outputs": []
    },
    {
      "cell_type": "markdown",
      "metadata": {
        "id": "YaR93weJBIy_"
      },
      "source": [
        "## Example data"
      ]
    },
    {
      "cell_type": "code",
      "metadata": {
        "id": "ACfDV132C9by",
        "colab": {
          "base_uri": "https://localhost:8080/",
          "height": 480
        },
        "outputId": "4b93ae51-2d37-456c-be06-fb3cc8228581"
      },
      "source": [
        "example_data = pd.DataFrame({'x1':[1,2,3,4,5], 'x2':[2,4,5,4,5], 'class':[1,0,1,1,0]})\n",
        "example_data['class'] = example_data['class'].astype('category') # note that we turn class into categories\n",
        "draw_points_ggplot2(example_data)"
      ],
      "execution_count": 42,
      "outputs": [
        {
          "output_type": "display_data",
          "data": {
            "image/png": "[encoded data removed]",
            "text/plain": [
              "<Figure size 500x500 with 1 Axes>"
            ]
          },
          "metadata": {
            "tags": []
          }
        },
        {
          "output_type": "execute_result",
          "data": {
            "text/plain": [
              "<ggplot: (-9223363275256001406)>"
            ]
          },
          "metadata": {
            "tags": []
          },
          "execution_count": 42
        }
      ]
    },
    {
      "cell_type": "markdown",
      "metadata": {
        "id": "KjqojFDiC6Ib"
      },
      "source": [
        "# Accuracy\n",
        "What is the accuracy of the random classifier (baseline) for the `example_data`? Is it 50% or more/less? To emulate the random choise we will use a bernoulli trial tossing a fair coing (50% probability of heads/tails) 5 times."
      ]
    },
    {
      "cell_type": "code",
      "metadata": {
        "id": "y87KfrBZWGd4",
        "colab": {
          "base_uri": "https://localhost:8080/"
        },
        "outputId": "5557bbc9-cfa7-4200-bd35-7e0d8df5bf3c"
      },
      "source": [
        "np.random.seed(1111)\n",
        "\n",
        "##### YOUR CODE STARTS #####\n",
        "random_pred = np.random.binomial(1,0.5,5)\n",
        "##### YOUR CODE ENDS #####\n",
        "\n",
        "acc = np.mean(example_data['class'] == random_pred)*100\n",
        "print(f'accuracy is {acc}%')"
      ],
      "execution_count": 43,
      "outputs": [
        {
          "output_type": "stream",
          "text": [
            "accuracy is 20.0%\n"
          ],
          "name": "stdout"
        }
      ]
    },
    {
      "cell_type": "markdown",
      "metadata": {
        "id": "BKwaEdDKXT29"
      },
      "source": [
        "Seems very pessimistic, what if we repeat this many times, e.g. 1000?"
      ]
    },
    {
      "cell_type": "code",
      "metadata": {
        "id": "gV6DpeTGXSrK",
        "colab": {
          "base_uri": "https://localhost:8080/"
        },
        "outputId": "9fa3611d-3ff1-4484-b499-0dd38986f525"
      },
      "source": [
        "np.random.seed(1111)\n",
        "random_preds = np.zeros(1000)\n",
        "for i in range(1000):\n",
        "  random_preds[i] = np.mean(example_data['class'] == np.random.binomial(1, 0.5, 5))*100\n",
        "\n",
        "print(f'accuracy is {np.mean(random_preds)}%')"
      ],
      "execution_count": 44,
      "outputs": [
        {
          "output_type": "stream",
          "text": [
            "accuracy is 50.16%\n"
          ],
          "name": "stdout"
        }
      ]
    },
    {
      "cell_type": "markdown",
      "metadata": {
        "id": "_5xsiJcj-ZWz"
      },
      "source": [
        "Here is an unbalanced case:"
      ]
    },
    {
      "cell_type": "code",
      "metadata": {
        "id": "KpRqTRis-ZWz",
        "colab": {
          "base_uri": "https://localhost:8080/",
          "height": 480
        },
        "outputId": "f423f49b-caf0-41d8-a430-54a1e09b8bb0"
      },
      "source": [
        "unbalanced_data = pd.DataFrame({'x1':[1,2,3,4,5,1,4,3,4.5,3.5], 'x2':[2,4,5,4,5,3.5,4.2,1.3,0.5,3], 'class':[1,0,1,1,1,1,1,1,1,1]})\n",
        "unbalanced_data['class'] = unbalanced_data['class'].astype('category') # note that we turn class into categories\n",
        "draw_points_ggplot2(unbalanced_data)"
      ],
      "execution_count": 45,
      "outputs": [
        {
          "output_type": "display_data",
          "data": {
            "image/png": "[encoded data removed]",
            "text/plain": [
              "<Figure size 500x500 with 1 Axes>"
            ]
          },
          "metadata": {
            "tags": []
          }
        },
        {
          "output_type": "execute_result",
          "data": {
            "text/plain": [
              "<ggplot: (-9223363275256008539)>"
            ]
          },
          "metadata": {
            "tags": []
          },
          "execution_count": 45
        }
      ]
    },
    {
      "cell_type": "markdown",
      "metadata": {
        "id": "Oomg5O2z-Qhb"
      },
      "source": [
        "Since we increased the number of instances of the blue class, would the accuracy of the random classifier change?"
      ]
    },
    {
      "cell_type": "code",
      "metadata": {
        "id": "ZhTLuuF5JTHC",
        "colab": {
          "base_uri": "https://localhost:8080/"
        },
        "outputId": "cc87558b-1878-4c0b-875b-e31b64b11d29"
      },
      "source": [
        "np.random.seed(1111)\n",
        "random_preds = np.zeros(1000)\n",
        "for i in range(1000):\n",
        "  random_preds[i] = np.mean(unbalanced_data['class'] == np.random.binomial(1, 0.5, 10))*100\n",
        "\n",
        "print(f'accuracy is {np.mean(random_preds)}%')"
      ],
      "execution_count": 46,
      "outputs": [
        {
          "output_type": "stream",
          "text": [
            "accuracy is 50.15%\n"
          ],
          "name": "stdout"
        }
      ]
    },
    {
      "cell_type": "markdown",
      "metadata": {
        "id": "u1ETc9eFJX_u"
      },
      "source": [
        "Instead of binomial trials we can use `DummyClassifier` from `sklearn` to do the same thing."
      ]
    },
    {
      "cell_type": "code",
      "metadata": {
        "id": "Fm5wlN_MIZB4"
      },
      "source": [
        "from sklearn.dummy import DummyClassifier\n",
        "random_model = DummyClassifier(strategy='uniform')"
      ],
      "execution_count": 47,
      "outputs": []
    },
    {
      "cell_type": "code",
      "metadata": {
        "id": "1sN8J85VdTuC",
        "colab": {
          "base_uri": "https://localhost:8080/"
        },
        "outputId": "3477af24-3b75-4f0c-e7b3-9a11d2cced79"
      },
      "source": [
        "np.random.seed(1111)\n",
        "random_preds = np.zeros(1000)\n",
        "for i in range(1000):\n",
        "  ##### YOUR CODE STARTS #####\n",
        "  random_model.fit(unbalanced_data[['x1','x2']],unbalanced_data[['class']])\n",
        "  random_preds[i] = np.round(random_model.score(unbalanced_data[['x1','x2']],unbalanced_data[['class']]),2)*100\n",
        "  ##### YOUR CODE ENDS #####\n",
        "\n",
        "print(f'accuracy is {np.mean(random_preds)}%')"
      ],
      "execution_count": 48,
      "outputs": [
        {
          "output_type": "stream",
          "text": [
            "accuracy is 49.96%\n"
          ],
          "name": "stdout"
        }
      ]
    },
    {
      "cell_type": "markdown",
      "metadata": {
        "id": "S34DX0ejcyCY"
      },
      "source": [
        "But random classifier is not always a good baseline to compare with. As very often it is the majority class predictor who is taking over ML models."
      ]
    },
    {
      "cell_type": "code",
      "metadata": {
        "id": "nAEk__wqcxWK",
        "colab": {
          "base_uri": "https://localhost:8080/"
        },
        "outputId": "df65f5d1-111f-4c99-bb38-3b3849160878"
      },
      "source": [
        "majority_class_model = DummyClassifier(strategy='most_frequent')\n",
        "majority_class_model.fit(unbalanced_data[[\"x1\" , \"x2\"]], unbalanced_data[[\"class\"]])\n",
        "print(f'{majority_class_model.score(unbalanced_data[[\"x1\" , \"x2\"]], unbalanced_data[[\"class\"]])*100}%')"
      ],
      "execution_count": 49,
      "outputs": [
        {
          "output_type": "stream",
          "text": [
            "90.0%\n"
          ],
          "name": "stdout"
        }
      ]
    },
    {
      "cell_type": "markdown",
      "metadata": {
        "id": "icQurSuBRVZV"
      },
      "source": [
        "Cacluate recall and precision for this problem. Remind yourself that **recall** is `tp/(tp + fn)` and **precision** is `tp/(tp + fp)`. Where `tp` is true positives, `fn` is false negatives and `fp` is a false positives. What are the positives and negatives? In binary classification, **positives** and **negatives** are arbitrary entities. One of the classes could be called **positive** if it indicates **presence** of some desired (or undesired) outcome (it could be a purchase, disease, etc.). While **negatives** usually indicate absense of this outcome. In our case, since we have `1`-s and `0`-s, we will call `1`-s **positive**, while `0`-s **negatives**. Therefore, a `tp` (true positive) number would reflect the number of `1`-s we predicted as `1`-s etc. Now we are all setup to estimate **precision** and **recall**."
      ]
    },
    {
      "cell_type": "code",
      "metadata": {
        "id": "prLG4C5WRU19",
        "colab": {
          "base_uri": "https://localhost:8080/"
        },
        "outputId": "a130f312-a990-41f2-9a51-e12ce91c5876"
      },
      "source": [
        "print(f'True classes for all points: {unbalanced_data[[\"class\"]].to_numpy().flatten()}')\n",
        "\n",
        "predictions = majority_class_model.predict(unbalanced_data[[\"x1\" , \"x2\"]])\n",
        "print(f'Predicted classes for all points: {np.array(predictions)}')\n",
        "\n",
        "##### YOUR CODE STARTS #####\n",
        "pred_positive = unbalanced_data[[\"class\"]][predictions == 1].to_numpy().flatten()\n",
        "print(f'Actual classes of points predicted positive: {pred_positive}')\n",
        "\n",
        "# what are the actual classes of points predicted as negative?\n",
        "pred_negative = unbalanced_data[[\"class\"]][predictions == 0].to_numpy().flatten()\n",
        "print(f'Actual classes of points predicted negative: {pred_negative}')\n",
        "##### YOUR CODE ENDS #####\n",
        "\n",
        "##### YOUR CODE STARTS #####\n",
        "tp = np.sum(pred_positive==1)\n",
        "fn = np.sum(pred_negative==1)\n",
        "fp = np.sum(pred_positive==0)\n",
        "tn = np.sum(pred_negative==0)\n",
        "##### YOUR CODE ENDS #####\n",
        "\n",
        "print(f'TP = {tp}, TN = {tn}, FN = {fn}, FP = {fp}')"
      ],
      "execution_count": 50,
      "outputs": [
        {
          "output_type": "stream",
          "text": [
            "True classes for all points: [1 0 1 1 1 1 1 1 1 1]\n",
            "Predicted classes for all points: [1 1 1 1 1 1 1 1 1 1]\n",
            "Actual classes of points predicted positive: [1 0 1 1 1 1 1 1 1 1]\n",
            "Actual classes of points predicted negative: []\n",
            "TP = 9, TN = 0, FN = 0, FP = 1\n"
          ],
          "name": "stdout"
        }
      ]
    },
    {
      "cell_type": "code",
      "metadata": {
        "id": "Ztb8tzVSfGEs",
        "colab": {
          "base_uri": "https://localhost:8080/"
        },
        "outputId": "2a5af6b3-bd16-423b-be35-bb251cae1255"
      },
      "source": [
        "precision = tp/(tp + fp)\n",
        "recall = tp/(tp + fn)\n",
        "\n",
        "print(f'Recall = {recall}, Precision = {precision}')"
      ],
      "execution_count": 51,
      "outputs": [
        {
          "output_type": "stream",
          "text": [
            "Recall = 1.0, Precision = 0.9\n"
          ],
          "name": "stdout"
        }
      ]
    },
    {
      "cell_type": "markdown",
      "metadata": {
        "id": "Ad7Fd5bOWmd1"
      },
      "source": [
        "**Recall** is how many positives we have prediced as positives out of all positives that were in the data. **Precision** is how many true positives there were among all instances predicted as positive. If you feel that it is confusing, check out formulas again :)"
      ]
    },
    {
      "cell_type": "markdown",
      "metadata": {
        "id": "t6k25j69fm_K"
      },
      "source": [
        "## F1-score\n",
        "It would be great to have just one number that combines both **precision** and **recall** to look at. Often people use **f1 score** to summarise both precision and recall. \n",
        "\n",
        "<center><font size = 6> $ F1 = 2\\cdot\\frac{(recall\\cdot precision)}{(recall + precision)} $"
      ]
    },
    {
      "cell_type": "code",
      "metadata": {
        "id": "O4PXZKgAfaks",
        "colab": {
          "base_uri": "https://localhost:8080/"
        },
        "outputId": "23b57f17-a56c-44b0-9e9f-503539752491"
      },
      "source": [
        "f1 = 2*(recall*precision)/(recall + precision)\n",
        "print(f'F1 score = {np.round(f1, 3)}')"
      ],
      "execution_count": 52,
      "outputs": [
        {
          "output_type": "stream",
          "text": [
            "F1 score = 0.947\n"
          ],
          "name": "stdout"
        }
      ]
    },
    {
      "cell_type": "markdown",
      "metadata": {
        "id": "n0AT-HD_KwTV"
      },
      "source": [
        "F1-score is also known as Dice-coefficient."
      ]
    },
    {
      "cell_type": "code",
      "metadata": {
        "id": "P4fwspzpjw6h",
        "colab": {
          "base_uri": "https://localhost:8080/"
        },
        "outputId": "a8dc3521-b08f-4328-8759-c4f346d99caf"
      },
      "source": [
        "# Dice coefficient/score\n",
        "dice = 2*tp/(2*tp + fp + fn)\n",
        "print(f'Dice score = {np.round(dice, 3)}')"
      ],
      "execution_count": 53,
      "outputs": [
        {
          "output_type": "stream",
          "text": [
            "Dice score = 0.947\n"
          ],
          "name": "stdout"
        }
      ]
    },
    {
      "cell_type": "markdown",
      "metadata": {
        "id": "ftEloVHAzUBN"
      },
      "source": [
        "F1-score calculated using *sklearn*"
      ]
    },
    {
      "cell_type": "code",
      "metadata": {
        "id": "rZjIG8gqzSa6",
        "colab": {
          "base_uri": "https://localhost:8080/"
        },
        "outputId": "a1c7af6f-4ece-464d-cd06-ae9c5674e7dd"
      },
      "source": [
        "from sklearn.metrics import f1_score\n",
        "f1_score(predictions, unbalanced_data['class'])"
      ],
      "execution_count": 54,
      "outputs": [
        {
          "output_type": "execute_result",
          "data": {
            "text/plain": [
              "0.9473684210526316"
            ]
          },
          "metadata": {
            "tags": []
          },
          "execution_count": 54
        }
      ]
    },
    {
      "cell_type": "markdown",
      "metadata": {
        "id": "MWR6wxbNfZ92"
      },
      "source": [
        "**Exercise**: Switch the definitions of **positive** and **negative** and recalculate the precision, recall, f1-score and dice coefficient as if class 0 was considered **positive**. (no need to reverse the `class` variable). Are F1-score and Dice are stil the same?"
      ]
    },
    {
      "cell_type": "code",
      "metadata": {
        "id": "id-c3WRwOuRI",
        "colab": {
          "base_uri": "https://localhost:8080/"
        },
        "outputId": "8cece446-b41e-4b3c-c9c5-03c21b31baad"
      },
      "source": [
        "predictions # 1 is associated with a negative class now"
      ],
      "execution_count": 55,
      "outputs": [
        {
          "output_type": "execute_result",
          "data": {
            "text/plain": [
              "array([1, 1, 1, 1, 1, 1, 1, 1, 1, 1])"
            ]
          },
          "metadata": {
            "tags": []
          },
          "execution_count": 55
        }
      ]
    },
    {
      "cell_type": "code",
      "metadata": {
        "id": "O2m9XoqxecBx",
        "colab": {
          "base_uri": "https://localhost:8080/"
        },
        "outputId": "f1bac30f-85d8-426e-ef42-4042c9bc3cb8"
      },
      "source": [
        "##### YOUR CODE STARTS #####\n",
        "pred_positive = unbalanced_data[[\"class\"]][predictions == 0].to_numpy().flatten()\n",
        "print(f'Actual classes of points predicted positive: {pred_positive}')\n",
        "\n",
        "pred_negative = unbalanced_data[[\"class\"]][predictions == 1].to_numpy().flatten()\n",
        "print(f'Actual classes of points predicted negative: {pred_negative}')\n",
        "##### YOUR CODE ENDS #####\n",
        "\n",
        "##### YOUR CODE STARTS #####\n",
        "tp = np.sum(pred_positive == 0)\n",
        "fn = np.sum(pred_negative == 0)\n",
        "fp = np.sum(pred_positive == 1)\n",
        "tn = np.sum(pred_negative == 1)\n",
        "##### YOUR CODE ENDS #####\n",
        "\n",
        "print(f'TP = {tp}, TN = {tn}, FN = {fn}, FP = {fp}')"
      ],
      "execution_count": 56,
      "outputs": [
        {
          "output_type": "stream",
          "text": [
            "Actual classes of points predicted positive: []\n",
            "Actual classes of points predicted negative: [1 0 1 1 1 1 1 1 1 1]\n",
            "TP = 0, TN = 9, FN = 1, FP = 0\n"
          ],
          "name": "stdout"
        }
      ]
    },
    {
      "cell_type": "code",
      "metadata": {
        "id": "W-VISECnWWZ4",
        "colab": {
          "base_uri": "https://localhost:8080/"
        },
        "outputId": "0ce986da-a195-4abc-d97c-cb297f46718c"
      },
      "source": [
        "precision = tp/(tp + fp)\n",
        "recall = tp/(tp + fn)\n",
        "\n",
        "print(f'Recall = {recall}, Precision = {precision}')"
      ],
      "execution_count": 57,
      "outputs": [
        {
          "output_type": "stream",
          "text": [
            "Recall = 0.0, Precision = nan\n"
          ],
          "name": "stdout"
        }
      ]
    },
    {
      "cell_type": "code",
      "metadata": {
        "id": "DWqpCISxjesB",
        "colab": {
          "base_uri": "https://localhost:8080/"
        },
        "outputId": "4ccad311-fe2b-469d-dd30-c3c29356ca59"
      },
      "source": [
        "f1 = 2*recall*precision/(precision + recall)\n",
        "print(f'F1 score = {f1}')"
      ],
      "execution_count": 58,
      "outputs": [
        {
          "output_type": "stream",
          "text": [
            "F1 score = nan\n"
          ],
          "name": "stdout"
        }
      ]
    },
    {
      "cell_type": "code",
      "metadata": {
        "id": "mqozbKQhrEYa",
        "colab": {
          "base_uri": "https://localhost:8080/"
        },
        "outputId": "92ce6584-2da2-4efd-bedc-26e73662e551"
      },
      "source": [
        "# Dice coefficient/score\n",
        "dice = 2*tp/(2*tp + fp + fn)\n",
        "print(f'Dice score = {dice}')"
      ],
      "execution_count": 59,
      "outputs": [
        {
          "output_type": "stream",
          "text": [
            "Dice score = 0.0\n"
          ],
          "name": "stdout"
        }
      ]
    },
    {
      "cell_type": "markdown",
      "metadata": {
        "id": "zczatiWez6cA"
      },
      "source": [
        "### All you need is a `classification_report` function from sklearn"
      ]
    },
    {
      "cell_type": "code",
      "metadata": {
        "id": "Oy_ZsRfLy6HU",
        "colab": {
          "base_uri": "https://localhost:8080/"
        },
        "outputId": "2d5b9c62-d01d-4425-942e-4d9086176270"
      },
      "source": [
        "from sklearn.metrics import classification_report\n",
        "print(classification_report(unbalanced_data['class'], predictions))"
      ],
      "execution_count": 60,
      "outputs": [
        {
          "output_type": "stream",
          "text": [
            "              precision    recall  f1-score   support\n",
            "\n",
            "           0       0.00      0.00      0.00         1\n",
            "           1       0.90      1.00      0.95         9\n",
            "\n",
            "    accuracy                           0.90        10\n",
            "   macro avg       0.45      0.50      0.47        10\n",
            "weighted avg       0.81      0.90      0.85        10\n",
            "\n"
          ],
          "name": "stdout"
        }
      ]
    },
    {
      "cell_type": "markdown",
      "metadata": {
        "id": "86n6a6sQ00dP"
      },
      "source": [
        "\n",
        "\n",
        "---\n",
        "\n",
        "## Homework exercise 1: compute macro and weighted averages for precision, recall and f1-score (5 points)\n",
        "\n",
        "\n",
        "<font color='red'> In this exercise we will start with training a logistic regression on small toy dataset we have created in the class. Next, you will calculate ordinary recall, precision and f1 measures and their macro- and weighted average versions. Learn more about macro and weighted averages here: https://scikit-learn.org/stable/modules/generated/sklearn.metrics.precision_score.html  </font> \n"
      ]
    },
    {
      "cell_type": "code",
      "metadata": {
        "id": "tT7do-De5HxV"
      },
      "source": [
        "# regenerate data:\n",
        "example_data = pd.DataFrame({'x1':[1,2,3,4,5], 'x2':[2,4,5,4,5], 'class':[1,0,1,1,0]})\n",
        "example_data['class'] = example_data['class'].astype('category') # note that we turn class into categories"
      ],
      "execution_count": 77,
      "outputs": []
    },
    {
      "cell_type": "code",
      "metadata": {
        "id": "euBKJ86v6HS4",
        "colab": {
          "base_uri": "https://localhost:8080/"
        },
        "outputId": "a63e5dc2-66af-4d0b-ca75-6b4e14ccfc95"
      },
      "source": [
        "# train a classifier\n",
        "from sklearn.linear_model import LogisticRegression \n",
        "logit = LogisticRegression()\n",
        "logit.fit(example_data[['x1', 'x2']], example_data[['class']])"
      ],
      "execution_count": 78,
      "outputs": [
        {
          "output_type": "execute_result",
          "data": {
            "text/plain": [
              "LogisticRegression(C=1.0, class_weight=None, dual=False, fit_intercept=True,\n",
              "                   intercept_scaling=1, l1_ratio=None, max_iter=100,\n",
              "                   multi_class='auto', n_jobs=None, penalty='l2',\n",
              "                   random_state=None, solver='lbfgs', tol=0.0001, verbose=0,\n",
              "                   warm_start=False)"
            ]
          },
          "metadata": {
            "tags": []
          },
          "execution_count": 78
        }
      ]
    },
    {
      "cell_type": "code",
      "metadata": {
        "id": "BxKmjEDA6Ivw"
      },
      "source": [
        "# predicting on train\n",
        "predictions = logit.predict(example_data[['x1', 'x2']]) "
      ],
      "execution_count": 79,
      "outputs": []
    },
    {
      "cell_type": "markdown",
      "metadata": {
        "id": "w_h2URFaAc4Q"
      },
      "source": [
        "<font color='red'>  **(Homework exercise 1- a)** Fill in the gaps to complete a function that calculates `tp`, `fn`, `fp`, `tn` depending on which class is considered to be `positive`.  **(1 point)**</font> "
      ]
    },
    {
      "cell_type": "code",
      "metadata": {
        "id": "zqAp5IXp6mq4"
      },
      "source": [
        "import math\n",
        "\n",
        "def compute_confusion_stats(classes, positive_class, negative_class):\n",
        "  ##### YOUR CODE STARTS #####\n",
        "  pred_positive = classes[predictions == positive_class].to_numpy().flatten()\n",
        "  pred_negative = classes[predictions == negative_class].to_numpy().flatten()\n",
        "\n",
        "  tp = np.sum(pred_positive==positive_class)\n",
        "  fn = np.sum(pred_negative==positive_class)\n",
        "  fp = np.sum(pred_positive==negative_class)\n",
        "  tn = np.sum(pred_negative==negative_class)\n",
        "  ##### YOUR CODE ENDS #####\n",
        "  \n",
        "  return (tp, fn, fp, tn)\n",
        "\n",
        "def compute_rec_prec_f1(tp, fn, fp, tn):\n",
        "  recall = tp/(tp + fn)\n",
        "  precision = tp/(tp + fp)\n",
        "  f1 = 2*recall*precision/(precision + recall)\n",
        "  if math.isnan(f1):\n",
        "    f1 = 0\n",
        "  return (recall, precision, f1)"
      ],
      "execution_count": 80,
      "outputs": []
    },
    {
      "cell_type": "markdown",
      "metadata": {
        "id": "G1dG8P6c_R6D"
      },
      "source": [
        "<font color='red'>  **(Homework exercise 1- b)** Compute `tp`, `fn`, `fp`, `tn` and `recall`, `precision` and `f1` measures using functions `compute_confusion_stats` and `compute_rec_prec_f1` above. `recall`, `precision` and `f1` should be computed for both classes, e.g. `recall_1` is a recall when the first class is considered to be positive, `recall_0` is a recall when the second class is regarded as positive. **(1 point)**</font> \n",
        "\n",
        "\n"
      ]
    },
    {
      "cell_type": "code",
      "metadata": {
        "id": "gim5efQw1DcP",
        "colab": {
          "base_uri": "https://localhost:8080/"
        },
        "outputId": "2bf004f0-f11f-4cea-d06d-3b0334aee551"
      },
      "source": [
        "# The first class is considered positive\n",
        "##### YOUR CODE STARTS #####\n",
        "(tp, fn, fp, tn) = compute_confusion_stats(example_data[[\"class\"]],1,0)\n",
        "recall_1, precision_1, f1_1 = compute_rec_prec_f1(tp, fn, fp, tn)\n",
        "##### YOUR CODE ENDS #####\n",
        "\n",
        "print(f'Recall for the first class = {recall_1}')\n",
        "print(f'Precision for the first class = {precision_1}')\n",
        "print(f'F1 score for the first class = {f1_1}')"
      ],
      "execution_count": 81,
      "outputs": [
        {
          "output_type": "stream",
          "text": [
            "Recall for the first class = 1.0\n",
            "Precision for the first class = 0.75\n",
            "F1 score for the first class = 0.8571428571428571\n"
          ],
          "name": "stdout"
        }
      ]
    },
    {
      "cell_type": "code",
      "metadata": {
        "id": "8RiUEf43825e",
        "colab": {
          "base_uri": "https://localhost:8080/"
        },
        "outputId": "c01f8502-225e-4bd2-cf27-6a09a1cf0598"
      },
      "source": [
        "# The second class is considered positive\n",
        "##### YOUR CODE STARTS #####\n",
        "(tp, fn, fp, tn) = compute_confusion_stats(example_data[[\"class\"]],0,1)\n",
        "recall_0, precision_0, f1_0 = compute_rec_prec_f1(tp, fn, fp, tn)\n",
        "##### YOUR CODE ENDS #####\n",
        "\n",
        "print(f'Recall for the second class = {recall_0}')\n",
        "print(f'Precision for the second class = {precision_0}')\n",
        "print(f'F1 score for the second class = {f1_0}')"
      ],
      "execution_count": 82,
      "outputs": [
        {
          "output_type": "stream",
          "text": [
            "Recall for the second class = 0.5\n",
            "Precision for the second class = 1.0\n",
            "F1 score for the second class = 0.6666666666666666\n"
          ],
          "name": "stdout"
        }
      ]
    },
    {
      "cell_type": "markdown",
      "metadata": {
        "id": "DRNyQcHS_Tap"
      },
      "source": [
        "<font color='red'>  **(Homework exercise 1- c)** Compute weighted `recall`, `precision` and `f1` measures for each class. **(1.5 points)**</font> "
      ]
    },
    {
      "cell_type": "code",
      "metadata": {
        "id": "XxTVKAph-hdm",
        "colab": {
          "base_uri": "https://localhost:8080/"
        },
        "outputId": "e20b558b-f24d-4210-870b-55cd39fa26db"
      },
      "source": [
        "##### YOUR CODE STARTS #####\n",
        "weight_1 = 3/5\n",
        "recall_1_weighted = recall_1*weight_1\n",
        "precision_1_weighted = precision_1*weight_1\n",
        "f1_1_weighted = f1_1*weight_1\n",
        "##### YOUR CODE ENDS #####\n",
        "print(f'Weighted recall for the first class = {recall_1_weighted}')\n",
        "print(f'Weighted precision for the first class = {precision_1_weighted}')\n",
        "print(f'Weighted F1 score for the first class = {f1_1_weighted}')\n",
        "\n",
        "##### YOUR CODE STARTS #####\n",
        "weight_0 = 2/5\n",
        "recall_0_weighted = recall_0*weight_0\n",
        "precision_0_weighted = precision_0*weight_0\n",
        "f1_0_weighted = f1_0*weight_0\n",
        "##### YOUR CODE ENDS #####\n",
        "print(f'Weighted recall for the second class = {recall_0_weighted}')\n",
        "print(f'Weighted precision for the second class = {precision_0_weighted}')\n",
        "print(f'Weighted F1 score for the second class = {f1_0_weighted}')"
      ],
      "execution_count": 83,
      "outputs": [
        {
          "output_type": "stream",
          "text": [
            "Weighted recall for the first class = 0.6\n",
            "Weighted precision for the first class = 0.44999999999999996\n",
            "Weighted F1 score for the first class = 0.5142857142857142\n",
            "Weighted recall for the second class = 0.2\n",
            "Weighted precision for the second class = 0.4\n",
            "Weighted F1 score for the second class = 0.26666666666666666\n"
          ],
          "name": "stdout"
        }
      ]
    },
    {
      "cell_type": "markdown",
      "metadata": {
        "id": "KClLgNrH_WI4"
      },
      "source": [
        "<font color='red'>  **(Homework exercise 1- d)** Calculate macro and weighted averages. **(1.5 points)**</font> "
      ]
    },
    {
      "cell_type": "code",
      "metadata": {
        "id": "9BD32ZxJ19YG",
        "colab": {
          "base_uri": "https://localhost:8080/"
        },
        "outputId": "e929f58b-0d9b-4a54-ebc3-9f2cb4c3038e"
      },
      "source": [
        "##### YOUR CODE STARTS #####\n",
        "from sklearn.metrics import recall_score\n",
        "\n",
        "macro_avg_precision = (precision_0+precision_1)/2\n",
        "print(f'Macro averaging for precision = {np.round(macro_avg_precision,2)}')\n",
        "\n",
        "macro_avg_recall = (recall_0+recall_1)/2\n",
        "print(f'Macro averaging for recall = {np.round(macro_avg_recall,2)}')\n",
        "\n",
        "macro_avg_f1 = (f1_0+f1_1)/2\n",
        "print(f'Macro averaging for f1 = {np.round(macro_avg_f1,2)}')\n",
        "##### YOUR CODE ENDS #####"
      ],
      "execution_count": 84,
      "outputs": [
        {
          "output_type": "stream",
          "text": [
            "Macro averaging for precision = 0.88\n",
            "Macro averaging for recall = 0.75\n",
            "Macro averaging for f1 = 0.76\n"
          ],
          "name": "stdout"
        }
      ]
    },
    {
      "cell_type": "code",
      "metadata": {
        "id": "aP5dBZER96CW",
        "colab": {
          "base_uri": "https://localhost:8080/"
        },
        "outputId": "8b7c0528-4c26-40d6-e862-b08b9b76819a"
      },
      "source": [
        "##### YOUR CODE STARTS #####\n",
        "weighted_avg_precision = (precision_0_weighted + precision_1_weighted)\n",
        "print(f'Weighted averaging for precision = {np.round(weighted_avg_precision,2)}')\n",
        "\n",
        "weighted_avg_recall = (recall_0_weighted + recall_1_weighted)\n",
        "print(f'Weighted averaging for recall = {np.round(weighted_avg_recall,2)}')\n",
        "\n",
        "weighted_avg_f1 = (f1_0_weighted + f1_1_weighted)\n",
        "print(f'Weighted averaging for f1 = {np.round(weighted_avg_f1,2)}')\n",
        "##### YOUR CODE ENDS #####"
      ],
      "execution_count": 86,
      "outputs": [
        {
          "output_type": "stream",
          "text": [
            "Weighted averaging for precision = 0.85\n",
            "Weighted averaging for recall = 0.8\n",
            "Weighted averaging for f1 = 0.78\n"
          ],
          "name": "stdout"
        }
      ]
    },
    {
      "cell_type": "markdown",
      "metadata": {
        "id": "RvJ8XbYDE9Av"
      },
      "source": [
        "<font color='red'>  Compare all your results with the output of `classification_report` function. Make sure they are the same. </font> "
      ]
    },
    {
      "cell_type": "code",
      "metadata": {
        "id": "oZlzgQt66RNz",
        "colab": {
          "base_uri": "https://localhost:8080/"
        },
        "outputId": "3cbb919f-a3b5-4b9c-e2b8-b7186cfbec33"
      },
      "source": [
        "from sklearn.metrics import classification_report\n",
        "print(classification_report(example_data['class'], predictions))"
      ],
      "execution_count": 70,
      "outputs": [
        {
          "output_type": "stream",
          "text": [
            "              precision    recall  f1-score   support\n",
            "\n",
            "           0       1.00      0.50      0.67         2\n",
            "           1       0.75      1.00      0.86         3\n",
            "\n",
            "    accuracy                           0.80         5\n",
            "   macro avg       0.88      0.75      0.76         5\n",
            "weighted avg       0.85      0.80      0.78         5\n",
            "\n"
          ],
          "name": "stdout"
        }
      ]
    },
    {
      "cell_type": "markdown",
      "metadata": {
        "id": "qlE-lIc3A37C"
      },
      "source": [
        "# Confusion matrix\n",
        "All the values we have calculated so far can be representated as a matrix. We have already seen a confusion matrix before when using **fast.ai** library."
      ]
    },
    {
      "cell_type": "code",
      "metadata": {
        "id": "sJF5yYaJe-nj"
      },
      "source": [
        "# let's recalculate our majority class classifier\n",
        "majority_class_model = DummyClassifier(strategy='most_frequent')\n",
        "majority_class_model.fit(unbalanced_data[[\"x1\" , \"x2\"]], unbalanced_data[[\"class\"]])\n",
        "predictions = majority_class_model.predict(unbalanced_data[[\"x1\" , \"x2\"]])"
      ],
      "execution_count": 87,
      "outputs": []
    },
    {
      "cell_type": "markdown",
      "metadata": {
        "id": "aGm6OYNtRiy1"
      },
      "source": [
        "As usual, *sklearn* has our backs :)"
      ]
    },
    {
      "cell_type": "code",
      "metadata": {
        "id": "kKrXwFqkL2rG",
        "colab": {
          "base_uri": "https://localhost:8080/"
        },
        "outputId": "cd0321f2-ddcc-4bc2-81ed-26ebc6f9b03b"
      },
      "source": [
        "from sklearn import metrics\n",
        "metrics.confusion_matrix(unbalanced_data['class'], predictions)"
      ],
      "execution_count": 88,
      "outputs": [
        {
          "output_type": "execute_result",
          "data": {
            "text/plain": [
              "array([[0, 1],\n",
              "       [0, 9]])"
            ]
          },
          "metadata": {
            "tags": []
          },
          "execution_count": 88
        }
      ]
    },
    {
      "cell_type": "code",
      "metadata": {
        "id": "fLXXl57ZLw2q",
        "colab": {
          "base_uri": "https://localhost:8080/",
          "height": 301
        },
        "outputId": "948f4e0e-8e10-44b9-a14d-76640837bf58"
      },
      "source": [
        "import matplotlib as plt\n",
        "metrics.plot_confusion_matrix(majority_class_model, unbalanced_data[['x1', 'x2']], unbalanced_data['class'])"
      ],
      "execution_count": 89,
      "outputs": [
        {
          "output_type": "execute_result",
          "data": {
            "text/plain": [
              "<sklearn.metrics._plot.confusion_matrix.ConfusionMatrixDisplay at 0x7f7f7801ddd8>"
            ]
          },
          "metadata": {
            "tags": []
          },
          "execution_count": 89
        },
        {
          "output_type": "display_data",
          "data": {
            "image/png": "[encoded data removed]",
            "text/plain": [
              "<Figure size 432x288 with 2 Axes>"
            ]
          },
          "metadata": {
            "tags": [],
            "needs_background": "light"
          }
        }
      ]
    },
    {
      "cell_type": "markdown",
      "metadata": {
        "id": "ibjccJ_pAz0R"
      },
      "source": [
        "## ROC/AUC\n",
        "Receiver Operating Characteristic (ROC) and Area Under the Curve (AUC) are some of the most popular performance metrics in machine learning. Here we will practice calculating and visualising ROC/AUC for toy classifier."
      ]
    },
    {
      "cell_type": "code",
      "metadata": {
        "id": "-z4xWPA5WVz9"
      },
      "source": [
        "# let's create our data again\n",
        "example_data = pd.DataFrame({'x1':[1,2,3,4,5], 'x2':[2,4,5,4,5], 'class':[1,0,1,1,0]})\n",
        "example_data['class'] = example_data['class'].astype('category') # note that we turn class into categories"
      ],
      "execution_count": 90,
      "outputs": []
    },
    {
      "cell_type": "markdown",
      "metadata": {
        "id": "2S5zqBHJWbdI"
      },
      "source": [
        "Train a logistic regression model from *sklearn* on our data"
      ]
    },
    {
      "cell_type": "code",
      "metadata": {
        "id": "6IRydGbsWa-l",
        "colab": {
          "base_uri": "https://localhost:8080/"
        },
        "outputId": "c5264759-3cf3-47b4-bc85-a16466e4076d"
      },
      "source": [
        "from sklearn.linear_model import LogisticRegression \n",
        "logit = LogisticRegression()\n",
        "logit.fit(example_data[['x1', 'x2']], example_data[['class']])"
      ],
      "execution_count": 91,
      "outputs": [
        {
          "output_type": "execute_result",
          "data": {
            "text/plain": [
              "LogisticRegression(C=1.0, class_weight=None, dual=False, fit_intercept=True,\n",
              "                   intercept_scaling=1, l1_ratio=None, max_iter=100,\n",
              "                   multi_class='auto', n_jobs=None, penalty='l2',\n",
              "                   random_state=None, solver='lbfgs', tol=0.0001, verbose=0,\n",
              "                   warm_start=False)"
            ]
          },
          "metadata": {
            "tags": []
          },
          "execution_count": 91
        }
      ]
    },
    {
      "cell_type": "markdown",
      "metadata": {
        "id": "nLa4DL4Mxmxu"
      },
      "source": [
        "Here we will use function `predict_proba` which returns probability scores for each class."
      ]
    },
    {
      "cell_type": "code",
      "metadata": {
        "id": "CLuXHcLkS08-",
        "colab": {
          "base_uri": "https://localhost:8080/"
        },
        "outputId": "62347514-bed5-4471-851b-7e753afe7bc1"
      },
      "source": [
        "predictions = logit.predict(example_data[['x1', 'x2']])\n",
        "print(predictions)\n",
        "\n",
        "predictions_proba = logit.predict_proba(example_data[['x1', 'x2']])\n",
        "print(predictions_proba)"
      ],
      "execution_count": 92,
      "outputs": [
        {
          "output_type": "stream",
          "text": [
            "[1 1 1 1 0]\n",
            "[[0.18637182 0.81362818]\n",
            " [0.34969782 0.65030218]\n",
            " [0.47317578 0.52682422]\n",
            " [0.43161108 0.56838892]\n",
            " [0.5591435  0.4408565 ]]\n"
          ],
          "name": "stdout"
        }
      ]
    },
    {
      "cell_type": "code",
      "metadata": {
        "id": "y9j_8aUsWpGv",
        "colab": {
          "base_uri": "https://localhost:8080/"
        },
        "outputId": "8b4f367f-0a22-476b-9556-35d3158f4e8a"
      },
      "source": [
        "print(predictions_proba[:,1]) # probabilities of positive class"
      ],
      "execution_count": 93,
      "outputs": [
        {
          "output_type": "stream",
          "text": [
            "[0.81362818 0.65030218 0.52682422 0.56838892 0.4408565 ]\n"
          ],
          "name": "stdout"
        }
      ]
    },
    {
      "cell_type": "markdown",
      "metadata": {
        "id": "GcAY5iwOx5d1"
      },
      "source": [
        "Let's visualise these probability scores."
      ]
    },
    {
      "cell_type": "code",
      "metadata": {
        "id": "ceKE2FwdXMep"
      },
      "source": [
        " def generate_grid(start, stop, ppu):\n",
        "  \"\"\"\n",
        "  Function that creates data for the \n",
        "  decision boundary visualisation. \n",
        "  \"\"\"\n",
        "  num_points = (stop - start)*ppu\n",
        "  x = np.linspace(start, stop, num_points)\n",
        "  y = np.linspace(start, stop, num_points)\n",
        "  xx, yy = np.meshgrid(x, y)\n",
        "  x1, x2 = xx.flatten(), yy.flatten()\n",
        "  return(pd.DataFrame({'x1':  x1, 'x2': x2}))"
      ],
      "execution_count": 94,
      "outputs": []
    },
    {
      "cell_type": "code",
      "metadata": {
        "id": "gWlBb3b7XQkM",
        "colab": {
          "base_uri": "https://localhost:8080/"
        },
        "outputId": "8ba1633d-7621-4fde-eae9-93b804519b44"
      },
      "source": [
        "start = 1 \n",
        "stop = 5\n",
        "ppu = 30 # points per unit\n",
        "\n",
        "grid_data = generate_grid(start, stop, ppu)\n",
        "grid_data['logit'] = logit.predict(grid_data[['x1', 'x2']]) # DEL\n",
        "\n",
        "print(grid_data.shape)"
      ],
      "execution_count": 95,
      "outputs": [
        {
          "output_type": "stream",
          "text": [
            "(14400, 3)\n"
          ],
          "name": "stdout"
        }
      ]
    },
    {
      "cell_type": "code",
      "metadata": {
        "id": "eB0DeqZWWuou",
        "colab": {
          "base_uri": "https://localhost:8080/",
          "height": 480
        },
        "outputId": "62167195-8e3c-48e2-ae33-520fd9df8977"
      },
      "source": [
        "example_data['scores'] = np.round(predictions_proba[:,1], 2)\n",
        "draw_points_ggplot2(example_data) + geom_point(data = grid_data, mapping = aes(x = 'x1', y = 'x2', colour = 'factor(logit)'),  size = .5, alpha = 0.2) + geom_text(aes(label = example_data['scores']), nudge_y = 0.2)"
      ],
      "execution_count": 96,
      "outputs": [
        {
          "output_type": "display_data",
          "data": {
            "image/png": "[encoded data removed]",
            "text/plain": [
              "<Figure size 500x500 with 1 Axes>"
            ]
          },
          "metadata": {
            "tags": []
          }
        },
        {
          "output_type": "execute_result",
          "data": {
            "text/plain": [
              "<ggplot: (-9223363275266783137)>"
            ]
          },
          "metadata": {
            "tags": []
          },
          "execution_count": 96
        }
      ]
    },
    {
      "cell_type": "code",
      "metadata": {
        "id": "v12v-MuFScpI",
        "colab": {
          "base_uri": "https://localhost:8080/",
          "height": 206
        },
        "outputId": "87353a5e-2aa0-490a-af98-2de3c0838f8f"
      },
      "source": [
        "example_data"
      ],
      "execution_count": 97,
      "outputs": [
        {
          "output_type": "execute_result",
          "data": {
            "text/html": [
              "<div>\n",
              "<style scoped>\n",
              "    .dataframe tbody tr th:only-of-type {\n",
              "        vertical-align: middle;\n",
              "    }\n",
              "\n",
              "    .dataframe tbody tr th {\n",
              "        vertical-align: top;\n",
              "    }\n",
              "\n",
              "    .dataframe thead th {\n",
              "        text-align: right;\n",
              "    }\n",
              "</style>\n",
              "<table border=\"1\" class=\"dataframe\">\n",
              "  <thead>\n",
              "    <tr style=\"text-align: right;\">\n",
              "      <th></th>\n",
              "      <th>x1</th>\n",
              "      <th>x2</th>\n",
              "      <th>class</th>\n",
              "      <th>scores</th>\n",
              "    </tr>\n",
              "  </thead>\n",
              "  <tbody>\n",
              "    <tr>\n",
              "      <th>0</th>\n",
              "      <td>1</td>\n",
              "      <td>2</td>\n",
              "      <td>1</td>\n",
              "      <td>0.81</td>\n",
              "    </tr>\n",
              "    <tr>\n",
              "      <th>1</th>\n",
              "      <td>2</td>\n",
              "      <td>4</td>\n",
              "      <td>0</td>\n",
              "      <td>0.65</td>\n",
              "    </tr>\n",
              "    <tr>\n",
              "      <th>2</th>\n",
              "      <td>3</td>\n",
              "      <td>5</td>\n",
              "      <td>1</td>\n",
              "      <td>0.53</td>\n",
              "    </tr>\n",
              "    <tr>\n",
              "      <th>3</th>\n",
              "      <td>4</td>\n",
              "      <td>4</td>\n",
              "      <td>1</td>\n",
              "      <td>0.57</td>\n",
              "    </tr>\n",
              "    <tr>\n",
              "      <th>4</th>\n",
              "      <td>5</td>\n",
              "      <td>5</td>\n",
              "      <td>0</td>\n",
              "      <td>0.44</td>\n",
              "    </tr>\n",
              "  </tbody>\n",
              "</table>\n",
              "</div>"
            ],
            "text/plain": [
              "   x1  x2 class  scores\n",
              "0   1   2     1    0.81\n",
              "1   2   4     0    0.65\n",
              "2   3   5     1    0.53\n",
              "3   4   4     1    0.57\n",
              "4   5   5     0    0.44"
            ]
          },
          "metadata": {
            "tags": []
          },
          "execution_count": 97
        }
      ]
    },
    {
      "cell_type": "markdown",
      "metadata": {
        "id": "ClJMOUMhSkHC"
      },
      "source": [
        "Sort the dataframe in descending order based on class scores"
      ]
    },
    {
      "cell_type": "code",
      "metadata": {
        "id": "LxEwQ56uSjop",
        "colab": {
          "base_uri": "https://localhost:8080/",
          "height": 206
        },
        "outputId": "3cbf9021-945e-4004-9435-a409316cc0b3"
      },
      "source": [
        "example_data = example_data.sort_values('scores',  ascending=False)\n",
        "example_data"
      ],
      "execution_count": 98,
      "outputs": [
        {
          "output_type": "execute_result",
          "data": {
            "text/html": [
              "<div>\n",
              "<style scoped>\n",
              "    .dataframe tbody tr th:only-of-type {\n",
              "        vertical-align: middle;\n",
              "    }\n",
              "\n",
              "    .dataframe tbody tr th {\n",
              "        vertical-align: top;\n",
              "    }\n",
              "\n",
              "    .dataframe thead th {\n",
              "        text-align: right;\n",
              "    }\n",
              "</style>\n",
              "<table border=\"1\" class=\"dataframe\">\n",
              "  <thead>\n",
              "    <tr style=\"text-align: right;\">\n",
              "      <th></th>\n",
              "      <th>x1</th>\n",
              "      <th>x2</th>\n",
              "      <th>class</th>\n",
              "      <th>scores</th>\n",
              "    </tr>\n",
              "  </thead>\n",
              "  <tbody>\n",
              "    <tr>\n",
              "      <th>0</th>\n",
              "      <td>1</td>\n",
              "      <td>2</td>\n",
              "      <td>1</td>\n",
              "      <td>0.81</td>\n",
              "    </tr>\n",
              "    <tr>\n",
              "      <th>1</th>\n",
              "      <td>2</td>\n",
              "      <td>4</td>\n",
              "      <td>0</td>\n",
              "      <td>0.65</td>\n",
              "    </tr>\n",
              "    <tr>\n",
              "      <th>3</th>\n",
              "      <td>4</td>\n",
              "      <td>4</td>\n",
              "      <td>1</td>\n",
              "      <td>0.57</td>\n",
              "    </tr>\n",
              "    <tr>\n",
              "      <th>2</th>\n",
              "      <td>3</td>\n",
              "      <td>5</td>\n",
              "      <td>1</td>\n",
              "      <td>0.53</td>\n",
              "    </tr>\n",
              "    <tr>\n",
              "      <th>4</th>\n",
              "      <td>5</td>\n",
              "      <td>5</td>\n",
              "      <td>0</td>\n",
              "      <td>0.44</td>\n",
              "    </tr>\n",
              "  </tbody>\n",
              "</table>\n",
              "</div>"
            ],
            "text/plain": [
              "   x1  x2 class  scores\n",
              "0   1   2     1    0.81\n",
              "1   2   4     0    0.65\n",
              "3   4   4     1    0.57\n",
              "2   3   5     1    0.53\n",
              "4   5   5     0    0.44"
            ]
          },
          "metadata": {
            "tags": []
          },
          "execution_count": 98
        }
      ]
    },
    {
      "cell_type": "markdown",
      "metadata": {
        "id": "0YhOzVsmS3DR"
      },
      "source": [
        "What are the possible thresholds in this case?"
      ]
    },
    {
      "cell_type": "code",
      "metadata": {
        "id": "t1964ND8S6RC",
        "colab": {
          "base_uri": "https://localhost:8080/"
        },
        "outputId": "c4db5d17-f627-41c6-8737-7367f27936a2"
      },
      "source": [
        "thresholds = example_data['scores'].unique()\n",
        "print(example_data['scores'].unique())"
      ],
      "execution_count": 99,
      "outputs": [
        {
          "output_type": "stream",
          "text": [
            "[0.81 0.65 0.57 0.53 0.44]\n"
          ],
          "name": "stdout"
        }
      ]
    },
    {
      "cell_type": "markdown",
      "metadata": {
        "id": "2wSRzzF-TCFJ"
      },
      "source": [
        "For each possible threshold compute True Positive Rate (TPR) and False Positive Rate (FPR) and record them in the separate dataframe."
      ]
    },
    {
      "cell_type": "code",
      "metadata": {
        "id": "Wyy_rYTbZPy3",
        "colab": {
          "base_uri": "https://localhost:8080/"
        },
        "outputId": "c8f40991-3142-436f-ded9-16d656ee53c7"
      },
      "source": [
        "roc_coordinates = pd.DataFrame(columns=['FPR','TPR'], index=thresholds)\n",
        "print(roc_coordinates)"
      ],
      "execution_count": 100,
      "outputs": [
        {
          "output_type": "stream",
          "text": [
            "      FPR  TPR\n",
            "0.81  NaN  NaN\n",
            "0.65  NaN  NaN\n",
            "0.57  NaN  NaN\n",
            "0.53  NaN  NaN\n",
            "0.44  NaN  NaN\n"
          ],
          "name": "stdout"
        }
      ]
    },
    {
      "cell_type": "code",
      "metadata": {
        "id": "KBuYQShgTOX1",
        "colab": {
          "base_uri": "https://localhost:8080/"
        },
        "outputId": "de895bc3-5146-4580-99db-422c728782c6"
      },
      "source": [
        "for threshold in thresholds:\n",
        "  print(f'For threshold {threshold}')\n",
        "  \n",
        "  ##### YOUR CODE STARTS #####\n",
        "  predictions = (example_data[['scores']] >= threshold).to_numpy().flatten()\n",
        "  pred_positive = example_data[['class']][predictions == 1].to_numpy().flatten()\n",
        "  pred_negative = example_data[['class']][predictions == 0].to_numpy().flatten()\n",
        "  ##### YOUR CODE ENDS #####\n",
        "  \n",
        "  tp = np.sum(pred_positive == 1)\n",
        "  fn = np.sum(pred_negative == 1)\n",
        "  tn = np.sum(pred_negative == 0)\n",
        "  fp = np.sum(pred_positive == 0)\n",
        "\n",
        "  print(f'tp = {tp}, fn = {fn}, tn = {tn}, fp = {fp}')\n",
        "  \n",
        "  ##### YOUR CODE STARTS #####\n",
        "  tpr = tp/(tp+fn)# the same as recall\n",
        "  fpr = fp/(tn+fp)\n",
        "\n",
        "  ##### YOUR CODE ENDS #####\n",
        "  \n",
        "  print(f'FPR = {np.round(fpr, 2)}, TPR = {np.round(tpr, 2)}\\n')\n",
        "  roc_coordinates.loc[threshold] = pd.Series({'FPR':np.round(fpr,2), 'TPR':np.round(tpr,2)})\n",
        "\n",
        "print(roc_coordinates)"
      ],
      "execution_count": 101,
      "outputs": [
        {
          "output_type": "stream",
          "text": [
            "For threshold 0.81\n",
            "tp = 1, fn = 2, tn = 2, fp = 0\n",
            "FPR = 0.0, TPR = 0.33\n",
            "\n",
            "For threshold 0.65\n",
            "tp = 1, fn = 2, tn = 1, fp = 1\n",
            "FPR = 0.5, TPR = 0.33\n",
            "\n",
            "For threshold 0.57\n",
            "tp = 2, fn = 1, tn = 1, fp = 1\n",
            "FPR = 0.5, TPR = 0.67\n",
            "\n",
            "For threshold 0.53\n",
            "tp = 3, fn = 0, tn = 1, fp = 1\n",
            "FPR = 0.5, TPR = 1.0\n",
            "\n",
            "For threshold 0.44\n",
            "tp = 3, fn = 0, tn = 0, fp = 2\n",
            "FPR = 1.0, TPR = 1.0\n",
            "\n",
            "      FPR   TPR\n",
            "0.81    0  0.33\n",
            "0.65  0.5  0.33\n",
            "0.57  0.5  0.67\n",
            "0.53  0.5     1\n",
            "0.44    1     1\n"
          ],
          "name": "stdout"
        }
      ]
    },
    {
      "cell_type": "markdown",
      "metadata": {
        "id": "MlIm_d4gWqPA"
      },
      "source": [
        "Let's also add point FPR = 0, TPR = 0 with threshold 1.0"
      ]
    },
    {
      "cell_type": "code",
      "metadata": {
        "id": "JdVi8V-vWnIU",
        "colab": {
          "base_uri": "https://localhost:8080/"
        },
        "outputId": "0fa3b919-5ad2-4cf7-dcc3-79082c390f15"
      },
      "source": [
        "# Concat with old DataFrame and reset the Index.\n",
        "top_row =  pd.DataFrame({'FPR':0, 'TPR':0}, index=[1.0])\n",
        "print(roc_coordinates)\n",
        "final_roc_coordinates = pd.concat([top_row, roc_coordinates])\n",
        "print(final_roc_coordinates)"
      ],
      "execution_count": 166,
      "outputs": [
        {
          "output_type": "stream",
          "text": [
            "      FPR   TPR\n",
            "0.81    0  0.33\n",
            "0.65  0.5  0.33\n",
            "0.57  0.5  0.67\n",
            "0.53  0.5     1\n",
            "0.44    1     1\n",
            "      FPR   TPR\n",
            "1.00    0     0\n",
            "0.81    0  0.33\n",
            "0.65  0.5  0.33\n",
            "0.57  0.5  0.67\n",
            "0.53  0.5     1\n",
            "0.44    1     1\n"
          ],
          "name": "stdout"
        }
      ]
    },
    {
      "cell_type": "code",
      "metadata": {
        "id": "ExMihX-UZ7SC",
        "colab": {
          "base_uri": "https://localhost:8080/"
        },
        "outputId": "2f88bfb2-dd77-4a19-897b-d0f7a1b10458"
      },
      "source": [
        "final_roc_coordinates.dtypes"
      ],
      "execution_count": 103,
      "outputs": [
        {
          "output_type": "execute_result",
          "data": {
            "text/plain": [
              "FPR    object\n",
              "TPR    object\n",
              "dtype: object"
            ]
          },
          "metadata": {
            "tags": []
          },
          "execution_count": 103
        }
      ]
    },
    {
      "cell_type": "code",
      "metadata": {
        "id": "C50mGFbQZnkA",
        "colab": {
          "base_uri": "https://localhost:8080/",
          "height": 237
        },
        "outputId": "0716ed9a-4a5e-4371-a202-8c4901124f62"
      },
      "source": [
        "# convert all values in data frame into floats\n",
        "final_roc_coordinates = final_roc_coordinates.astype('float') \n",
        "final_roc_coordinates"
      ],
      "execution_count": 104,
      "outputs": [
        {
          "output_type": "execute_result",
          "data": {
            "text/html": [
              "<div>\n",
              "<style scoped>\n",
              "    .dataframe tbody tr th:only-of-type {\n",
              "        vertical-align: middle;\n",
              "    }\n",
              "\n",
              "    .dataframe tbody tr th {\n",
              "        vertical-align: top;\n",
              "    }\n",
              "\n",
              "    .dataframe thead th {\n",
              "        text-align: right;\n",
              "    }\n",
              "</style>\n",
              "<table border=\"1\" class=\"dataframe\">\n",
              "  <thead>\n",
              "    <tr style=\"text-align: right;\">\n",
              "      <th></th>\n",
              "      <th>FPR</th>\n",
              "      <th>TPR</th>\n",
              "    </tr>\n",
              "  </thead>\n",
              "  <tbody>\n",
              "    <tr>\n",
              "      <th>1.00</th>\n",
              "      <td>0.0</td>\n",
              "      <td>0.00</td>\n",
              "    </tr>\n",
              "    <tr>\n",
              "      <th>0.81</th>\n",
              "      <td>0.0</td>\n",
              "      <td>0.33</td>\n",
              "    </tr>\n",
              "    <tr>\n",
              "      <th>0.65</th>\n",
              "      <td>0.5</td>\n",
              "      <td>0.33</td>\n",
              "    </tr>\n",
              "    <tr>\n",
              "      <th>0.57</th>\n",
              "      <td>0.5</td>\n",
              "      <td>0.67</td>\n",
              "    </tr>\n",
              "    <tr>\n",
              "      <th>0.53</th>\n",
              "      <td>0.5</td>\n",
              "      <td>1.00</td>\n",
              "    </tr>\n",
              "    <tr>\n",
              "      <th>0.44</th>\n",
              "      <td>1.0</td>\n",
              "      <td>1.00</td>\n",
              "    </tr>\n",
              "  </tbody>\n",
              "</table>\n",
              "</div>"
            ],
            "text/plain": [
              "      FPR   TPR\n",
              "1.00  0.0  0.00\n",
              "0.81  0.0  0.33\n",
              "0.65  0.5  0.33\n",
              "0.57  0.5  0.67\n",
              "0.53  0.5  1.00\n",
              "0.44  1.0  1.00"
            ]
          },
          "metadata": {
            "tags": []
          },
          "execution_count": 104
        }
      ]
    },
    {
      "cell_type": "markdown",
      "metadata": {
        "id": "GcvV3ORZWeUX"
      },
      "source": [
        "Let's visualise our ROC curve:"
      ]
    },
    {
      "cell_type": "code",
      "metadata": {
        "id": "ZzHbd2xUfBCA",
        "colab": {
          "base_uri": "https://localhost:8080/",
          "height": 480
        },
        "outputId": "bb904cef-9b6b-42cd-bb46-dbda9deda992"
      },
      "source": [
        "fig = (\n",
        "    ggplot(data = final_roc_coordinates,\n",
        "          mapping = aes(x = 'FPR', y = 'TPR')) +\n",
        "     geom_polygon(data = pd.concat([final_roc_coordinates, pd.DataFrame({'FPR':1, 'TPR':0}, index=[1.0])]), alpha = 0.3, fill = '#773F9B') + \n",
        "     geom_path(aes(x='FPR', y='TPR'), group=1, colour = '#773F9B', size = 2) +\n",
        "     geom_point(colour = '#B36AE2', \n",
        "                shape = 'o',\n",
        "                fill = '#773F9B', \n",
        "                size = 4.0,\n",
        "                stroke = 2.0) +\n",
        "    labs(\n",
        "        title ='',\n",
        "        x = 'FPR',\n",
        "        y = 'TPR',\n",
        "    ) +\n",
        "    theme_bw() + \n",
        "    theme(figure_size = (5, 5),\n",
        "          axis_line = element_line(size = 0.5, colour = \"black\"),\n",
        "          panel_grid_major = element_line(size = 0.05, colour = \"black\"),\n",
        "          panel_grid_minor = element_line(size = 0.05, colour = \"black\"),\n",
        "          axis_text = element_text(colour ='black'))\n",
        "    )\n",
        "fig"
      ],
      "execution_count": 105,
      "outputs": [
        {
          "output_type": "display_data",
          "data": {
            "image/png": "[encoded data removed]",
            "text/plain": [
              "<Figure size 500x500 with 1 Axes>"
            ]
          },
          "metadata": {
            "tags": []
          }
        },
        {
          "output_type": "execute_result",
          "data": {
            "text/plain": [
              "<ggplot: (8761587946090)>"
            ]
          },
          "metadata": {
            "tags": []
          },
          "execution_count": 105
        }
      ]
    },
    {
      "cell_type": "markdown",
      "metadata": {
        "id": "hqE1Zx5tttRn"
      },
      "source": [
        "Let's calculate **AUC** using *sklearn*:"
      ]
    },
    {
      "cell_type": "code",
      "metadata": {
        "id": "4JbnEqGWfBHz",
        "colab": {
          "base_uri": "https://localhost:8080/"
        },
        "outputId": "7f132188-3d41-49f4-ed8c-be307ee5fe49"
      },
      "source": [
        "np.round(metrics.roc_auc_score(example_data['class'], example_data['scores']),3)"
      ],
      "execution_count": 106,
      "outputs": [
        {
          "output_type": "execute_result",
          "data": {
            "text/plain": [
              "0.667"
            ]
          },
          "metadata": {
            "tags": []
          },
          "execution_count": 106
        }
      ]
    },
    {
      "cell_type": "markdown",
      "metadata": {
        "id": "TjTN9hRYhYvD"
      },
      "source": [
        "### ROC for majority class classifier\n",
        "Let's see how ROC would look like in the case of highly skewed prediction on unbalanced data.\n"
      ]
    },
    {
      "cell_type": "code",
      "metadata": {
        "id": "inZYhpmFher9"
      },
      "source": [
        "# regenerate unbalanced data\n",
        "unbalanced_data = pd.DataFrame({'x1':[1,2,3,4,5,1,4,3,4.5,3.5], 'x2':[2,4,5,4,5,3.5,4.2,1.3,0.5,3], 'class':[1,0,1,1,1,1,1,1,1,1]})\n",
        "unbalanced_data['class'] = unbalanced_data['class'].astype('category') # note that we turn class into categories"
      ],
      "execution_count": 107,
      "outputs": []
    },
    {
      "cell_type": "markdown",
      "metadata": {
        "id": "Pvb2u6CIcIu9"
      },
      "source": [
        "Extract scores from the majority class model on unbalanced data"
      ]
    },
    {
      "cell_type": "code",
      "metadata": {
        "id": "y2N1Kv3HhkwV",
        "colab": {
          "base_uri": "https://localhost:8080/"
        },
        "outputId": "222cc1bd-05df-4764-c56a-5595615f77ca"
      },
      "source": [
        "majority_class_model = DummyClassifier(strategy='most_frequent')\n",
        "majority_class_model.fit(unbalanced_data[[\"x1\" , \"x2\"]], unbalanced_data[[\"class\"]])\n",
        "majority_class_model.predict_proba(unbalanced_data[[\"x1\" , \"x2\"]])"
      ],
      "execution_count": 108,
      "outputs": [
        {
          "output_type": "execute_result",
          "data": {
            "text/plain": [
              "array([[0., 1.],\n",
              "       [0., 1.],\n",
              "       [0., 1.],\n",
              "       [0., 1.],\n",
              "       [0., 1.],\n",
              "       [0., 1.],\n",
              "       [0., 1.],\n",
              "       [0., 1.],\n",
              "       [0., 1.],\n",
              "       [0., 1.]])"
            ]
          },
          "metadata": {
            "tags": []
          },
          "execution_count": 108
        }
      ]
    },
    {
      "cell_type": "code",
      "metadata": {
        "id": "lcjJ9bO0uk0B",
        "colab": {
          "base_uri": "https://localhost:8080/"
        },
        "outputId": "b1454f79-94e4-44e5-ec8d-451e0ad2681a"
      },
      "source": [
        "majority_class_model.predict_proba(unbalanced_data[[\"x1\" , \"x2\"]])[:,1]"
      ],
      "execution_count": 109,
      "outputs": [
        {
          "output_type": "execute_result",
          "data": {
            "text/plain": [
              "array([1., 1., 1., 1., 1., 1., 1., 1., 1., 1.])"
            ]
          },
          "metadata": {
            "tags": []
          },
          "execution_count": 109
        }
      ]
    },
    {
      "cell_type": "code",
      "metadata": {
        "id": "t054PlQUiI0_",
        "colab": {
          "base_uri": "https://localhost:8080/",
          "height": 363
        },
        "outputId": "639425f1-69fe-495b-eefc-4219c9df521b"
      },
      "source": [
        "unbalanced_data['scores'] = majority_class_model.predict_proba(unbalanced_data[[\"x1\" , \"x2\"]])[:,1]\n",
        "unbalanced_data"
      ],
      "execution_count": 110,
      "outputs": [
        {
          "output_type": "execute_result",
          "data": {
            "text/html": [
              "<div>\n",
              "<style scoped>\n",
              "    .dataframe tbody tr th:only-of-type {\n",
              "        vertical-align: middle;\n",
              "    }\n",
              "\n",
              "    .dataframe tbody tr th {\n",
              "        vertical-align: top;\n",
              "    }\n",
              "\n",
              "    .dataframe thead th {\n",
              "        text-align: right;\n",
              "    }\n",
              "</style>\n",
              "<table border=\"1\" class=\"dataframe\">\n",
              "  <thead>\n",
              "    <tr style=\"text-align: right;\">\n",
              "      <th></th>\n",
              "      <th>x1</th>\n",
              "      <th>x2</th>\n",
              "      <th>class</th>\n",
              "      <th>scores</th>\n",
              "    </tr>\n",
              "  </thead>\n",
              "  <tbody>\n",
              "    <tr>\n",
              "      <th>0</th>\n",
              "      <td>1.0</td>\n",
              "      <td>2.0</td>\n",
              "      <td>1</td>\n",
              "      <td>1.0</td>\n",
              "    </tr>\n",
              "    <tr>\n",
              "      <th>1</th>\n",
              "      <td>2.0</td>\n",
              "      <td>4.0</td>\n",
              "      <td>0</td>\n",
              "      <td>1.0</td>\n",
              "    </tr>\n",
              "    <tr>\n",
              "      <th>2</th>\n",
              "      <td>3.0</td>\n",
              "      <td>5.0</td>\n",
              "      <td>1</td>\n",
              "      <td>1.0</td>\n",
              "    </tr>\n",
              "    <tr>\n",
              "      <th>3</th>\n",
              "      <td>4.0</td>\n",
              "      <td>4.0</td>\n",
              "      <td>1</td>\n",
              "      <td>1.0</td>\n",
              "    </tr>\n",
              "    <tr>\n",
              "      <th>4</th>\n",
              "      <td>5.0</td>\n",
              "      <td>5.0</td>\n",
              "      <td>1</td>\n",
              "      <td>1.0</td>\n",
              "    </tr>\n",
              "    <tr>\n",
              "      <th>5</th>\n",
              "      <td>1.0</td>\n",
              "      <td>3.5</td>\n",
              "      <td>1</td>\n",
              "      <td>1.0</td>\n",
              "    </tr>\n",
              "    <tr>\n",
              "      <th>6</th>\n",
              "      <td>4.0</td>\n",
              "      <td>4.2</td>\n",
              "      <td>1</td>\n",
              "      <td>1.0</td>\n",
              "    </tr>\n",
              "    <tr>\n",
              "      <th>7</th>\n",
              "      <td>3.0</td>\n",
              "      <td>1.3</td>\n",
              "      <td>1</td>\n",
              "      <td>1.0</td>\n",
              "    </tr>\n",
              "    <tr>\n",
              "      <th>8</th>\n",
              "      <td>4.5</td>\n",
              "      <td>0.5</td>\n",
              "      <td>1</td>\n",
              "      <td>1.0</td>\n",
              "    </tr>\n",
              "    <tr>\n",
              "      <th>9</th>\n",
              "      <td>3.5</td>\n",
              "      <td>3.0</td>\n",
              "      <td>1</td>\n",
              "      <td>1.0</td>\n",
              "    </tr>\n",
              "  </tbody>\n",
              "</table>\n",
              "</div>"
            ],
            "text/plain": [
              "    x1   x2 class  scores\n",
              "0  1.0  2.0     1     1.0\n",
              "1  2.0  4.0     0     1.0\n",
              "2  3.0  5.0     1     1.0\n",
              "3  4.0  4.0     1     1.0\n",
              "4  5.0  5.0     1     1.0\n",
              "5  1.0  3.5     1     1.0\n",
              "6  4.0  4.2     1     1.0\n",
              "7  3.0  1.3     1     1.0\n",
              "8  4.5  0.5     1     1.0\n",
              "9  3.5  3.0     1     1.0"
            ]
          },
          "metadata": {
            "tags": []
          },
          "execution_count": 110
        }
      ]
    },
    {
      "cell_type": "code",
      "metadata": {
        "id": "6oXdepozupto"
      },
      "source": [
        "def generate_coordinates(scores, classes, verbose = True):\n",
        "  # thresholds can be obtained from scores\n",
        "  thresholds = scores.unique()\n",
        "  \n",
        "  # initialise roc_coordinates\n",
        "  roc_coordinates = pd.DataFrame(columns=['FPR','TPR'], index=thresholds)\n",
        "  \n",
        "  ##### YOUR CODE STARTS #####\n",
        "  for threshold in thresholds:\n",
        "    if (verbose == True):\n",
        "      print(f'For threshold {threshold}')\n",
        "    \n",
        "      predictions = (scores >= threshold).to_numpy().flatten()\n",
        "      pred_positive = classes[predictions == 1].to_numpy().flatten()\n",
        "      pred_negative = classes[predictions == 0].to_numpy().flatten()\n",
        "    \n",
        "      tp = np.sum(pred_positive == 1)\n",
        "      fn = np.sum(pred_negative == 1)\n",
        "      tn = np.sum(pred_negative == 0)\n",
        "      fp = np.sum(pred_positive == 0)\n",
        "    \n",
        "    if (verbose == True):\n",
        "      print(f'tp = {tp}, fn = {fn}, tn = {tn}, fp = {fp}')\n",
        "    \n",
        "    tpr = tp/(tp+fn)# the same as recall\n",
        "    fpr = fp/(tn+fp)\n",
        "    \n",
        "    if (verbose == True):\n",
        "      print(f'FPR = {np.round(fpr, 2)}, TPR = {np.round(tpr, 2)}\\n')\n",
        "    roc_coordinates.loc[threshold] = pd.Series({'FPR':np.round(fpr,2),'TPR':np.round(tpr,2)})\n",
        "\n",
        "  ##### YOUR CODE ENDS #####\n",
        "  return roc_coordinates"
      ],
      "execution_count": 112,
      "outputs": []
    },
    {
      "cell_type": "code",
      "metadata": {
        "id": "XhtvA8kTic1e",
        "colab": {
          "base_uri": "https://localhost:8080/"
        },
        "outputId": "0b5679f5-8ac0-49e4-a899-d2a44bde38c5"
      },
      "source": [
        "dummy_roc_coordinates = generate_coordinates(unbalanced_data['scores'], unbalanced_data['class'])"
      ],
      "execution_count": 113,
      "outputs": [
        {
          "output_type": "stream",
          "text": [
            "For threshold 1.0\n",
            "tp = 9, fn = 0, tn = 0, fp = 1\n",
            "FPR = 1.0, TPR = 1.0\n",
            "\n"
          ],
          "name": "stdout"
        }
      ]
    },
    {
      "cell_type": "code",
      "metadata": {
        "id": "eZslXg2peeCn",
        "colab": {
          "base_uri": "https://localhost:8080/"
        },
        "outputId": "e2873b17-ab7f-42a6-a408-014f60903afa"
      },
      "source": [
        "# Concat with old DataFrame and reset the Index.\n",
        "top_row =  pd.DataFrame({'FPR':0, 'TPR':0}, index=[1.0])\n",
        "final_dummy_roc_coordinates = pd.concat([top_row, dummy_roc_coordinates])\n",
        "print(final_dummy_roc_coordinates)"
      ],
      "execution_count": 114,
      "outputs": [
        {
          "output_type": "stream",
          "text": [
            "    FPR TPR\n",
            "1.0   0   0\n",
            "1.0   1   1\n"
          ],
          "name": "stdout"
        }
      ]
    },
    {
      "cell_type": "code",
      "metadata": {
        "id": "mw1eytOQeu8y",
        "colab": {
          "base_uri": "https://localhost:8080/",
          "height": 112
        },
        "outputId": "7471387a-e5ca-4aa4-925a-1d170f22136d"
      },
      "source": [
        "# convert all values in data frame into floats\n",
        "final_dummy_roc_coordinates = final_dummy_roc_coordinates.astype('float') \n",
        "final_dummy_roc_coordinates"
      ],
      "execution_count": 115,
      "outputs": [
        {
          "output_type": "execute_result",
          "data": {
            "text/html": [
              "<div>\n",
              "<style scoped>\n",
              "    .dataframe tbody tr th:only-of-type {\n",
              "        vertical-align: middle;\n",
              "    }\n",
              "\n",
              "    .dataframe tbody tr th {\n",
              "        vertical-align: top;\n",
              "    }\n",
              "\n",
              "    .dataframe thead th {\n",
              "        text-align: right;\n",
              "    }\n",
              "</style>\n",
              "<table border=\"1\" class=\"dataframe\">\n",
              "  <thead>\n",
              "    <tr style=\"text-align: right;\">\n",
              "      <th></th>\n",
              "      <th>FPR</th>\n",
              "      <th>TPR</th>\n",
              "    </tr>\n",
              "  </thead>\n",
              "  <tbody>\n",
              "    <tr>\n",
              "      <th>1.0</th>\n",
              "      <td>0.0</td>\n",
              "      <td>0.0</td>\n",
              "    </tr>\n",
              "    <tr>\n",
              "      <th>1.0</th>\n",
              "      <td>1.0</td>\n",
              "      <td>1.0</td>\n",
              "    </tr>\n",
              "  </tbody>\n",
              "</table>\n",
              "</div>"
            ],
            "text/plain": [
              "     FPR  TPR\n",
              "1.0  0.0  0.0\n",
              "1.0  1.0  1.0"
            ]
          },
          "metadata": {
            "tags": []
          },
          "execution_count": 115
        }
      ]
    },
    {
      "cell_type": "code",
      "metadata": {
        "id": "enSSXLBYijKR",
        "colab": {
          "base_uri": "https://localhost:8080/",
          "height": 480
        },
        "outputId": "f28d0791-84e3-4057-c42e-f4b40b3dcfd2"
      },
      "source": [
        "fig = (\n",
        "    ggplot(data = final_dummy_roc_coordinates,\n",
        "          mapping = aes(x = 'FPR', y = 'TPR')) +\n",
        "     geom_polygon(data = pd.concat([final_dummy_roc_coordinates, pd.DataFrame({'FPR':1, 'TPR':0}, index=[1.0])]), alpha = 0.3, fill = '#773F9B') + \n",
        "     geom_path(aes(x='FPR', y='TPR'), group=1, colour = '#773F9B', size = 2) +\n",
        "     geom_point(colour = '#B36AE2', \n",
        "                shape = 'o',\n",
        "                fill = '#773F9B', \n",
        "                size = 4.0,\n",
        "                stroke = 2.0) +\n",
        "    labs(\n",
        "        title ='',\n",
        "        x = 'FPR',\n",
        "        y = 'TPR',\n",
        "    ) +\n",
        "    theme_bw() + \n",
        "    theme(figure_size = (5, 5),\n",
        "          axis_line = element_line(size = 0.5, colour = \"black\"),\n",
        "          panel_grid_major = element_line(size = 0.05, colour = \"black\"),\n",
        "          panel_grid_minor = element_line(size = 0.05, colour = \"black\"),\n",
        "          axis_text = element_text(colour ='black'))\n",
        "    )\n",
        "fig"
      ],
      "execution_count": 116,
      "outputs": [
        {
          "output_type": "display_data",
          "data": {
            "image/png": "[encoded data removed]",
            "text/plain": [
              "<Figure size 500x500 with 1 Axes>"
            ]
          },
          "metadata": {
            "tags": []
          }
        },
        {
          "output_type": "execute_result",
          "data": {
            "text/plain": [
              "<ggplot: (8761587888662)>"
            ]
          },
          "metadata": {
            "tags": []
          },
          "execution_count": 116
        }
      ]
    },
    {
      "cell_type": "code",
      "metadata": {
        "id": "7g8gG8vdGVaK",
        "colab": {
          "base_uri": "https://localhost:8080/"
        },
        "outputId": "018313cc-795f-4033-f9a7-ac20e0c986dd"
      },
      "source": [
        "np.round(metrics.roc_auc_score(unbalanced_data['class'], unbalanced_data['scores']),3)"
      ],
      "execution_count": 117,
      "outputs": [
        {
          "output_type": "execute_result",
          "data": {
            "text/plain": [
              "0.5"
            ]
          },
          "metadata": {
            "tags": []
          },
          "execution_count": 117
        }
      ]
    },
    {
      "cell_type": "markdown",
      "metadata": {
        "id": "lqK92P76wrVN"
      },
      "source": [
        "## You can compare classifiers by plotting their ROCs"
      ]
    },
    {
      "cell_type": "code",
      "metadata": {
        "id": "Eg_SyeJMyyvF"
      },
      "source": [
        "def plot_roc(coordinates_dict):\n",
        "  \"\"\"\n",
        "  plot_roc function plots all models' ROCs on one plot\n",
        "  \"\"\"\n",
        "  plotting_data = pd.DataFrame(columns=['FPR', 'TPR', 'Method'])\n",
        "\n",
        "  for id, name in enumerate(coordinates_dict.keys()):\n",
        "    method_data = coordinates_dict[name]\n",
        "    method_data['Method'] = name\n",
        "    plotting_data = pd.concat([plotting_data, method_data])\n",
        "  \n",
        "  plotting_data['Method'] = pd.Categorical(plotting_data['Method'])\n",
        "  \n",
        "  # To those of you who are interested in what the hell is going on\n",
        "  # check the comments for each line:\n",
        "  roc_plot = (\n",
        "        ggplot(data = plotting_data, # creates a canvas\n",
        "        mapping = aes(x = 'FPR', y = 'TPR', colour = 'Method')) + # specifies dimensions\n",
        "        geom_path(size = 1.5) + # determines geometric primitive to be visualised (path/line in our case) and its thickness \n",
        "        labs(title ='', x = 'FPR', y = 'TPR') + # labels of the x and y axes\n",
        "        # this is all for the figure, beloow are only formatting specs\n",
        "        theme_bw() + # colour schema \n",
        "        theme(figure_size = (5, 5), # figure size\n",
        "              axis_line = element_line(size = 0.5, colour = \"black\"), \n",
        "              panel_grid_major = element_line(size = 0.05, colour = \"black\"),\n",
        "              panel_grid_minor = element_line(size = 0.05, colour = \"black\"),\n",
        "              axis_text = element_text(colour ='black')) # more formatting details \n",
        "      )\n",
        "  return roc_plot\n"
      ],
      "execution_count": 118,
      "outputs": []
    },
    {
      "cell_type": "code",
      "metadata": {
        "id": "lDzF6LiS6RSK",
        "colab": {
          "base_uri": "https://localhost:8080/",
          "height": 480
        },
        "outputId": "b9fea3a8-95dd-496a-f8ef-79e1b4baad66"
      },
      "source": [
        "plot_roc(dict({'dummy': final_dummy_roc_coordinates,\n",
        "               'manual': final_roc_coordinates}))"
      ],
      "execution_count": 119,
      "outputs": [
        {
          "output_type": "display_data",
          "data": {
            "image/png": "[encoded data removed]",
            "text/plain": [
              "<Figure size 500x500 with 1 Axes>"
            ]
          },
          "metadata": {
            "tags": []
          }
        },
        {
          "output_type": "execute_result",
          "data": {
            "text/plain": [
              "<ggplot: (-9223363275264109140)>"
            ]
          },
          "metadata": {
            "tags": []
          },
          "execution_count": 119
        }
      ]
    },
    {
      "cell_type": "markdown",
      "metadata": {
        "id": "g6l1fR3PGX3d"
      },
      "source": [
        "### ROC in Sklearn "
      ]
    },
    {
      "cell_type": "code",
      "metadata": {
        "id": "7Y_1exSJxSpo",
        "colab": {
          "base_uri": "https://localhost:8080/",
          "height": 297
        },
        "outputId": "eea084e3-b4d1-4e53-91b9-d9e188c39c88"
      },
      "source": [
        "from sklearn.metrics import plot_roc_curve\n",
        "\n",
        "# No predictions are required only the model object\n",
        "metrics.plot_roc_curve(majority_class_model, unbalanced_data[['x1','x2']], unbalanced_data['class']) "
      ],
      "execution_count": 120,
      "outputs": [
        {
          "output_type": "execute_result",
          "data": {
            "text/plain": [
              "<sklearn.metrics._plot.roc_curve.RocCurveDisplay at 0x7f7f78080048>"
            ]
          },
          "metadata": {
            "tags": []
          },
          "execution_count": 120
        },
        {
          "output_type": "display_data",
          "data": {
            "image/png": "[encoded data removed]",
            "text/plain": [
              "<Figure size 432x288 with 1 Axes>"
            ]
          },
          "metadata": {
            "tags": [],
            "needs_background": "light"
          }
        }
      ]
    },
    {
      "cell_type": "markdown",
      "metadata": {
        "id": "lbbE3lltHbA_"
      },
      "source": [
        "\n",
        "\n",
        "---\n",
        "\n",
        "## Homework exercise 2: compare multiple classification methods using ROC curves and AUC metrics (5 points)\n",
        "\n",
        "\n",
        "<font color='red'> In this exercise we will explore the value of using ROC/AUC metrics for evaluating the performance on an unbalanced synthetic data. </font> \n",
        "\n"
      ]
    },
    {
      "cell_type": "code",
      "metadata": {
        "id": "h5TNEDj1FVhS"
      },
      "source": [
        "def create_unbalanced_random_2c_data (D, N):\n",
        "  \"\"\"\n",
        "  Function create_unbalanced_random_2c_data generates two sets of D dimensional \n",
        "  points, one for each class. The first set has N points, the other one has N/10 \n",
        "  points. The first set is sampled from D dimensional Gaussian distribution with \n",
        "  mean 0 and standard deviation 1. The second set is generated from the \n",
        "  distribution, with mean 1 and standard deviation 1.\n",
        "  \"\"\"\n",
        "  # Generating N points for the first class\n",
        "  mu_vec1 = np.zeros(D) # creates a vector of zeros, these are averages across each dimension\n",
        "  cov_mat1 = np.eye(D) # creates a diagonal matrix of size D x D, all values except diagonal are 0\n",
        "  class1_sample = np.random.multivariate_normal(mu_vec1, cov_mat1, N)\n",
        "\n",
        "  # Another class with fewer points and with averages shifted into 1\n",
        "  mu_vec2 = np.ones(D) # creates a vector of ones\n",
        "  cov_mat2 = np.eye(D)\n",
        "  class2_sample = np.random.multivariate_normal(mu_vec2, cov_mat2, int(N/10))\n",
        "\n",
        "  # a lot of boring things....\n",
        "  # gluing together two matrices generated above\n",
        "  unbalanced_data = pd.DataFrame(np.concatenate((class1_sample, class2_sample)))\n",
        "\n",
        "  # Create names for columns\n",
        "  unbalanced_data.columns = [ 'x' + str(i) for i in (np.arange(D)+1)]\n",
        "\n",
        "  # Create a class column\n",
        "  unbalanced_data['class'] = np.concatenate((np.repeat(0, N), np.repeat(1, int(N/10))))\n",
        "\n",
        "  # This is important for plotting and modelling\n",
        "  unbalanced_data['class'] = unbalanced_data['class'].astype('category')\n",
        "\n",
        "  return unbalanced_data"
      ],
      "execution_count": 121,
      "outputs": []
    },
    {
      "cell_type": "code",
      "metadata": {
        "id": "T-iw6H8oEf9i",
        "colab": {
          "base_uri": "https://localhost:8080/"
        },
        "outputId": "458a1bb0-a694-416b-fd36-57e8b1999b73"
      },
      "source": [
        "from sklearn.model_selection import train_test_split\n",
        "np.random.seed(2342347823)\n",
        "\n",
        "D = 2 # two dimensions\n",
        "N = 200 # points in majority class\n",
        "\n",
        "unbalanced_data = create_unbalanced_random_2c_data(D, N)\n",
        "\n",
        "# Randomly splitting data into train (60%) and validation (40%)\n",
        "train, val = train_test_split(unbalanced_data, random_state = 111, test_size = 0.40) \n",
        "print(train)"
      ],
      "execution_count": 129,
      "outputs": [
        {
          "output_type": "stream",
          "text": [
            "           x1        x2 class\n",
            "22  -0.806643 -0.859542     0\n",
            "79  -2.095889 -0.418547     0\n",
            "120 -1.213437  0.146685     0\n",
            "45   0.320224  1.343128     0\n",
            "100  1.120413 -1.095159     0\n",
            "..        ...       ...   ...\n",
            "86   0.185284  1.289590     0\n",
            "217  0.679128  0.255686     1\n",
            "212  1.618288  1.302383     1\n",
            "108 -0.197094 -0.030133     0\n",
            "84  -0.320766  0.673503     0\n",
            "\n",
            "[132 rows x 3 columns]\n"
          ],
          "name": "stdout"
        }
      ]
    },
    {
      "cell_type": "markdown",
      "metadata": {
        "id": "XOXf9NuwQYJe"
      },
      "source": [
        "<font color='red'>  **(Homework exercise 2- a)** Train three models (decision tree, KNN and random forest) on the synthetic data that we have generated above.  **(0.5 points)**</font> "
      ]
    },
    {
      "cell_type": "code",
      "metadata": {
        "id": "obZA-7ODGq2h"
      },
      "source": [
        "from sklearn.tree import DecisionTreeClassifier\n",
        "from sklearn.neighbors import KNeighborsClassifier\n",
        "from sklearn.ensemble import RandomForestClassifier\n",
        "\n",
        "np.random.seed(1111) # random seed for consistency\n",
        "\n",
        "##### YOUR CODE STARTS #####\n",
        "# define all three classifiers using default parameters\n",
        "knn = KNeighborsClassifier(n_neighbors = 7)\n",
        "rfc = RandomForestClassifier()\n",
        "dtr = DecisionTreeClassifier(random_state=0)\n",
        "\n",
        "\n",
        "# train classifiers\n",
        "#KNN\n",
        "knn.fit(train[['x1','x2']], train[['class']])\n",
        "predictions_knn = knn.predict(val[['x1','x2']])\n",
        "\n",
        "#Random forest\n",
        "rfc.fit(train[['x1','x2']], train[['class']])\n",
        "predictions_rfc = rfc.predict(val[['x1','x2']])\n",
        "\n",
        "#Decision tree\n",
        "dtr.fit(train[['x1','x2']], train[['class']])\n",
        "predictions_dtr = dtr.predict(val[['x1','x2']])\n",
        "\n",
        "##### YOUR CODE ENDS #####"
      ],
      "execution_count": 136,
      "outputs": []
    },
    {
      "cell_type": "markdown",
      "metadata": {
        "id": "OWGPXEK8SCGT"
      },
      "source": [
        "<font color='red'>  **(Homework exercise 2- b)** Calculate accuracy for each model on validation set using function `score` and model objects. **(0.5 points)**</font> "
      ]
    },
    {
      "cell_type": "code",
      "metadata": {
        "id": "RrF7GLg6G0Z-",
        "colab": {
          "base_uri": "https://localhost:8080/"
        },
        "outputId": "57782970-b3a6-4c8e-8cf0-441ba0c76f1b"
      },
      "source": [
        "##### YOUR CODE STARTS #####\n",
        "print(f\"Accuracy of DT is {np.round(metrics.accuracy_score(val[['class']], predictions_dtr),2)*100}%\")\n",
        "print(f\"Accuracy of KNN is {np.round(metrics.accuracy_score(val[['class']], predictions_knn),2)*100}%\")\n",
        "print(f\"Accuracy of RF is {np.round(metrics.accuracy_score(val[['class']], predictions_rfc),2)*100}%\")\n",
        "##### YOUR CODE ENDS #####"
      ],
      "execution_count": 183,
      "outputs": [
        {
          "output_type": "stream",
          "text": [
            "Accuracy of DT is 84.0%\n",
            "Accuracy of KNN is 90.0%\n",
            "Accuracy of RF is 85.0%\n"
          ],
          "name": "stdout"
        }
      ]
    },
    {
      "cell_type": "markdown",
      "metadata": {
        "id": "t_q2aDMzQugd"
      },
      "source": [
        "<font color='red'>  **(Homework exercise 2- c)** Get probability scores for the positive class on the validation data. **(0.5 points)**</font> "
      ]
    },
    {
      "cell_type": "code",
      "metadata": {
        "id": "bBMusLbvQm0m",
        "colab": {
          "base_uri": "https://localhost:8080/"
        },
        "outputId": "0ea2617a-893b-4ecc-f33b-5f73d99e5e30"
      },
      "source": [
        "##### YOUR CODE STARTS #####\n",
        "val['DT'] = dtr.predict_proba(val[['x1', 'x2']])[:,1]\n",
        "val['KNN'] = knn.predict_proba(val[['x1', 'x2']])[:,1]\n",
        "val['RF'] = rfc.predict_proba(val[['x1', 'x2']])[:,1] # first values for RF should be 0.89, 0.84, 0.69 ...\n",
        "\n",
        "print(val['RF'].sort_values(ascending = False))\n",
        "##### YOUR CODE ENDS #####"
      ],
      "execution_count": 152,
      "outputs": [
        {
          "output_type": "stream",
          "text": [
            "218    0.89\n",
            "214    0.84\n",
            "189    0.69\n",
            "35     0.53\n",
            "18     0.51\n",
            "       ... \n",
            "9      0.00\n",
            "160    0.00\n",
            "49     0.00\n",
            "152    0.00\n",
            "144    0.00\n",
            "Name: RF, Length: 88, dtype: float64\n"
          ],
          "name": "stdout"
        }
      ]
    },
    {
      "cell_type": "markdown",
      "metadata": {
        "id": "rRyDLresSWjG"
      },
      "source": [
        "<font color='red'>  **(Homework exercise 2- d)** Create ROC coordinates for each model using `generate_coordinates` and visualise them using `plot_roc` function we have used before. **(1.5 points)**</font> "
      ]
    },
    {
      "cell_type": "code",
      "metadata": {
        "id": "vdelTb9gHIZ-",
        "colab": {
          "base_uri": "https://localhost:8080/"
        },
        "outputId": "4fc27f8b-bb40-4433-d165-d1d573ee64e4"
      },
      "source": [
        "##### YOUR CODE STARTS #####\n",
        "val = val.sort_values('DT',  ascending=False) # do not change this line\n",
        "dt_roc_coordinates = generate_coordinates(val['DT'], val['class'])\n",
        "\n",
        "val = val.sort_values('KNN',  ascending=False) # do not change this line\n",
        "knn_roc_coordinates = generate_coordinates(val['KNN'], val['class'])\n",
        "\n",
        "val = val.sort_values('RF',  ascending=False) # do not change this line\n",
        "rf_roc_coordinates = generate_coordinates(val['RF'], val['class'])\n",
        "##### YOUR CODE ENDS #####"
      ],
      "execution_count": 157,
      "outputs": [
        {
          "output_type": "stream",
          "text": [
            "For threshold 1.0\n",
            "tp = 2, fn = 6, tn = 74, fp = 6\n",
            "FPR = 0.08, TPR = 0.25\n",
            "\n",
            "For threshold 0.0\n",
            "tp = 8, fn = 0, tn = 0, fp = 80\n",
            "FPR = 1.0, TPR = 1.0\n",
            "\n",
            "For threshold 0.5714285714285714\n",
            "tp = 2, fn = 6, tn = 79, fp = 1\n",
            "FPR = 0.01, TPR = 0.25\n",
            "\n",
            "For threshold 0.42857142857142855\n",
            "tp = 2, fn = 6, tn = 78, fp = 2\n",
            "FPR = 0.02, TPR = 0.25\n",
            "\n",
            "For threshold 0.2857142857142857\n",
            "tp = 2, fn = 6, tn = 71, fp = 9\n",
            "FPR = 0.11, TPR = 0.25\n",
            "\n",
            "For threshold 0.14285714285714285\n",
            "tp = 6, fn = 2, tn = 61, fp = 19\n",
            "FPR = 0.24, TPR = 0.75\n",
            "\n",
            "For threshold 0.0\n",
            "tp = 8, fn = 0, tn = 0, fp = 80\n",
            "FPR = 1.0, TPR = 1.0\n",
            "\n",
            "For threshold 0.89\n",
            "tp = 1, fn = 7, tn = 80, fp = 0\n",
            "FPR = 0.0, TPR = 0.12\n",
            "\n",
            "For threshold 0.84\n",
            "tp = 2, fn = 6, tn = 80, fp = 0\n",
            "FPR = 0.0, TPR = 0.25\n",
            "\n",
            "For threshold 0.69\n",
            "tp = 2, fn = 6, tn = 79, fp = 1\n",
            "FPR = 0.01, TPR = 0.25\n",
            "\n",
            "For threshold 0.53\n",
            "tp = 2, fn = 6, tn = 78, fp = 2\n",
            "FPR = 0.02, TPR = 0.25\n",
            "\n",
            "For threshold 0.51\n",
            "tp = 2, fn = 6, tn = 77, fp = 3\n",
            "FPR = 0.04, TPR = 0.25\n",
            "\n",
            "For threshold 0.5\n",
            "tp = 2, fn = 6, tn = 76, fp = 4\n",
            "FPR = 0.05, TPR = 0.25\n",
            "\n",
            "For threshold 0.36\n",
            "tp = 2, fn = 6, tn = 75, fp = 5\n",
            "FPR = 0.06, TPR = 0.25\n",
            "\n",
            "For threshold 0.31\n",
            "tp = 2, fn = 6, tn = 74, fp = 6\n",
            "FPR = 0.08, TPR = 0.25\n",
            "\n",
            "For threshold 0.25\n",
            "tp = 2, fn = 6, tn = 73, fp = 7\n",
            "FPR = 0.09, TPR = 0.25\n",
            "\n",
            "For threshold 0.23\n",
            "tp = 2, fn = 6, tn = 72, fp = 8\n",
            "FPR = 0.1, TPR = 0.25\n",
            "\n",
            "For threshold 0.15\n",
            "tp = 2, fn = 6, tn = 70, fp = 10\n",
            "FPR = 0.12, TPR = 0.25\n",
            "\n",
            "For threshold 0.13\n",
            "tp = 3, fn = 5, tn = 69, fp = 11\n",
            "FPR = 0.14, TPR = 0.38\n",
            "\n",
            "For threshold 0.12\n",
            "tp = 3, fn = 5, tn = 68, fp = 12\n",
            "FPR = 0.15, TPR = 0.38\n",
            "\n",
            "For threshold 0.11\n",
            "tp = 4, fn = 4, tn = 67, fp = 13\n",
            "FPR = 0.16, TPR = 0.5\n",
            "\n",
            "For threshold 0.1\n",
            "tp = 4, fn = 4, tn = 66, fp = 14\n",
            "FPR = 0.18, TPR = 0.5\n",
            "\n",
            "For threshold 0.09\n",
            "tp = 4, fn = 4, tn = 64, fp = 16\n",
            "FPR = 0.2, TPR = 0.5\n",
            "\n",
            "For threshold 0.08\n",
            "tp = 4, fn = 4, tn = 62, fp = 18\n",
            "FPR = 0.22, TPR = 0.5\n",
            "\n",
            "For threshold 0.07\n",
            "tp = 4, fn = 4, tn = 61, fp = 19\n",
            "FPR = 0.24, TPR = 0.5\n",
            "\n",
            "For threshold 0.05\n",
            "tp = 4, fn = 4, tn = 59, fp = 21\n",
            "FPR = 0.26, TPR = 0.5\n",
            "\n",
            "For threshold 0.04\n",
            "tp = 5, fn = 3, tn = 57, fp = 23\n",
            "FPR = 0.29, TPR = 0.62\n",
            "\n",
            "For threshold 0.03\n",
            "tp = 5, fn = 3, tn = 56, fp = 24\n",
            "FPR = 0.3, TPR = 0.62\n",
            "\n",
            "For threshold 0.02\n",
            "tp = 5, fn = 3, tn = 50, fp = 30\n",
            "FPR = 0.38, TPR = 0.62\n",
            "\n",
            "For threshold 0.01\n",
            "tp = 6, fn = 2, tn = 43, fp = 37\n",
            "FPR = 0.46, TPR = 0.75\n",
            "\n",
            "For threshold 0.0\n",
            "tp = 8, fn = 0, tn = 0, fp = 80\n",
            "FPR = 1.0, TPR = 1.0\n",
            "\n"
          ],
          "name": "stdout"
        }
      ]
    },
    {
      "cell_type": "code",
      "metadata": {
        "id": "7YwTbxpJHnJV",
        "colab": {
          "base_uri": "https://localhost:8080/"
        },
        "outputId": "afe4af2e-d8cd-4ab9-fc4a-8099bc90ff74"
      },
      "source": [
        "top_row =  pd.DataFrame({'FPR':0, 'TPR':0}, index=[1.0])\n",
        "##### YOUR CODE STARTS #####\n",
        "#print(dt_roc_coordinates)\n",
        "final_dt_roc_coordinates = pd.concat([top_row, dt_roc_coordinates])\n",
        "final_dt_roc_coordinates = final_dt_roc_coordinates.astype('float') \n",
        "print(final_dt_roc_coordinates)\n",
        "\n",
        "final_knn_roc_coordinates = pd.concat([top_row, knn_roc_coordinates])\n",
        "final_knn_roc_coordinates = final_knn_roc_coordinates.astype('float') \n",
        "\n",
        "final_rf_roc_coordinates = pd.concat([top_row, rf_roc_coordinates])\n",
        "final_rf_roc_coordinates = final_rf_roc_coordinates.astype('float') \n",
        "##### YOUR CODE ENDS #####"
      ],
      "execution_count": 169,
      "outputs": [
        {
          "output_type": "stream",
          "text": [
            "      FPR   TPR\n",
            "1.0  0.00  0.00\n",
            "1.0  0.08  0.25\n",
            "0.0  1.00  1.00\n"
          ],
          "name": "stdout"
        }
      ]
    },
    {
      "cell_type": "code",
      "metadata": {
        "id": "DxSv-nGxIBig",
        "colab": {
          "base_uri": "https://localhost:8080/",
          "height": 480
        },
        "outputId": "193731cc-5779-4a2f-a75d-fc7c124ef96b"
      },
      "source": [
        "# plot corresponding ROCs using plot_roc()\n",
        "##### YOUR CODE STARTS #####\n",
        "plot_roc(dict({'dt': final_dt_roc_coordinates,\n",
        "               'rf': final_rf_roc_coordinates,\n",
        "               'knn': final_knn_roc_coordinates}))\n",
        "##### YOUR CODE ENDS #####"
      ],
      "execution_count": 177,
      "outputs": [
        {
          "output_type": "display_data",
          "data": {
            "image/png": "[encoded data removed]",
            "text/plain": [
              "<Figure size 500x500 with 1 Axes>"
            ]
          },
          "metadata": {
            "tags": []
          }
        },
        {
          "output_type": "execute_result",
          "data": {
            "text/plain": [
              "<ggplot: (-9223363275269925453)>"
            ]
          },
          "metadata": {
            "tags": []
          },
          "execution_count": 177
        }
      ]
    },
    {
      "cell_type": "markdown",
      "metadata": {
        "id": "24g676cmxdn_"
      },
      "source": [
        "<font color='red'>  **(Homework exercise 2- e)** Calculate and print AUC for each model (use *sklearn*). Compare resulting values to previously calculated accuracies. Comment on the difference that you observe. **(0.5 points)**</font> "
      ]
    },
    {
      "cell_type": "code",
      "metadata": {
        "id": "dSD6f8k0IJGu",
        "colab": {
          "base_uri": "https://localhost:8080/"
        },
        "outputId": "b85c67d3-6744-48ba-80fb-64b83614e108"
      },
      "source": [
        "##### YOUR CODE STARTS #####\n",
        "print(f\"AUC of DT is {np.round(metrics.roc_auc_score(val['class'], predictions_dtr),2)}\")\n",
        "print(f\"AUC of KNN is {np.round(metrics.roc_auc_score(val['class'], predictions_knn),2)}\")\n",
        "print(f\"AUC of RF is {np.round(metrics.roc_auc_score(val['class'], predictions_rfc),2)}\")\n",
        "##### YOUR CODE ENDS #####"
      ],
      "execution_count": 181,
      "outputs": [
        {
          "output_type": "stream",
          "text": [
            "AUC of DT is 0.52\n",
            "AUC of KNN is 0.55\n",
            "AUC of RF is 0.47\n"
          ],
          "name": "stdout"
        }
      ]
    },
    {
      "cell_type": "markdown",
      "metadata": {
        "id": "bjiBbyeYxtmX"
      },
      "source": [
        "Comment on the difference between AUC and accuracy here:\n",
        "\n",
        "We have :\n",
        "\n",
        "\n",
        "*   Accuracy of DT is 84%\n",
        "*   Accuracy of KNN is 90%\n",
        "*   Accuracy of RF is 85%\n",
        "\n",
        "and\n",
        "*   AUC of DT is 52%\n",
        "*   AUC of KNN is 55%\n",
        "*   AUC of RF is 47%\n",
        "\n",
        "The accuracy is helpful to see our model in general. But what we see with the AUC, is how the TPR and FPR are in this misclassified predictions. Here, the KNN is more accurate and have a better AUC but actually, an AUC of 50% is never really good, because it means that our models can't distinguish between positive and negative class.\n"
      ]
    },
    {
      "cell_type": "markdown",
      "metadata": {
        "id": "FUL2UsmQMjcU"
      },
      "source": [
        "<font color='red'>  **(Homework exercise 2- f)** Add one or two more classifiers to the pool of three that we have explored above. Consult *sklearn*'s documentation: https://scikit-learn.org/stable/supervised_learning.html. Calculate accuracy for the new model(s) and visualise all ROCs together on the same plot (3 old models + new that you find). Calculate AUC for these classifieres. Try to find a model which would outperform the previous three.  **(1.5 points)**</font> "
      ]
    },
    {
      "cell_type": "code",
      "metadata": {
        "id": "__sptAdYMiPc"
      },
      "source": [
        "from sklearn.svm import SVC\n",
        "from sklearn.ensemble import GradientBoostingClassifier\n",
        "\n",
        "np.random.seed(1111) # random seed for consistency\n",
        "\n",
        "##### YOUR CODE STARTS #####\n",
        "svm = SVC()\n",
        "svm.fit(train[['x1','x2']], train[['class']])\n",
        "predictions_svm = svm.predict(val[['x1','x2']])\n",
        "\n",
        "gboost = GradientBoostingClassifier()\n",
        "gboost.fit(train[['x1','x2']], train[['class']])\n",
        "predictions_gboost = gboost.predict(val[['x1','x2']])\n",
        "##### YOUR CODE ENDS #####"
      ],
      "execution_count": 191,
      "outputs": []
    },
    {
      "cell_type": "code",
      "metadata": {
        "id": "uihXSnVqzF8r",
        "colab": {
          "base_uri": "https://localhost:8080/"
        },
        "outputId": "17abdadc-a3bf-4a5c-aae8-1bd4621c778c"
      },
      "source": [
        "##### YOUR CODE STARTS #####\n",
        "print(f\"Accuracy of SVM is {np.round(metrics.accuracy_score(val[['class']], predictions_svm),2)*100}%\")\n",
        "print(f\"AUC of SVM is {np.round(metrics.roc_auc_score(val['class'], predictions_svm),2)*100}%\")\n",
        "\n",
        "print(f\"Accuracy of GBoost is {np.round(metrics.accuracy_score(val[['class']], predictions_gboost),2)*100}%\")\n",
        "print(f\"AUC of GBoost is {np.round(metrics.roc_auc_score(val['class'], predictions_gboost),2)*100}%\")\n",
        "##### YOUR CODE ENDS #####"
      ],
      "execution_count": 193,
      "outputs": [
        {
          "output_type": "stream",
          "text": [
            "Accuracy of SVM is 91.0%\n",
            "AUC of SVM is 50.0%\n",
            "Accuracy of GBoost is 89.0%\n",
            "AUC of GBoost is 60.0%\n"
          ],
          "name": "stdout"
        }
      ]
    },
    {
      "cell_type": "markdown",
      "metadata": {
        "id": "frqgVpOI7prr"
      },
      "source": [
        "So we found GBoost who is better than our previous model, with an AUC of 60%."
      ]
    },
    {
      "cell_type": "code",
      "metadata": {
        "id": "6tF1Pblc7vHk"
      },
      "source": [
        ""
      ],
      "execution_count": null,
      "outputs": []
    }
  ]
}